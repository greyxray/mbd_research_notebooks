{
  "cells": [
    {
      "cell_type": "markdown",
      "metadata": {
        "id": "view-in-github",
        "colab_type": "text"
      },
      "source": [
        "<a href=\"https://colab.research.google.com/github/greyxray/mbd_research_notebooks/blob/main/Knowledge_Sharing.ipynb\" target=\"_parent\"><img src=\"https://colab.research.google.com/assets/colab-badge.svg\" alt=\"Open In Colab\"/></a>"
      ]
    },
    {
      "cell_type": "code",
      "execution_count": 9,
      "id": "0635080e",
      "metadata": {
        "id": "0635080e"
      },
      "outputs": [],
      "source": [
        "import numpy as np\n",
        "from graphviz import Digraph\n",
        "import matplotlib.pyplot as plt"
      ]
    },
    {
      "cell_type": "markdown",
      "id": "09656bda",
      "metadata": {
        "id": "09656bda"
      },
      "source": [
        "# Aim:\n",
        "We'll talk about deep learning, but not JUST deep learning. My hope is to also bring up some interesting engineering challenges.\n",
        "\n",
        "We will begin by starting with shallow neural networks, backpropagation and optimization techniques.\n",
        "\n",
        "Next we will go into convolutional neural networks, the history of CNN architectures, some interesting and useful libraries.\n",
        "\n",
        "Then we talk about image classification, object detection and segmentation.\n",
        "\n",
        "From there we will go into generative models, hopefully talking about GANs, normalizing flows and score based models (diffusion models).\n",
        "\n",
        "The goal is to keep up to date with topics in deep learning, think of ways where we might see these techniques being useful at the org and the engineering challenges will also translate to real world problem solving.\n",
        "\n",
        "This may also provide inspiration and motivation, which is never a bad thing.\n",
        "\n",
        "\n",
        "### So let's begin by asking a simple question: what is a neural networks?\n",
        "Simply put: Just a bunch of numbers, which are found using data. These numbers and some input are together passed through a computational graph made of simple operations to produce an output.\n",
        "\n",
        "Another way of looking at is: It's a function, can be a very complicated and long function, but always a function.\n",
        "\n",
        "\n",
        "## Today's Topic:\n",
        "Let's look at it more in depth as a function, talk about gradients, how backpropagation works and how pytorch implements computational graphs and backprop:\n",
        "\n",
        "I know this is a team of data scientists and this topic might be already familiar, or trivial to you. But it's good practice to start from the bottom, so that we are all on the same page regarding notation and intricacies."
      ]
    },
    {
      "cell_type": "code",
      "execution_count": 6,
      "id": "6f9ed32b",
      "metadata": {
        "id": "6f9ed32b",
        "outputId": "5d6850db-a4cb-49c2-b615-219ed6681d28",
        "colab": {
          "base_uri": "https://localhost:8080/"
        }
      },
      "outputs": [
        {
          "output_type": "execute_result",
          "data": {
            "text/plain": [
              "40"
            ]
          },
          "metadata": {},
          "execution_count": 6
        }
      ],
      "source": [
        "# Let's define a simple function - A parabola in this case\n",
        "def f(x):\n",
        "    return 4*x**2 + 4\n",
        "\n",
        "# Yay we can evaluate this function at a given input value\n",
        "f(3)"
      ]
    },
    {
      "cell_type": "code",
      "execution_count": 7,
      "id": "d2fbd198",
      "metadata": {
        "id": "d2fbd198",
        "outputId": "722d790c-8aef-457e-eeb7-099f2222d6aa",
        "colab": {
          "base_uri": "https://localhost:8080/",
          "height": 448
        }
      },
      "outputs": [
        {
          "output_type": "execute_result",
          "data": {
            "text/plain": [
              "[<matplotlib.lines.Line2D at 0x7b39847c4c10>]"
            ]
          },
          "metadata": {},
          "execution_count": 7
        },
        {
          "output_type": "display_data",
          "data": {
            "text/plain": [
              "<Figure size 640x480 with 1 Axes>"
            ],
            "image/png": "[encoded data removed]"
          },
          "metadata": {}
        }
      ],
      "source": [
        "# Let's plot the function over a range of -5 to 5\n",
        "xs = np.arange(-5, 5, 0.25)\n",
        "ys = f(xs)\n",
        "plt.plot(xs, ys)"
      ]
    },
    {
      "cell_type": "markdown",
      "id": "60a7dfb3",
      "metadata": {
        "id": "60a7dfb3"
      },
      "source": [
        "Functions can be differentiated (assuming there are no discontinuities in the function). Symbolic differentiation is what we've been taught in calculus, but in computers it is much more easier to simply just use the analytic gradient.\n",
        "The analytic gradient is: (f(x + h) - f(x)) / h where h approaches 0. So basically, how much does the function change, if the input changes very slightly. Here is a demonstration of the analytic gradient for the function defined above."
      ]
    },
    {
      "cell_type": "code",
      "execution_count": 8,
      "id": "bfe9185c",
      "metadata": {
        "id": "bfe9185c",
        "outputId": "be3d2a64-42e8-488e-8d88-73cad6d2bacf",
        "colab": {
          "base_uri": "https://localhost:8080/"
        }
      },
      "outputs": [
        {
          "output_type": "execute_result",
          "data": {
            "text/plain": [
              "-7.99960000000155"
            ]
          },
          "metadata": {},
          "execution_count": 8
        }
      ],
      "source": [
        "# Analytic gradient\n",
        "h = 0.0001\n",
        "x = -1\n",
        "grad = (f(x + h) - f(x)) / h\n",
        "grad\n",
        "\n",
        "# Symbolic graident = d/dx(4x**2 + 4) -> 8x + 0 -> 8x -> 8(-1) -> -8\n",
        "\n",
        "# Yaayyy symbolic == analytic (approximately)"
      ]
    },
    {
      "cell_type": "code",
      "execution_count": 3,
      "id": "9f524f1a",
      "metadata": {
        "id": "9f524f1a",
        "outputId": "43b9655c-5548-4bf6-90d3-a65bacdb2968",
        "colab": {
          "base_uri": "https://localhost:8080/"
        }
      },
      "outputs": [
        {
          "output_type": "stream",
          "name": "stdout",
          "text": [
            "gradient of d w.r.t a: -3.000000000010772\n"
          ]
        }
      ],
      "source": [
        "# Slightly more complex:\n",
        "a = 2.0\n",
        "b = -3.0\n",
        "c = 10.0\n",
        "d = a * b + c\n",
        "\n",
        "d1 = a * b + c\n",
        "a += h\n",
        "d2 = a * b + c\n",
        "print(\"gradient of d w.r.t a:\", (d2-d1)/h)"
      ]
    },
    {
      "cell_type": "markdown",
      "id": "2a179e73",
      "metadata": {
        "id": "2a179e73"
      },
      "source": [
        "Let's build up from here and create a datastructure which will allow us to define computational graphs, and calculate gradients (leading us to backprop):"
      ]
    },
    {
      "cell_type": "code",
      "execution_count": 10,
      "id": "9be4678c",
      "metadata": {
        "id": "9be4678c",
        "outputId": "8b110402-6bed-4c9b-90c8-b6bbf4da5654",
        "colab": {
          "base_uri": "https://localhost:8080/"
        }
      },
      "outputs": [
        {
          "output_type": "stream",
          "name": "stdout",
          "text": [
            "Scalar(data=2.0)\n"
          ]
        }
      ],
      "source": [
        "class Scalar:\n",
        "\n",
        "    def __init__(self, data):\n",
        "        self.data = data\n",
        "\n",
        "    def __repr__(self):\n",
        "        return f\"Scalar(data={self.data})\"\n",
        "\n",
        "a = Scalar(2.0)\n",
        "b = Scalar(-3.0)\n",
        "c = Scalar(10.0)\n",
        "print(a)"
      ]
    },
    {
      "cell_type": "markdown",
      "id": "ad124d37",
      "metadata": {
        "id": "ad124d37"
      },
      "source": [
        "Nothing special so far, but we can add some python operations to our class so we can add and multiply different Scalar objects together:"
      ]
    },
    {
      "cell_type": "code",
      "execution_count": 11,
      "id": "a786c083",
      "metadata": {
        "id": "a786c083",
        "outputId": "a8d62612-4cc8-4393-c294-17e6cf2b10a6",
        "colab": {
          "base_uri": "https://localhost:8080/"
        }
      },
      "outputs": [
        {
          "output_type": "stream",
          "name": "stdout",
          "text": [
            "Scalar(data=4.0)\n"
          ]
        }
      ],
      "source": [
        "class Scalar:\n",
        "\n",
        "    def __init__(self, data):\n",
        "        self.data = data\n",
        "\n",
        "    def __repr__(self):\n",
        "        return f\"Scalar(data={self.data})\"\n",
        "\n",
        "    def __add__(self, other):\n",
        "        out = self.data + other.data\n",
        "        return Scalar(out)\n",
        "\n",
        "    def __mul__(self, other):\n",
        "        out = self.data * other.data\n",
        "        return Scalar(out)\n",
        "\n",
        "a = Scalar(2.0)\n",
        "b = Scalar(-3.0)\n",
        "c = Scalar(10.0)\n",
        "d = a * b + c\n",
        "print(d)"
      ]
    },
    {
      "cell_type": "markdown",
      "id": "c66cb9cb",
      "metadata": {
        "id": "c66cb9cb"
      },
      "source": [
        "So now we have the \"computational\" part of the computational graph. Let's add the graph part:\n",
        "\n",
        "We include a \"_prev\" attribute which basically stores which scalar objects created this Scalar."
      ]
    },
    {
      "cell_type": "code",
      "execution_count": 12,
      "id": "58419729",
      "metadata": {
        "id": "58419729",
        "outputId": "842f23b6-537f-4e91-a34e-f376da39a525",
        "colab": {
          "base_uri": "https://localhost:8080/"
        }
      },
      "outputs": [
        {
          "output_type": "stream",
          "name": "stdout",
          "text": [
            "Scalar(data=4.0)\n",
            "{Scalar(data=-6.0), Scalar(data=10.0)}\n"
          ]
        }
      ],
      "source": [
        "class Scalar:\n",
        "\n",
        "    def __init__(self, data, _children=()):\n",
        "        self.data = data\n",
        "        self._prev = set(_children)\n",
        "\n",
        "    def __repr__(self):\n",
        "        return f\"Scalar(data={self.data})\"\n",
        "\n",
        "    def __add__(self, other):\n",
        "        out = self.data + other.data\n",
        "        return Scalar(out, (self, other))\n",
        "\n",
        "    def __mul__(self, other):\n",
        "        out = self.data * other.data\n",
        "        return Scalar(out, (self, other))\n",
        "\n",
        "a = Scalar(2.0)\n",
        "b = Scalar(-3.0)\n",
        "c = Scalar(10.0)\n",
        "d = a * b + c\n",
        "print(d)\n",
        "print(d._prev)"
      ]
    },
    {
      "cell_type": "markdown",
      "id": "5bd600b6",
      "metadata": {
        "id": "5bd600b6"
      },
      "source": [
        "For completeness, let's record what operation created the new Scalar as well:"
      ]
    },
    {
      "cell_type": "code",
      "execution_count": 13,
      "id": "13605e94",
      "metadata": {
        "id": "13605e94",
        "outputId": "cef27fca-6ac7-4eee-eb7c-694d81b37c79",
        "colab": {
          "base_uri": "https://localhost:8080/"
        }
      },
      "outputs": [
        {
          "output_type": "stream",
          "name": "stdout",
          "text": [
            "Scalar(data=4.0)\n",
            "{Scalar(data=-6.0), Scalar(data=10.0)}\n",
            "+\n"
          ]
        }
      ],
      "source": [
        "class Scalar:\n",
        "\n",
        "    def __init__(self, data, _children=(), _op=\"\"):\n",
        "        self.data = data\n",
        "        self._prev = set(_children)\n",
        "        self._op = _op\n",
        "\n",
        "    def __repr__(self):\n",
        "        return f\"Scalar(data={self.data})\"\n",
        "\n",
        "    def __add__(self, other):\n",
        "        out = self.data + other.data\n",
        "        return Scalar(out, (self, other), \"+\")\n",
        "\n",
        "    def __mul__(self, other):\n",
        "        out = self.data * other.data\n",
        "        return Scalar(out, (self, other), \"*\")\n",
        "\n",
        "a = Scalar(2.0)\n",
        "b = Scalar(-3.0)\n",
        "c = Scalar(10.0)\n",
        "d = a * b + c\n",
        "print(d)\n",
        "print(d._prev)\n",
        "print(d._op)"
      ]
    },
    {
      "cell_type": "markdown",
      "id": "279f5472",
      "metadata": {
        "id": "279f5472"
      },
      "source": [
        "Some boilerplate code to draw the computational graph given a root node:"
      ]
    },
    {
      "cell_type": "code",
      "execution_count": 14,
      "id": "cf6fa1bc",
      "metadata": {
        "id": "cf6fa1bc",
        "outputId": "a5e3f994-cf31-4bff-995e-50c80a2d74af",
        "colab": {
          "base_uri": "https://localhost:8080/",
          "height": 190
        }
      },
      "outputs": [
        {
          "output_type": "execute_result",
          "data": {
            "image/svg+xml": "<?xml version=\"1.0\" encoding=\"UTF-8\" standalone=\"no\"?>\n<!DOCTYPE svg PUBLIC \"-//W3C//DTD SVG 1.1//EN\"\n \"http://www.w3.org/Graphics/SVG/1.1/DTD/svg11.dtd\">\n<!-- Generated by graphviz version 2.43.0 (0)\n -->\n<!-- Title: %3 Pages: 1 -->\n<svg width=\"512pt\" height=\"127pt\"\n viewBox=\"0.00 0.00 512.00 127.00\" xmlns=\"http://www.w3.org/2000/svg\" xmlns:xlink=\"http://www.w3.org/1999/xlink\">\n<g id=\"graph0\" class=\"graph\" transform=\"scale(1 1) rotate(0) translate(4 123)\">\n<title>%3</title>\n<polygon fill=\"white\" stroke=\"transparent\" points=\"-4,4 -4,-123 508,-123 508,4 -4,4\"/>\n<!-- 135486964856384 -->\n<g id=\"node1\" class=\"node\">\n<title>135486964856384</title>\n<polygon fill=\"none\" stroke=\"black\" points=\"424,-54.5 424,-90.5 504,-90.5 504,-54.5 424,-54.5\"/>\n<text text-anchor=\"middle\" x=\"464\" y=\"-68.8\" font-family=\"Times,serif\" font-size=\"14.00\">data 4.0000</text>\n</g>\n<!-- 135486964856384+ -->\n<g id=\"node2\" class=\"node\">\n<title>135486964856384+</title>\n<ellipse fill=\"none\" stroke=\"black\" cx=\"361\" cy=\"-72.5\" rx=\"27\" ry=\"18\"/>\n<text text-anchor=\"middle\" x=\"361\" y=\"-68.8\" font-family=\"Times,serif\" font-size=\"14.00\">+</text>\n</g>\n<!-- 135486964856384+&#45;&gt;135486964856384 -->\n<g id=\"edge1\" class=\"edge\">\n<title>135486964856384+&#45;&gt;135486964856384</title>\n<path fill=\"none\" stroke=\"black\" d=\"M388.01,-72.5C395.82,-72.5 404.67,-72.5 413.48,-72.5\"/>\n<polygon fill=\"black\" stroke=\"black\" points=\"413.73,-76 423.73,-72.5 413.73,-69 413.73,-76\"/>\n</g>\n<!-- 135486964848224 -->\n<g id=\"node3\" class=\"node\">\n<title>135486964848224</title>\n<polygon fill=\"none\" stroke=\"black\" points=\"0,-55.5 0,-91.5 85,-91.5 85,-55.5 0,-55.5\"/>\n<text text-anchor=\"middle\" x=\"42.5\" y=\"-69.8\" font-family=\"Times,serif\" font-size=\"14.00\">data &#45;3.0000</text>\n</g>\n<!-- 135486964851152* -->\n<g id=\"node7\" class=\"node\">\n<title>135486964851152*</title>\n<ellipse fill=\"none\" stroke=\"black\" cx=\"148\" cy=\"-45.5\" rx=\"27\" ry=\"18\"/>\n<text text-anchor=\"middle\" x=\"148\" y=\"-41.8\" font-family=\"Times,serif\" font-size=\"14.00\">*</text>\n</g>\n<!-- 135486964848224&#45;&gt;135486964851152* -->\n<g id=\"edge3\" class=\"edge\">\n<title>135486964848224&#45;&gt;135486964851152*</title>\n<path fill=\"none\" stroke=\"black\" d=\"M85,-62.27C94.32,-59.75 104.1,-57.11 113.06,-54.68\"/>\n<polygon fill=\"black\" stroke=\"black\" points=\"114.03,-58.04 122.77,-52.05 112.2,-51.29 114.03,-58.04\"/>\n</g>\n<!-- 135486964847456 -->\n<g id=\"node4\" class=\"node\">\n<title>135486964847456</title>\n<polygon fill=\"none\" stroke=\"black\" points=\"211,-82.5 211,-118.5 298,-118.5 298,-82.5 211,-82.5\"/>\n<text text-anchor=\"middle\" x=\"254.5\" y=\"-96.8\" font-family=\"Times,serif\" font-size=\"14.00\">data 10.0000</text>\n</g>\n<!-- 135486964847456&#45;&gt;135486964856384+ -->\n<g id=\"edge4\" class=\"edge\">\n<title>135486964847456&#45;&gt;135486964856384+</title>\n<path fill=\"none\" stroke=\"black\" d=\"M298,-89.11C307.18,-86.65 316.78,-84.08 325.6,-81.72\"/>\n<polygon fill=\"black\" stroke=\"black\" points=\"326.78,-85.02 335.53,-79.06 324.97,-78.26 326.78,-85.02\"/>\n</g>\n<!-- 135486964847552 -->\n<g id=\"node5\" class=\"node\">\n<title>135486964847552</title>\n<polygon fill=\"none\" stroke=\"black\" points=\"2.5,-0.5 2.5,-36.5 82.5,-36.5 82.5,-0.5 2.5,-0.5\"/>\n<text text-anchor=\"middle\" x=\"42.5\" y=\"-14.8\" font-family=\"Times,serif\" font-size=\"14.00\">data 2.0000</text>\n</g>\n<!-- 135486964847552&#45;&gt;135486964851152* -->\n<g id=\"edge5\" class=\"edge\">\n<title>135486964847552&#45;&gt;135486964851152*</title>\n<path fill=\"none\" stroke=\"black\" d=\"M82.63,-28.71C92.47,-31.27 102.95,-34.01 112.54,-36.51\"/>\n<polygon fill=\"black\" stroke=\"black\" points=\"111.96,-39.98 122.52,-39.11 113.73,-33.2 111.96,-39.98\"/>\n</g>\n<!-- 135486964851152 -->\n<g id=\"node6\" class=\"node\">\n<title>135486964851152</title>\n<polygon fill=\"none\" stroke=\"black\" points=\"212,-27.5 212,-63.5 297,-63.5 297,-27.5 212,-27.5\"/>\n<text text-anchor=\"middle\" x=\"254.5\" y=\"-41.8\" font-family=\"Times,serif\" font-size=\"14.00\">data &#45;6.0000</text>\n</g>\n<!-- 135486964851152&#45;&gt;135486964856384+ -->\n<g id=\"edge6\" class=\"edge\">\n<title>135486964851152&#45;&gt;135486964856384+</title>\n<path fill=\"none\" stroke=\"black\" d=\"M297.1,-56.25C306.61,-58.71 316.62,-61.29 325.78,-63.66\"/>\n<polygon fill=\"black\" stroke=\"black\" points=\"325.13,-67.11 335.69,-66.22 326.88,-60.33 325.13,-67.11\"/>\n</g>\n<!-- 135486964851152*&#45;&gt;135486964851152 -->\n<g id=\"edge2\" class=\"edge\">\n<title>135486964851152*&#45;&gt;135486964851152</title>\n<path fill=\"none\" stroke=\"black\" d=\"M175.1,-45.5C183.27,-45.5 192.59,-45.5 201.88,-45.5\"/>\n<polygon fill=\"black\" stroke=\"black\" points=\"201.89,-49 211.89,-45.5 201.89,-42 201.89,-49\"/>\n</g>\n</g>\n</svg>\n",
            "text/plain": [
              "<graphviz.graphs.Digraph at 0x7b39846962c0>"
            ]
          },
          "metadata": {},
          "execution_count": 14
        }
      ],
      "source": [
        "def trace(root):\n",
        "    nodes, edges = set(), set()\n",
        "    def build(v):\n",
        "        if v not in nodes:\n",
        "            nodes.add(v)\n",
        "            for child in v._prev:\n",
        "                edges.add((child, v))\n",
        "                build(child)\n",
        "    build(root)\n",
        "    return nodes, edges\n",
        "\n",
        "def draw(root):\n",
        "    g = Digraph(format=\"svg\", graph_attr={\"rankdir\": \"LR\"})\n",
        "    nodes, edges = trace(root)\n",
        "    for n in nodes:\n",
        "        uid = str(id(n))\n",
        "        g.node(name=uid, label= \"{ data %.4f}\" % (n.data, ), shape=\"record\")\n",
        "        if n._op:\n",
        "            g.node(name = uid + n._op, label = n._op)\n",
        "            g.edge(uid + n._op, uid)\n",
        "\n",
        "    for n1, n2 in edges:\n",
        "        g.edge(str(id(n1)), str(id(n2)) + n2._op)\n",
        "    return g\n",
        "\n",
        "draw(d)"
      ]
    },
    {
      "cell_type": "markdown",
      "id": "5f0b5ed7",
      "metadata": {
        "id": "5f0b5ed7"
      },
      "source": [
        "Yay, now I've proved to you that computational graphs can be built in just a couple of lines of code. Not much overhead required at all. Now let's turn this into a \"deep learning\" library by adding the capability to store gradients for each node, so we can run backpropagation:"
      ]
    },
    {
      "cell_type": "code",
      "execution_count": 15,
      "id": "b1a63cbb",
      "metadata": {
        "id": "b1a63cbb",
        "outputId": "9a30a415-4c27-4ee2-94a9-d2ed4138b3e4",
        "colab": {
          "base_uri": "https://localhost:8080/",
          "height": 302
        }
      },
      "outputs": [
        {
          "output_type": "stream",
          "name": "stdout",
          "text": [
            "Scalar(data=48.0)\n",
            "{Scalar(data=4.0), Scalar(data=12)}\n"
          ]
        },
        {
          "output_type": "execute_result",
          "data": {
            "image/svg+xml": "<?xml version=\"1.0\" encoding=\"UTF-8\" standalone=\"no\"?>\n<!DOCTYPE svg PUBLIC \"-//W3C//DTD SVG 1.1//EN\"\n \"http://www.w3.org/Graphics/SVG/1.1/DTD/svg11.dtd\">\n<!-- Generated by graphviz version 2.43.0 (0)\n -->\n<!-- Title: %3 Pages: 1 -->\n<svg width=\"826pt\" height=\"184pt\"\n viewBox=\"0.00 0.00 826.00 184.00\" xmlns=\"http://www.w3.org/2000/svg\" xmlns:xlink=\"http://www.w3.org/1999/xlink\">\n<g id=\"graph0\" class=\"graph\" transform=\"scale(1 1) rotate(0) translate(4 180)\">\n<title>%3</title>\n<polygon fill=\"white\" stroke=\"transparent\" points=\"-4,4 -4,-180 822,-180 822,4 -4,4\"/>\n<!-- 135486964515840 -->\n<g id=\"node1\" class=\"node\">\n<title>135486964515840</title>\n<polygon fill=\"none\" stroke=\"black\" points=\"474.5,-64.5 474.5,-110.5 575.5,-110.5 575.5,-64.5 474.5,-64.5\"/>\n<text text-anchor=\"middle\" x=\"485\" y=\"-95.3\" font-family=\"Times,serif\" font-size=\"14.00\">f</text>\n<polyline fill=\"none\" stroke=\"black\" points=\"495.5,-87.5 495.5,-110.5 \"/>\n<text text-anchor=\"middle\" x=\"535.5\" y=\"-95.3\" font-family=\"Times,serif\" font-size=\"14.00\">data 4.0000</text>\n<polyline fill=\"none\" stroke=\"black\" points=\"474.5,-87.5 575.5,-87.5 \"/>\n<text text-anchor=\"middle\" x=\"525\" y=\"-72.3\" font-family=\"Times,serif\" font-size=\"14.00\">grad 0.0000</text>\n</g>\n<!-- 135486964515888* -->\n<g id=\"node4\" class=\"node\">\n<title>135486964515888*</title>\n<ellipse fill=\"none\" stroke=\"black\" cx=\"643\" cy=\"-119.5\" rx=\"27\" ry=\"18\"/>\n<text text-anchor=\"middle\" x=\"643\" y=\"-115.8\" font-family=\"Times,serif\" font-size=\"14.00\">*</text>\n</g>\n<!-- 135486964515840&#45;&gt;135486964515888* -->\n<g id=\"edge7\" class=\"edge\">\n<title>135486964515840&#45;&gt;135486964515888*</title>\n<path fill=\"none\" stroke=\"black\" d=\"M575.53,-101.16C586.52,-104.2 597.93,-107.34 608.13,-110.16\"/>\n<polygon fill=\"black\" stroke=\"black\" points=\"607.29,-113.55 617.86,-112.84 609.15,-106.81 607.29,-113.55\"/>\n</g>\n<!-- 135486964515840+ -->\n<g id=\"node2\" class=\"node\">\n<title>135486964515840+</title>\n<ellipse fill=\"none\" stroke=\"black\" cx=\"407\" cy=\"-87.5\" rx=\"27\" ry=\"18\"/>\n<text text-anchor=\"middle\" x=\"407\" y=\"-83.8\" font-family=\"Times,serif\" font-size=\"14.00\">+</text>\n</g>\n<!-- 135486964515840+&#45;&gt;135486964515840 -->\n<g id=\"edge1\" class=\"edge\">\n<title>135486964515840+&#45;&gt;135486964515840</title>\n<path fill=\"none\" stroke=\"black\" d=\"M434.03,-87.5C443.04,-87.5 453.55,-87.5 464.14,-87.5\"/>\n<polygon fill=\"black\" stroke=\"black\" points=\"464.27,-91 474.27,-87.5 464.27,-84 464.27,-91\"/>\n</g>\n<!-- 135486964515888 -->\n<g id=\"node3\" class=\"node\">\n<title>135486964515888</title>\n<polygon fill=\"none\" stroke=\"black\" points=\"706,-96.5 706,-142.5 818,-142.5 818,-96.5 706,-96.5\"/>\n<text text-anchor=\"middle\" x=\"718.5\" y=\"-127.3\" font-family=\"Times,serif\" font-size=\"14.00\">L</text>\n<polyline fill=\"none\" stroke=\"black\" points=\"731,-119.5 731,-142.5 \"/>\n<text text-anchor=\"middle\" x=\"774.5\" y=\"-127.3\" font-family=\"Times,serif\" font-size=\"14.00\">data 48.0000</text>\n<polyline fill=\"none\" stroke=\"black\" points=\"706,-119.5 818,-119.5 \"/>\n<text text-anchor=\"middle\" x=\"762\" y=\"-104.3\" font-family=\"Times,serif\" font-size=\"14.00\">grad 0.0000</text>\n</g>\n<!-- 135486964515888*&#45;&gt;135486964515888 -->\n<g id=\"edge2\" class=\"edge\">\n<title>135486964515888*&#45;&gt;135486964515888</title>\n<path fill=\"none\" stroke=\"black\" d=\"M670.26,-119.5C677.89,-119.5 686.6,-119.5 695.52,-119.5\"/>\n<polygon fill=\"black\" stroke=\"black\" points=\"695.64,-123 705.64,-119.5 695.64,-116 695.64,-123\"/>\n</g>\n<!-- 135486964307552 -->\n<g id=\"node5\" class=\"node\">\n<title>135486964307552</title>\n<polygon fill=\"none\" stroke=\"black\" points=\"234,-97.5 234,-143.5 344,-143.5 344,-97.5 234,-97.5\"/>\n<text text-anchor=\"middle\" x=\"245.5\" y=\"-128.3\" font-family=\"Times,serif\" font-size=\"14.00\">c</text>\n<polyline fill=\"none\" stroke=\"black\" points=\"257,-120.5 257,-143.5 \"/>\n<text text-anchor=\"middle\" x=\"300.5\" y=\"-128.3\" font-family=\"Times,serif\" font-size=\"14.00\">data 10.0000</text>\n<polyline fill=\"none\" stroke=\"black\" points=\"234,-120.5 344,-120.5 \"/>\n<text text-anchor=\"middle\" x=\"289\" y=\"-105.3\" font-family=\"Times,serif\" font-size=\"14.00\">grad 0.0000</text>\n</g>\n<!-- 135486964307552&#45;&gt;135486964515840+ -->\n<g id=\"edge9\" class=\"edge\">\n<title>135486964307552&#45;&gt;135486964515840+</title>\n<path fill=\"none\" stroke=\"black\" d=\"M344.26,-105.06C353.76,-102.36 363.38,-99.62 372.12,-97.14\"/>\n<polygon fill=\"black\" stroke=\"black\" points=\"373.25,-100.46 381.91,-94.35 371.34,-93.72 373.25,-100.46\"/>\n</g>\n<!-- 135486964515936 -->\n<g id=\"node6\" class=\"node\">\n<title>135486964515936</title>\n<polygon fill=\"none\" stroke=\"black\" points=\"470,-129.5 470,-175.5 580,-175.5 580,-129.5 470,-129.5\"/>\n<text text-anchor=\"middle\" x=\"481.5\" y=\"-160.3\" font-family=\"Times,serif\" font-size=\"14.00\">d</text>\n<polyline fill=\"none\" stroke=\"black\" points=\"493,-152.5 493,-175.5 \"/>\n<text text-anchor=\"middle\" x=\"536.5\" y=\"-160.3\" font-family=\"Times,serif\" font-size=\"14.00\">data 12.0000</text>\n<polyline fill=\"none\" stroke=\"black\" points=\"470,-152.5 580,-152.5 \"/>\n<text text-anchor=\"middle\" x=\"525\" y=\"-137.3\" font-family=\"Times,serif\" font-size=\"14.00\">grad 0.0000</text>\n</g>\n<!-- 135486964515936&#45;&gt;135486964515888* -->\n<g id=\"edge8\" class=\"edge\">\n<title>135486964515936&#45;&gt;135486964515888*</title>\n<path fill=\"none\" stroke=\"black\" d=\"M580.26,-137.06C589.76,-134.36 599.38,-131.62 608.12,-129.14\"/>\n<polygon fill=\"black\" stroke=\"black\" points=\"609.25,-132.46 617.91,-126.35 607.34,-125.72 609.25,-132.46\"/>\n</g>\n<!-- 135486964516560 -->\n<g id=\"node7\" class=\"node\">\n<title>135486964516560</title>\n<polygon fill=\"none\" stroke=\"black\" points=\"235,-32.5 235,-78.5 343,-78.5 343,-32.5 235,-32.5\"/>\n<text text-anchor=\"middle\" x=\"246.5\" y=\"-63.3\" font-family=\"Times,serif\" font-size=\"14.00\">e</text>\n<polyline fill=\"none\" stroke=\"black\" points=\"258,-55.5 258,-78.5 \"/>\n<text text-anchor=\"middle\" x=\"300.5\" y=\"-63.3\" font-family=\"Times,serif\" font-size=\"14.00\">data &#45;6.0000</text>\n<polyline fill=\"none\" stroke=\"black\" points=\"235,-55.5 343,-55.5 \"/>\n<text text-anchor=\"middle\" x=\"289\" y=\"-40.3\" font-family=\"Times,serif\" font-size=\"14.00\">grad 0.0000</text>\n</g>\n<!-- 135486964516560&#45;&gt;135486964515840+ -->\n<g id=\"edge6\" class=\"edge\">\n<title>135486964516560&#45;&gt;135486964515840+</title>\n<path fill=\"none\" stroke=\"black\" d=\"M343.25,-70.19C353.03,-72.89 362.99,-75.63 372.01,-78.12\"/>\n<polygon fill=\"black\" stroke=\"black\" points=\"371.16,-81.52 381.73,-80.81 373.02,-74.77 371.16,-81.52\"/>\n</g>\n<!-- 135486964516560* -->\n<g id=\"node8\" class=\"node\">\n<title>135486964516560*</title>\n<ellipse fill=\"none\" stroke=\"black\" cx=\"171\" cy=\"-55.5\" rx=\"27\" ry=\"18\"/>\n<text text-anchor=\"middle\" x=\"171\" y=\"-51.8\" font-family=\"Times,serif\" font-size=\"14.00\">*</text>\n</g>\n<!-- 135486964516560*&#45;&gt;135486964516560 -->\n<g id=\"edge3\" class=\"edge\">\n<title>135486964516560*&#45;&gt;135486964516560</title>\n<path fill=\"none\" stroke=\"black\" d=\"M198.03,-55.5C206.08,-55.5 215.32,-55.5 224.74,-55.5\"/>\n<polygon fill=\"black\" stroke=\"black\" points=\"224.99,-59 234.99,-55.5 224.99,-52 224.99,-59\"/>\n</g>\n<!-- 135486964305632 -->\n<g id=\"node9\" class=\"node\">\n<title>135486964305632</title>\n<polygon fill=\"none\" stroke=\"black\" points=\"2.5,-65.5 2.5,-111.5 105.5,-111.5 105.5,-65.5 2.5,-65.5\"/>\n<text text-anchor=\"middle\" x=\"14\" y=\"-96.3\" font-family=\"Times,serif\" font-size=\"14.00\">a</text>\n<polyline fill=\"none\" stroke=\"black\" points=\"25.5,-88.5 25.5,-111.5 \"/>\n<text text-anchor=\"middle\" x=\"65.5\" y=\"-96.3\" font-family=\"Times,serif\" font-size=\"14.00\">data 2.0000</text>\n<polyline fill=\"none\" stroke=\"black\" points=\"2.5,-88.5 105.5,-88.5 \"/>\n<text text-anchor=\"middle\" x=\"54\" y=\"-73.3\" font-family=\"Times,serif\" font-size=\"14.00\">grad 0.0000</text>\n</g>\n<!-- 135486964305632&#45;&gt;135486964516560* -->\n<g id=\"edge5\" class=\"edge\">\n<title>135486964305632&#45;&gt;135486964516560*</title>\n<path fill=\"none\" stroke=\"black\" d=\"M105.78,-73.93C116.03,-70.99 126.57,-67.96 136.07,-65.24\"/>\n<polygon fill=\"black\" stroke=\"black\" points=\"137.26,-68.54 145.91,-62.41 135.33,-61.81 137.26,-68.54\"/>\n</g>\n<!-- 135486964317056 -->\n<g id=\"node10\" class=\"node\">\n<title>135486964317056</title>\n<polygon fill=\"none\" stroke=\"black\" points=\"0,-0.5 0,-46.5 108,-46.5 108,-0.5 0,-0.5\"/>\n<text text-anchor=\"middle\" x=\"11.5\" y=\"-31.3\" font-family=\"Times,serif\" font-size=\"14.00\">b</text>\n<polyline fill=\"none\" stroke=\"black\" points=\"23,-23.5 23,-46.5 \"/>\n<text text-anchor=\"middle\" x=\"65.5\" y=\"-31.3\" font-family=\"Times,serif\" font-size=\"14.00\">data &#45;3.0000</text>\n<polyline fill=\"none\" stroke=\"black\" points=\"0,-23.5 108,-23.5 \"/>\n<text text-anchor=\"middle\" x=\"54\" y=\"-8.3\" font-family=\"Times,serif\" font-size=\"14.00\">grad 0.0000</text>\n</g>\n<!-- 135486964317056&#45;&gt;135486964516560* -->\n<g id=\"edge4\" class=\"edge\">\n<title>135486964317056&#45;&gt;135486964516560*</title>\n<path fill=\"none\" stroke=\"black\" d=\"M108.12,-38.28C117.6,-40.92 127.23,-43.6 135.99,-46.04\"/>\n<polygon fill=\"black\" stroke=\"black\" points=\"135.23,-49.46 145.8,-48.77 137.11,-42.71 135.23,-49.46\"/>\n</g>\n</g>\n</svg>\n",
            "text/plain": [
              "<graphviz.graphs.Digraph at 0x7b3987babb20>"
            ]
          },
          "metadata": {},
          "execution_count": 15
        }
      ],
      "source": [
        "def trace(root):\n",
        "    nodes, edges = set(), set()\n",
        "    def build(v):\n",
        "        if v not in nodes:\n",
        "            nodes.add(v)\n",
        "            for child in v._prev:\n",
        "                edges.add((child, v))\n",
        "                build(child)\n",
        "    build(root)\n",
        "    return nodes, edges\n",
        "\n",
        "def draw(root):\n",
        "    g = Digraph(format=\"svg\", graph_attr={\"rankdir\": \"LR\"})\n",
        "    nodes, edges = trace(root)\n",
        "    for n in nodes:\n",
        "        uid = str(id(n))\n",
        "        g.node(name=uid, label= \"{ %s |data %.4f} | {grad %.4f} \" % (n.label, n.data, n.grad), shape=\"record\")\n",
        "        if n._op:\n",
        "            g.node(name = uid + n._op, label = n._op)\n",
        "            g.edge(uid + n._op, uid)\n",
        "\n",
        "    for n1, n2 in edges:\n",
        "        g.edge(str(id(n1)), str(id(n2)) + n2._op)\n",
        "    return g\n",
        "\n",
        "\n",
        "class Scalar:\n",
        "\n",
        "    def __init__(self, data, _children=(), _op=\"\", label=\"\"):\n",
        "        self.data = data\n",
        "        self._prev = set(_children)\n",
        "        self._op = _op\n",
        "        self.grad = 0.0\n",
        "        self.label = label\n",
        "\n",
        "    def __repr__(self):\n",
        "        return f\"Scalar(data={self.data})\"\n",
        "\n",
        "    def __add__(self, other):\n",
        "        out = self.data + other.data\n",
        "        return Scalar(out, (self, other), \"+\")\n",
        "\n",
        "    def __mul__(self, other):\n",
        "        out = self.data * other.data\n",
        "        return Scalar(out, (self, other), \"*\")\n",
        "\n",
        "a = Scalar(2.0, label = \"a\")\n",
        "b = Scalar(-3.0, label = \"b\")\n",
        "c = Scalar(10.0, label = \"c\")\n",
        "d = Scalar(12, label=\"d\")\n",
        "e = a * b; e.label = \"e\"\n",
        "f = e + c; f.label = \"f\"\n",
        "L = d * f; L.label = \"L\"\n",
        "print(L)\n",
        "print(L._prev)\n",
        "draw(L)"
      ]
    },
    {
      "cell_type": "markdown",
      "id": "2e4932d6",
      "metadata": {
        "id": "2e4932d6"
      },
      "source": [
        "So now we know which variables create new variables, what each of their gradients are, and which operation creates them. Now let's run backpropagation assuming L is our loss function on this very simple computational graph."
      ]
    },
    {
      "cell_type": "code",
      "execution_count": 16,
      "id": "6a49d8a9",
      "metadata": {
        "id": "6a49d8a9",
        "outputId": "2fdbd6d5-3d25-4b19-8fdd-2feb04230fdb",
        "colab": {
          "base_uri": "https://localhost:8080/",
          "height": 266
        }
      },
      "outputs": [
        {
          "output_type": "execute_result",
          "data": {
            "image/svg+xml": "<?xml version=\"1.0\" encoding=\"UTF-8\" standalone=\"no\"?>\n<!DOCTYPE svg PUBLIC \"-//W3C//DTD SVG 1.1//EN\"\n \"http://www.w3.org/Graphics/SVG/1.1/DTD/svg11.dtd\">\n<!-- Generated by graphviz version 2.43.0 (0)\n -->\n<!-- Title: %3 Pages: 1 -->\n<svg width=\"826pt\" height=\"184pt\"\n viewBox=\"0.00 0.00 826.00 184.00\" xmlns=\"http://www.w3.org/2000/svg\" xmlns:xlink=\"http://www.w3.org/1999/xlink\">\n<g id=\"graph0\" class=\"graph\" transform=\"scale(1 1) rotate(0) translate(4 180)\">\n<title>%3</title>\n<polygon fill=\"white\" stroke=\"transparent\" points=\"-4,4 -4,-180 822,-180 822,4 -4,4\"/>\n<!-- 135486964515840 -->\n<g id=\"node1\" class=\"node\">\n<title>135486964515840</title>\n<polygon fill=\"none\" stroke=\"black\" points=\"474.5,-64.5 474.5,-110.5 575.5,-110.5 575.5,-64.5 474.5,-64.5\"/>\n<text text-anchor=\"middle\" x=\"485\" y=\"-95.3\" font-family=\"Times,serif\" font-size=\"14.00\">f</text>\n<polyline fill=\"none\" stroke=\"black\" points=\"495.5,-87.5 495.5,-110.5 \"/>\n<text text-anchor=\"middle\" x=\"535.5\" y=\"-95.3\" font-family=\"Times,serif\" font-size=\"14.00\">data 4.0000</text>\n<polyline fill=\"none\" stroke=\"black\" points=\"474.5,-87.5 575.5,-87.5 \"/>\n<text text-anchor=\"middle\" x=\"525\" y=\"-72.3\" font-family=\"Times,serif\" font-size=\"14.00\">grad 0.0000</text>\n</g>\n<!-- 135486964515888* -->\n<g id=\"node4\" class=\"node\">\n<title>135486964515888*</title>\n<ellipse fill=\"none\" stroke=\"black\" cx=\"643\" cy=\"-119.5\" rx=\"27\" ry=\"18\"/>\n<text text-anchor=\"middle\" x=\"643\" y=\"-115.8\" font-family=\"Times,serif\" font-size=\"14.00\">*</text>\n</g>\n<!-- 135486964515840&#45;&gt;135486964515888* -->\n<g id=\"edge7\" class=\"edge\">\n<title>135486964515840&#45;&gt;135486964515888*</title>\n<path fill=\"none\" stroke=\"black\" d=\"M575.53,-101.16C586.52,-104.2 597.93,-107.34 608.13,-110.16\"/>\n<polygon fill=\"black\" stroke=\"black\" points=\"607.29,-113.55 617.86,-112.84 609.15,-106.81 607.29,-113.55\"/>\n</g>\n<!-- 135486964515840+ -->\n<g id=\"node2\" class=\"node\">\n<title>135486964515840+</title>\n<ellipse fill=\"none\" stroke=\"black\" cx=\"407\" cy=\"-87.5\" rx=\"27\" ry=\"18\"/>\n<text text-anchor=\"middle\" x=\"407\" y=\"-83.8\" font-family=\"Times,serif\" font-size=\"14.00\">+</text>\n</g>\n<!-- 135486964515840+&#45;&gt;135486964515840 -->\n<g id=\"edge1\" class=\"edge\">\n<title>135486964515840+&#45;&gt;135486964515840</title>\n<path fill=\"none\" stroke=\"black\" d=\"M434.03,-87.5C443.04,-87.5 453.55,-87.5 464.14,-87.5\"/>\n<polygon fill=\"black\" stroke=\"black\" points=\"464.27,-91 474.27,-87.5 464.27,-84 464.27,-91\"/>\n</g>\n<!-- 135486964515888 -->\n<g id=\"node3\" class=\"node\">\n<title>135486964515888</title>\n<polygon fill=\"none\" stroke=\"black\" points=\"706,-96.5 706,-142.5 818,-142.5 818,-96.5 706,-96.5\"/>\n<text text-anchor=\"middle\" x=\"718.5\" y=\"-127.3\" font-family=\"Times,serif\" font-size=\"14.00\">L</text>\n<polyline fill=\"none\" stroke=\"black\" points=\"731,-119.5 731,-142.5 \"/>\n<text text-anchor=\"middle\" x=\"774.5\" y=\"-127.3\" font-family=\"Times,serif\" font-size=\"14.00\">data 48.0000</text>\n<polyline fill=\"none\" stroke=\"black\" points=\"706,-119.5 818,-119.5 \"/>\n<text text-anchor=\"middle\" x=\"762\" y=\"-104.3\" font-family=\"Times,serif\" font-size=\"14.00\">grad 1.0000</text>\n</g>\n<!-- 135486964515888*&#45;&gt;135486964515888 -->\n<g id=\"edge2\" class=\"edge\">\n<title>135486964515888*&#45;&gt;135486964515888</title>\n<path fill=\"none\" stroke=\"black\" d=\"M670.26,-119.5C677.89,-119.5 686.6,-119.5 695.52,-119.5\"/>\n<polygon fill=\"black\" stroke=\"black\" points=\"695.64,-123 705.64,-119.5 695.64,-116 695.64,-123\"/>\n</g>\n<!-- 135486964307552 -->\n<g id=\"node5\" class=\"node\">\n<title>135486964307552</title>\n<polygon fill=\"none\" stroke=\"black\" points=\"234,-97.5 234,-143.5 344,-143.5 344,-97.5 234,-97.5\"/>\n<text text-anchor=\"middle\" x=\"245.5\" y=\"-128.3\" font-family=\"Times,serif\" font-size=\"14.00\">c</text>\n<polyline fill=\"none\" stroke=\"black\" points=\"257,-120.5 257,-143.5 \"/>\n<text text-anchor=\"middle\" x=\"300.5\" y=\"-128.3\" font-family=\"Times,serif\" font-size=\"14.00\">data 10.0000</text>\n<polyline fill=\"none\" stroke=\"black\" points=\"234,-120.5 344,-120.5 \"/>\n<text text-anchor=\"middle\" x=\"289\" y=\"-105.3\" font-family=\"Times,serif\" font-size=\"14.00\">grad 0.0000</text>\n</g>\n<!-- 135486964307552&#45;&gt;135486964515840+ -->\n<g id=\"edge9\" class=\"edge\">\n<title>135486964307552&#45;&gt;135486964515840+</title>\n<path fill=\"none\" stroke=\"black\" d=\"M344.26,-105.06C353.76,-102.36 363.38,-99.62 372.12,-97.14\"/>\n<polygon fill=\"black\" stroke=\"black\" points=\"373.25,-100.46 381.91,-94.35 371.34,-93.72 373.25,-100.46\"/>\n</g>\n<!-- 135486964515936 -->\n<g id=\"node6\" class=\"node\">\n<title>135486964515936</title>\n<polygon fill=\"none\" stroke=\"black\" points=\"470,-129.5 470,-175.5 580,-175.5 580,-129.5 470,-129.5\"/>\n<text text-anchor=\"middle\" x=\"481.5\" y=\"-160.3\" font-family=\"Times,serif\" font-size=\"14.00\">d</text>\n<polyline fill=\"none\" stroke=\"black\" points=\"493,-152.5 493,-175.5 \"/>\n<text text-anchor=\"middle\" x=\"536.5\" y=\"-160.3\" font-family=\"Times,serif\" font-size=\"14.00\">data 12.0000</text>\n<polyline fill=\"none\" stroke=\"black\" points=\"470,-152.5 580,-152.5 \"/>\n<text text-anchor=\"middle\" x=\"525\" y=\"-137.3\" font-family=\"Times,serif\" font-size=\"14.00\">grad 0.0000</text>\n</g>\n<!-- 135486964515936&#45;&gt;135486964515888* -->\n<g id=\"edge8\" class=\"edge\">\n<title>135486964515936&#45;&gt;135486964515888*</title>\n<path fill=\"none\" stroke=\"black\" d=\"M580.26,-137.06C589.76,-134.36 599.38,-131.62 608.12,-129.14\"/>\n<polygon fill=\"black\" stroke=\"black\" points=\"609.25,-132.46 617.91,-126.35 607.34,-125.72 609.25,-132.46\"/>\n</g>\n<!-- 135486964516560 -->\n<g id=\"node7\" class=\"node\">\n<title>135486964516560</title>\n<polygon fill=\"none\" stroke=\"black\" points=\"235,-32.5 235,-78.5 343,-78.5 343,-32.5 235,-32.5\"/>\n<text text-anchor=\"middle\" x=\"246.5\" y=\"-63.3\" font-family=\"Times,serif\" font-size=\"14.00\">e</text>\n<polyline fill=\"none\" stroke=\"black\" points=\"258,-55.5 258,-78.5 \"/>\n<text text-anchor=\"middle\" x=\"300.5\" y=\"-63.3\" font-family=\"Times,serif\" font-size=\"14.00\">data &#45;6.0000</text>\n<polyline fill=\"none\" stroke=\"black\" points=\"235,-55.5 343,-55.5 \"/>\n<text text-anchor=\"middle\" x=\"289\" y=\"-40.3\" font-family=\"Times,serif\" font-size=\"14.00\">grad 0.0000</text>\n</g>\n<!-- 135486964516560&#45;&gt;135486964515840+ -->\n<g id=\"edge6\" class=\"edge\">\n<title>135486964516560&#45;&gt;135486964515840+</title>\n<path fill=\"none\" stroke=\"black\" d=\"M343.25,-70.19C353.03,-72.89 362.99,-75.63 372.01,-78.12\"/>\n<polygon fill=\"black\" stroke=\"black\" points=\"371.16,-81.52 381.73,-80.81 373.02,-74.77 371.16,-81.52\"/>\n</g>\n<!-- 135486964516560* -->\n<g id=\"node8\" class=\"node\">\n<title>135486964516560*</title>\n<ellipse fill=\"none\" stroke=\"black\" cx=\"171\" cy=\"-55.5\" rx=\"27\" ry=\"18\"/>\n<text text-anchor=\"middle\" x=\"171\" y=\"-51.8\" font-family=\"Times,serif\" font-size=\"14.00\">*</text>\n</g>\n<!-- 135486964516560*&#45;&gt;135486964516560 -->\n<g id=\"edge3\" class=\"edge\">\n<title>135486964516560*&#45;&gt;135486964516560</title>\n<path fill=\"none\" stroke=\"black\" d=\"M198.03,-55.5C206.08,-55.5 215.32,-55.5 224.74,-55.5\"/>\n<polygon fill=\"black\" stroke=\"black\" points=\"224.99,-59 234.99,-55.5 224.99,-52 224.99,-59\"/>\n</g>\n<!-- 135486964305632 -->\n<g id=\"node9\" class=\"node\">\n<title>135486964305632</title>\n<polygon fill=\"none\" stroke=\"black\" points=\"2.5,-65.5 2.5,-111.5 105.5,-111.5 105.5,-65.5 2.5,-65.5\"/>\n<text text-anchor=\"middle\" x=\"14\" y=\"-96.3\" font-family=\"Times,serif\" font-size=\"14.00\">a</text>\n<polyline fill=\"none\" stroke=\"black\" points=\"25.5,-88.5 25.5,-111.5 \"/>\n<text text-anchor=\"middle\" x=\"65.5\" y=\"-96.3\" font-family=\"Times,serif\" font-size=\"14.00\">data 2.0000</text>\n<polyline fill=\"none\" stroke=\"black\" points=\"2.5,-88.5 105.5,-88.5 \"/>\n<text text-anchor=\"middle\" x=\"54\" y=\"-73.3\" font-family=\"Times,serif\" font-size=\"14.00\">grad 0.0000</text>\n</g>\n<!-- 135486964305632&#45;&gt;135486964516560* -->\n<g id=\"edge5\" class=\"edge\">\n<title>135486964305632&#45;&gt;135486964516560*</title>\n<path fill=\"none\" stroke=\"black\" d=\"M105.78,-73.93C116.03,-70.99 126.57,-67.96 136.07,-65.24\"/>\n<polygon fill=\"black\" stroke=\"black\" points=\"137.26,-68.54 145.91,-62.41 135.33,-61.81 137.26,-68.54\"/>\n</g>\n<!-- 135486964317056 -->\n<g id=\"node10\" class=\"node\">\n<title>135486964317056</title>\n<polygon fill=\"none\" stroke=\"black\" points=\"0,-0.5 0,-46.5 108,-46.5 108,-0.5 0,-0.5\"/>\n<text text-anchor=\"middle\" x=\"11.5\" y=\"-31.3\" font-family=\"Times,serif\" font-size=\"14.00\">b</text>\n<polyline fill=\"none\" stroke=\"black\" points=\"23,-23.5 23,-46.5 \"/>\n<text text-anchor=\"middle\" x=\"65.5\" y=\"-31.3\" font-family=\"Times,serif\" font-size=\"14.00\">data &#45;3.0000</text>\n<polyline fill=\"none\" stroke=\"black\" points=\"0,-23.5 108,-23.5 \"/>\n<text text-anchor=\"middle\" x=\"54\" y=\"-8.3\" font-family=\"Times,serif\" font-size=\"14.00\">grad 0.0000</text>\n</g>\n<!-- 135486964317056&#45;&gt;135486964516560* -->\n<g id=\"edge4\" class=\"edge\">\n<title>135486964317056&#45;&gt;135486964516560*</title>\n<path fill=\"none\" stroke=\"black\" d=\"M108.12,-38.28C117.6,-40.92 127.23,-43.6 135.99,-46.04\"/>\n<polygon fill=\"black\" stroke=\"black\" points=\"135.23,-49.46 145.8,-48.77 137.11,-42.71 135.23,-49.46\"/>\n</g>\n</g>\n</svg>\n",
            "text/plain": [
              "<graphviz.graphs.Digraph at 0x7b3984697f10>"
            ]
          },
          "metadata": {},
          "execution_count": 16
        }
      ],
      "source": [
        "# dL/dL is trivially 1:\n",
        "L.grad = 1\n",
        "draw(L)"
      ]
    },
    {
      "cell_type": "markdown",
      "id": "bd94494f",
      "metadata": {
        "id": "bd94494f"
      },
      "source": [
        "Let's do some calculus to figure out what each of these node's gradient is:"
      ]
    },
    {
      "cell_type": "code",
      "execution_count": null,
      "id": "921335ee",
      "metadata": {
        "id": "921335ee",
        "outputId": "0a58ca08-b91f-41f8-bf4b-bc05596a499e",
        "colab": {
          "base_uri": "https://localhost:8080/",
          "height": 269
        }
      },
      "outputs": [
        {
          "output_type": "execute_result",
          "data": {
            "text/plain": [
              "<graphviz.dot.Digraph at 0x7f3b21d51190>"
            ],
            "image/svg+xml": "<?xml version=\"1.0\" encoding=\"UTF-8\" standalone=\"no\"?>\n<!DOCTYPE svg PUBLIC \"-//W3C//DTD SVG 1.1//EN\"\n \"http://www.w3.org/Graphics/SVG/1.1/DTD/svg11.dtd\">\n<!-- Generated by graphviz version 2.40.1 (20161225.0304)\n -->\n<!-- Title: %3 Pages: 1 -->\n<svg width=\"848pt\" height=\"186pt\"\n viewBox=\"0.00 0.00 848.00 186.00\" xmlns=\"http://www.w3.org/2000/svg\" xmlns:xlink=\"http://www.w3.org/1999/xlink\">\n<g id=\"graph0\" class=\"graph\" transform=\"scale(1 1) rotate(0) translate(4 182)\">\n<title>%3</title>\n<polygon fill=\"#ffffff\" stroke=\"transparent\" points=\"-4,4 -4,-182 844,-182 844,4 -4,4\"/>\n<!-- 139891942464528 -->\n<g id=\"node1\" class=\"node\">\n<title>139891942464528</title>\n<polygon fill=\"none\" stroke=\"#000000\" points=\"2.5,-131.5 2.5,-177.5 110.5,-177.5 110.5,-131.5 2.5,-131.5\"/>\n<text text-anchor=\"middle\" x=\"14\" y=\"-162.3\" font-family=\"Times,serif\" font-size=\"14.00\" fill=\"#000000\">a</text>\n<polyline fill=\"none\" stroke=\"#000000\" points=\"25.5,-154.5 25.5,-177.5 \"/>\n<text text-anchor=\"middle\" x=\"68\" y=\"-162.3\" font-family=\"Times,serif\" font-size=\"14.00\" fill=\"#000000\">data 2.0000</text>\n<polyline fill=\"none\" stroke=\"#000000\" points=\"2.5,-154.5 110.5,-154.5 \"/>\n<text text-anchor=\"middle\" x=\"56.5\" y=\"-139.3\" font-family=\"Times,serif\" font-size=\"14.00\" fill=\"#000000\">grad &#45;36.0000</text>\n</g>\n<!-- 139891942465424* -->\n<g id=\"node10\" class=\"node\">\n<title>139891942465424*</title>\n<ellipse fill=\"none\" stroke=\"#000000\" cx=\"176\" cy=\"-121.5\" rx=\"27\" ry=\"18\"/>\n<text text-anchor=\"middle\" x=\"176\" y=\"-117.8\" font-family=\"Times,serif\" font-size=\"14.00\" fill=\"#000000\">*</text>\n</g>\n<!-- 139891942464528&#45;&gt;139891942465424* -->\n<g id=\"edge4\" class=\"edge\">\n<title>139891942464528&#45;&gt;139891942465424*</title>\n<path fill=\"none\" stroke=\"#000000\" d=\"M110.6557,-139.5449C120.9957,-136.6895 131.5611,-133.7718 141.0987,-131.138\"/>\n<polygon fill=\"#000000\" stroke=\"#000000\" points=\"142.2777,-134.4435 150.9853,-128.4078 140.4144,-127.6961 142.2777,-134.4435\"/>\n</g>\n<!-- 139891942465104 -->\n<g id=\"node2\" class=\"node\">\n<title>139891942465104</title>\n<polygon fill=\"none\" stroke=\"#000000\" points=\"722,-32.5 722,-78.5 840,-78.5 840,-32.5 722,-32.5\"/>\n<text text-anchor=\"middle\" x=\"735\" y=\"-63.3\" font-family=\"Times,serif\" font-size=\"14.00\" fill=\"#000000\">L</text>\n<polyline fill=\"none\" stroke=\"#000000\" points=\"748,-55.5 748,-78.5 \"/>\n<text text-anchor=\"middle\" x=\"794\" y=\"-63.3\" font-family=\"Times,serif\" font-size=\"14.00\" fill=\"#000000\">data 48.0000</text>\n<polyline fill=\"none\" stroke=\"#000000\" points=\"722,-55.5 840,-55.5 \"/>\n<text text-anchor=\"middle\" x=\"781\" y=\"-40.3\" font-family=\"Times,serif\" font-size=\"14.00\" fill=\"#000000\">grad 1.0000</text>\n</g>\n<!-- 139891942465104* -->\n<g id=\"node3\" class=\"node\">\n<title>139891942465104*</title>\n<ellipse fill=\"none\" stroke=\"#000000\" cx=\"659\" cy=\"-55.5\" rx=\"27\" ry=\"18\"/>\n<text text-anchor=\"middle\" x=\"659\" y=\"-51.8\" font-family=\"Times,serif\" font-size=\"14.00\" fill=\"#000000\">*</text>\n</g>\n<!-- 139891942465104*&#45;&gt;139891942465104 -->\n<g id=\"edge1\" class=\"edge\">\n<title>139891942465104*&#45;&gt;139891942465104</title>\n<path fill=\"none\" stroke=\"#000000\" d=\"M686.0758,-55.5C693.7264,-55.5 702.421,-55.5 711.3684,-55.5\"/>\n<polygon fill=\"#000000\" stroke=\"#000000\" points=\"711.5357,-59.0001 721.5357,-55.5 711.5356,-52.0001 711.5357,-59.0001\"/>\n</g>\n<!-- 139891942464592 -->\n<g id=\"node4\" class=\"node\">\n<title>139891942464592</title>\n<polygon fill=\"none\" stroke=\"#000000\" points=\"0,-66.5 0,-112.5 113,-112.5 113,-66.5 0,-66.5\"/>\n<text text-anchor=\"middle\" x=\"12\" y=\"-97.3\" font-family=\"Times,serif\" font-size=\"14.00\" fill=\"#000000\">b</text>\n<polyline fill=\"none\" stroke=\"#000000\" points=\"24,-89.5 24,-112.5 \"/>\n<text text-anchor=\"middle\" x=\"68.5\" y=\"-97.3\" font-family=\"Times,serif\" font-size=\"14.00\" fill=\"#000000\">data &#45;3.0000</text>\n<polyline fill=\"none\" stroke=\"#000000\" points=\"0,-89.5 113,-89.5 \"/>\n<text text-anchor=\"middle\" x=\"56.5\" y=\"-74.3\" font-family=\"Times,serif\" font-size=\"14.00\" fill=\"#000000\">grad 24.0000</text>\n</g>\n<!-- 139891942464592&#45;&gt;139891942465424* -->\n<g id=\"edge6\" class=\"edge\">\n<title>139891942464592&#45;&gt;139891942465424*</title>\n<path fill=\"none\" stroke=\"#000000\" d=\"M113.1004,-104.6566C122.6395,-107.211 132.286,-109.7941 141.0636,-112.1446\"/>\n<polygon fill=\"#000000\" stroke=\"#000000\" points=\"140.3452,-115.5755 150.9102,-114.7814 142.1559,-108.8137 140.3452,-115.5755\"/>\n</g>\n<!-- 139891942464656 -->\n<g id=\"node5\" class=\"node\">\n<title>139891942464656</title>\n<polygon fill=\"none\" stroke=\"#000000\" points=\"485,-65.5 485,-111.5 591,-111.5 591,-65.5 485,-65.5\"/>\n<text text-anchor=\"middle\" x=\"495.5\" y=\"-96.3\" font-family=\"Times,serif\" font-size=\"14.00\" fill=\"#000000\">f</text>\n<polyline fill=\"none\" stroke=\"#000000\" points=\"506,-88.5 506,-111.5 \"/>\n<text text-anchor=\"middle\" x=\"548.5\" y=\"-96.3\" font-family=\"Times,serif\" font-size=\"14.00\" fill=\"#000000\">data 4.0000</text>\n<polyline fill=\"none\" stroke=\"#000000\" points=\"485,-88.5 591,-88.5 \"/>\n<text text-anchor=\"middle\" x=\"538\" y=\"-73.3\" font-family=\"Times,serif\" font-size=\"14.00\" fill=\"#000000\">grad 12.0000</text>\n</g>\n<!-- 139891942464656&#45;&gt;139891942465104* -->\n<g id=\"edge8\" class=\"edge\">\n<title>139891942464656&#45;&gt;139891942465104*</title>\n<path fill=\"none\" stroke=\"#000000\" d=\"M591.0724,-74.0257C602.2163,-70.9865 613.7017,-67.8541 623.985,-65.0496\"/>\n<polygon fill=\"#000000\" stroke=\"#000000\" points=\"625.0837,-68.3778 633.8105,-62.3699 623.2419,-61.6244 625.0837,-68.3778\"/>\n</g>\n<!-- 139891942464656+ -->\n<g id=\"node6\" class=\"node\">\n<title>139891942464656+</title>\n<ellipse fill=\"none\" stroke=\"#000000\" cx=\"417\" cy=\"-88.5\" rx=\"27\" ry=\"18\"/>\n<text text-anchor=\"middle\" x=\"417\" y=\"-84.8\" font-family=\"Times,serif\" font-size=\"14.00\" fill=\"#000000\">+</text>\n</g>\n<!-- 139891942464656+&#45;&gt;139891942464656 -->\n<g id=\"edge2\" class=\"edge\">\n<title>139891942464656+&#45;&gt;139891942464656</title>\n<path fill=\"none\" stroke=\"#000000\" d=\"M444.1548,-88.5C453.2368,-88.5 463.7767,-88.5 474.4437,-88.5\"/>\n<polygon fill=\"#000000\" stroke=\"#000000\" points=\"474.6663,-92.0001 484.6662,-88.5 474.6662,-85.0001 474.6663,-92.0001\"/>\n</g>\n<!-- 139891942465232 -->\n<g id=\"node7\" class=\"node\">\n<title>139891942465232</title>\n<polygon fill=\"none\" stroke=\"#000000\" points=\"239,-33.5 239,-79.5 354,-79.5 354,-33.5 239,-33.5\"/>\n<text text-anchor=\"middle\" x=\"250.5\" y=\"-64.3\" font-family=\"Times,serif\" font-size=\"14.00\" fill=\"#000000\">c</text>\n<polyline fill=\"none\" stroke=\"#000000\" points=\"262,-56.5 262,-79.5 \"/>\n<text text-anchor=\"middle\" x=\"308\" y=\"-64.3\" font-family=\"Times,serif\" font-size=\"14.00\" fill=\"#000000\">data 10.0000</text>\n<polyline fill=\"none\" stroke=\"#000000\" points=\"239,-56.5 354,-56.5 \"/>\n<text text-anchor=\"middle\" x=\"296.5\" y=\"-41.3\" font-family=\"Times,serif\" font-size=\"14.00\" fill=\"#000000\">grad 12.0000</text>\n</g>\n<!-- 139891942465232&#45;&gt;139891942464656+ -->\n<g id=\"edge5\" class=\"edge\">\n<title>139891942465232&#45;&gt;139891942464656+</title>\n<path fill=\"none\" stroke=\"#000000\" d=\"M354.2794,-71.8439C363.7436,-74.3572 373.2892,-76.8921 381.98,-79.2001\"/>\n<polygon fill=\"#000000\" stroke=\"#000000\" points=\"381.1702,-82.6063 391.7335,-81.7902 382.9669,-75.8408 381.1702,-82.6063\"/>\n</g>\n<!-- 139891942465360 -->\n<g id=\"node8\" class=\"node\">\n<title>139891942465360</title>\n<polygon fill=\"none\" stroke=\"#000000\" points=\"480,-.5 480,-46.5 596,-46.5 596,-.5 480,-.5\"/>\n<text text-anchor=\"middle\" x=\"492\" y=\"-31.3\" font-family=\"Times,serif\" font-size=\"14.00\" fill=\"#000000\">d</text>\n<polyline fill=\"none\" stroke=\"#000000\" points=\"504,-23.5 504,-46.5 \"/>\n<text text-anchor=\"middle\" x=\"550\" y=\"-31.3\" font-family=\"Times,serif\" font-size=\"14.00\" fill=\"#000000\">data 12.0000</text>\n<polyline fill=\"none\" stroke=\"#000000\" points=\"480,-23.5 596,-23.5 \"/>\n<text text-anchor=\"middle\" x=\"538\" y=\"-8.3\" font-family=\"Times,serif\" font-size=\"14.00\" fill=\"#000000\">grad 4.0000</text>\n</g>\n<!-- 139891942465360&#45;&gt;139891942465104* -->\n<g id=\"edge7\" class=\"edge\">\n<title>139891942465360&#45;&gt;139891942465104*</title>\n<path fill=\"none\" stroke=\"#000000\" d=\"M596.0192,-38.8439C605.5226,-41.3572 615.1078,-43.8921 623.8347,-46.2001\"/>\n<polygon fill=\"#000000\" stroke=\"#000000\" points=\"623.0662,-49.6171 633.6287,-48.7902 624.8559,-42.8498 623.0662,-49.6171\"/>\n</g>\n<!-- 139891942465424 -->\n<g id=\"node9\" class=\"node\">\n<title>139891942465424</title>\n<polygon fill=\"none\" stroke=\"#000000\" points=\"240.5,-98.5 240.5,-144.5 352.5,-144.5 352.5,-98.5 240.5,-98.5\"/>\n<text text-anchor=\"middle\" x=\"252\" y=\"-129.3\" font-family=\"Times,serif\" font-size=\"14.00\" fill=\"#000000\">e</text>\n<polyline fill=\"none\" stroke=\"#000000\" points=\"263.5,-121.5 263.5,-144.5 \"/>\n<text text-anchor=\"middle\" x=\"308\" y=\"-129.3\" font-family=\"Times,serif\" font-size=\"14.00\" fill=\"#000000\">data &#45;6.0000</text>\n<polyline fill=\"none\" stroke=\"#000000\" points=\"240.5,-121.5 352.5,-121.5 \"/>\n<text text-anchor=\"middle\" x=\"296.5\" y=\"-106.3\" font-family=\"Times,serif\" font-size=\"14.00\" fill=\"#000000\">grad 12.0000</text>\n</g>\n<!-- 139891942465424&#45;&gt;139891942464656+ -->\n<g id=\"edge9\" class=\"edge\">\n<title>139891942465424&#45;&gt;139891942464656+</title>\n<path fill=\"none\" stroke=\"#000000\" d=\"M352.5168,-106.1593C362.5195,-103.42 372.6786,-100.6378 381.8839,-98.1169\"/>\n<polygon fill=\"#000000\" stroke=\"#000000\" points=\"383.0923,-101.4149 391.8126,-95.3978 381.2433,-94.6635 383.0923,-101.4149\"/>\n</g>\n<!-- 139891942465424*&#45;&gt;139891942465424 -->\n<g id=\"edge3\" class=\"edge\">\n<title>139891942465424*&#45;&gt;139891942465424</title>\n<path fill=\"none\" stroke=\"#000000\" d=\"M203.0426,-121.5C211.2826,-121.5 220.7277,-121.5 230.3756,-121.5\"/>\n<polygon fill=\"#000000\" stroke=\"#000000\" points=\"230.4612,-125.0001 240.4612,-121.5 230.4612,-118.0001 230.4612,-125.0001\"/>\n</g>\n</g>\n</svg>\n"
          },
          "metadata": {},
          "execution_count": 13
        }
      ],
      "source": [
        "# a = Scalar(2.0, label = \"a\")\n",
        "# b = Scalar(-3.0, label = \"b\")\n",
        "# c = Scalar(10.0, label = \"c\")\n",
        "# d = Scalar(12, label=\"d\")\n",
        "# e = a * b; e.label = \"e\"\n",
        "# f = e + c; f.label = \"f\"\n",
        "# L = d * f; L.label = \"L\"\n",
        "\n",
        "#dl/df = d = 12\n",
        "#dl/dd = f = 4\n",
        "#df/de = 1\n",
        "#df/dc = 1\n",
        "#dl/de = dl/df * df/de\n",
        "#dl/dc = dl/df * df/dc\n",
        "#de/db = a\n",
        "#de/da = b\n",
        "#dl/db = de/db * dl/de\n",
        "#dl/da = de/da * dl/de\n",
        "\n",
        "\n",
        "f.grad = 12\n",
        "d.grad = 4\n",
        "e.grad = 12\n",
        "c.grad = 12\n",
        "b.grad = 2 * 12\n",
        "a.grad = -3 * 12\n",
        "draw(L)"
      ]
    },
    {
      "cell_type": "markdown",
      "id": "efc8ad31",
      "metadata": {
        "id": "efc8ad31"
      },
      "source": [
        "You might have noticed a pattern that for intermediary nodes, the gradient is always obtained using the chain rule. And this chain rule is always a multiplication of the gradient coming from upstream (coming from loss) and the gradient of the current node (how much this node affects it's output).\n",
        "\n",
        "This is all backpropagation is. A recursive computation of the chain rule. Look at the plot above, the gradients are now filled in. Our manual backprop computational graph works.\n",
        "\n",
        "Below, we can use pytorch (or even analytic gradients) to check if our computation is correct:"
      ]
    },
    {
      "cell_type": "code",
      "execution_count": null,
      "id": "5c25c10a",
      "metadata": {
        "id": "5c25c10a",
        "outputId": "fc82ad80-dd60-461d-eb56-0100c241d7ef",
        "colab": {
          "base_uri": "https://localhost:8080/"
        }
      },
      "outputs": [
        {
          "output_type": "stream",
          "name": "stdout",
          "text": [
            "tensor([12.])\n",
            "tensor([4.])\n",
            "tensor([12.])\n",
            "tensor([12.])\n",
            "tensor([24.])\n",
            "tensor([-36.])\n"
          ]
        }
      ],
      "source": [
        "import torch\n",
        "a = torch.tensor([2.0], requires_grad=True)\n",
        "b = torch.tensor([-3.0], requires_grad=True)\n",
        "c = torch.tensor([10.0], requires_grad=True)\n",
        "d = torch.tensor([12.0], requires_grad=True)\n",
        "e = a * b\n",
        "f = e + c\n",
        "L = d * f\n",
        "f.retain_grad()\n",
        "e.retain_grad()\n",
        "L.backward()\n",
        "print(f.grad)\n",
        "print(d.grad)\n",
        "print(e.grad)\n",
        "print(c.grad)\n",
        "print(b.grad)\n",
        "print(a.grad)"
      ]
    },
    {
      "cell_type": "markdown",
      "id": "32643628",
      "metadata": {
        "id": "32643628"
      },
      "source": [
        "Cool, pytorch agrees with us. You may at this point, notice how similar torch.Tensor and our Scalar class are. They both provide the same functionality. PyTorch is 'slightly' more powerful because instead of scalars, you can operate on tensors (but really a tensor is just a collection of scalars, isn't it?). Notice how also, calling .backward() on L populated gradients automatically. This is why pytorch is an \"autograd\" engine. We didn't have to do any calculus and manual backprop.\n",
        "\n",
        "If you are interested, maybe think about how you will extend the Scalar class to also provide autograd functionality by including a .backward() function.\n",
        "\n",
        "While we didn't look at \"neural networks\" here. We did look at functions and how pytorch and computers handle them. Neural networks are simply very gigantic functions, and prolly you ARE already familiar with what it is. So that part is left out for brevity."
      ]
    },
    {
      "cell_type": "markdown",
      "id": "2b0a5870",
      "metadata": {
        "id": "2b0a5870"
      },
      "source": [
        "### Now let's move onto: Why neural networks?\n",
        "Simply put: They are universal function approximators (more on this later). And also because the layered architecture seems to work very well in practice. Why you may ask? that is a topic of research and there is no concrete answer yet.\n",
        "\n",
        "### \"Universal Function Approximator\" you said?\n",
        "This one gets thrown around a lot because it is self explanatory. But if someone were to ask us what it REALLY means, we might have a hard time explaining what this actually means.\n",
        "\n",
        "So here goes: The universal approximation theorem simply states, that given any continuous function f(x), there is a SINGLE LAYER perceptron (ANN) g(x) for which, given any error bound 'e', |f(x) - g()| < e. That is the difference between the neural network output and the function value is less than e.\n",
        "\n",
        "Now that the mathematics is out of the way, let's see a visual \"proof\" rather than a mathematical one."
      ]
    },
    {
      "cell_type": "code",
      "execution_count": null,
      "id": "fe4b671c",
      "metadata": {
        "id": "fe4b671c",
        "outputId": "aeb7447a-e0ab-4d8a-cbed-fd710513f3ad",
        "colab": {
          "base_uri": "https://localhost:8080/",
          "height": 400
        }
      },
      "outputs": [
        {
          "output_type": "execute_result",
          "data": {
            "text/plain": [
              "<graphviz.dot.Digraph at 0x7f3b21d34c50>"
            ],
            "image/svg+xml": "<?xml version=\"1.0\" encoding=\"UTF-8\" standalone=\"no\"?>\n<!DOCTYPE svg PUBLIC \"-//W3C//DTD SVG 1.1//EN\"\n \"http://www.w3.org/Graphics/SVG/1.1/DTD/svg11.dtd\">\n<!-- Generated by graphviz version 2.40.1 (20161225.0304)\n -->\n<!-- Title: %3 Pages: 1 -->\n<svg width=\"582pt\" height=\"98pt\"\n viewBox=\"0.00 0.00 582.06 98.00\" xmlns=\"http://www.w3.org/2000/svg\" xmlns:xlink=\"http://www.w3.org/1999/xlink\">\n<g id=\"graph0\" class=\"graph\" transform=\"scale(1 1) rotate(0) translate(4 94)\">\n<title>%3</title>\n<polygon fill=\"#ffffff\" stroke=\"transparent\" points=\"-4,4 -4,-94 578.0611,-94 578.0611,4 -4,4\"/>\n<!-- Input -->\n<g id=\"node1\" class=\"node\">\n<title>Input</title>\n<ellipse fill=\"none\" stroke=\"#000000\" cx=\"52.6453\" cy=\"-44\" rx=\"52.7911\" ry=\"18\"/>\n<text text-anchor=\"middle\" x=\"52.6453\" y=\"-40.3\" font-family=\"Times,serif\" font-size=\"14.00\" fill=\"#000000\">input=0.01</text>\n</g>\n<!-- Hidden -->\n<g id=\"node3\" class=\"node\">\n<title>Hidden</title>\n<ellipse fill=\"none\" stroke=\"#000000\" cx=\"244.5871\" cy=\"-72\" rx=\"40.0939\" ry=\"18\"/>\n<text text-anchor=\"middle\" x=\"244.5871\" y=\"-68.3\" font-family=\"Times,serif\" font-size=\"14.00\" fill=\"#000000\">bias=10</text>\n</g>\n<!-- Input&#45;&gt;Hidden -->\n<g id=\"edge1\" class=\"edge\">\n<title>Input&#45;&gt;Hidden</title>\n<path fill=\"none\" stroke=\"#000000\" d=\"M101.0803,-51.0656C130.1881,-55.3118 167.1009,-60.6965 196.2001,-64.9414\"/>\n<polygon fill=\"#000000\" stroke=\"#000000\" points=\"195.7408,-68.4114 206.1414,-66.3916 196.7513,-61.4847 195.7408,-68.4114\"/>\n<text text-anchor=\"middle\" x=\"154.7907\" y=\"-65.8\" font-family=\"Times,serif\" font-size=\"14.00\" fill=\"#000000\">weight=10</text>\n</g>\n<!-- Hidden_2 -->\n<g id=\"node4\" class=\"node\">\n<title>Hidden_2</title>\n<ellipse fill=\"none\" stroke=\"#000000\" cx=\"244.5871\" cy=\"-18\" rx=\"27\" ry=\"18\"/>\n</g>\n<!-- Input&#45;&gt;Hidden_2 -->\n<g id=\"edge3\" class=\"edge\">\n<title>Input&#45;&gt;Hidden_2</title>\n<path fill=\"none\" stroke=\"#000000\" d=\"M102.0751,-37.3044C135.1623,-32.8224 177.9878,-27.0214 208.0207,-22.9532\"/>\n<polygon fill=\"#000000\" stroke=\"#000000\" points=\"208.6335,-26.4022 218.0732,-21.5915 207.6939,-19.4656 208.6335,-26.4022\"/>\n</g>\n<!-- Output -->\n<g id=\"node2\" class=\"node\">\n<title>Output</title>\n<ellipse fill=\"none\" stroke=\"#000000\" cx=\"447.9723\" cy=\"-44\" rx=\"126.1777\" ry=\"18\"/>\n<text text-anchor=\"middle\" x=\"447.9723\" y=\"-40.3\" font-family=\"Times,serif\" font-size=\"14.00\" fill=\"#000000\">output=0.9999589221322353</text>\n</g>\n<!-- Hidden&#45;&gt;Output -->\n<g id=\"edge2\" class=\"edge\">\n<title>Hidden&#45;&gt;Output</title>\n<path fill=\"none\" stroke=\"#000000\" d=\"M283.321,-66.6675C301.5934,-64.152 324.3367,-61.0209 347.0302,-57.8967\"/>\n<polygon fill=\"#000000\" stroke=\"#000000\" points=\"347.6578,-61.3434 357.087,-56.5122 346.7031,-54.4088 347.6578,-61.3434\"/>\n</g>\n<!-- Hidden_2&#45;&gt;Output -->\n<g id=\"edge4\" class=\"edge\">\n<title>Hidden_2&#45;&gt;Output</title>\n<path fill=\"none\" stroke=\"#000000\" d=\"M271.1761,-21.399C290.0682,-23.8141 316.7736,-27.2281 343.719,-30.6726\"/>\n<polygon fill=\"#000000\" stroke=\"#000000\" points=\"343.2799,-34.1449 353.643,-31.9413 344.1676,-27.2014 343.2799,-34.1449\"/>\n</g>\n</g>\n</svg>\n"
          },
          "metadata": {},
          "execution_count": 15
        },
        {
          "output_type": "display_data",
          "data": {
            "text/plain": [
              "<Figure size 432x288 with 1 Axes>"
            ],
            "image/png": "[encoded data removed]"
          },
          "metadata": {
            "needs_background": "light"
          }
        }
      ],
      "source": [
        "plt.close(\"all\")\n",
        "\n",
        "def sigmoid(x, w, b):\n",
        "    return 1 / (1 + np.exp(-1*(x * w + b)))\n",
        "\n",
        "i = 0.01\n",
        "w = 10\n",
        "b = 10\n",
        "o = sigmoid(i, w, b)\n",
        "g = Digraph(graph_attr={\"rankdir\": \"LR\"})\n",
        "g.node(name=\"Input\", label=f\"input={i}\")\n",
        "g.node(name=\"Output\", label=f\"output={o}\")\n",
        "g.node(name=\"Hidden\", label=f\"bias={b}\")\n",
        "g.node(name=\"Hidden_2\", label=\"\")\n",
        "g.edge(\"Input\", \"Hidden\", label=f\"weight={w}\")\n",
        "g.edge(\"Hidden\", \"Output\")\n",
        "g.edge(\"Input\", \"Hidden_2\")\n",
        "g.edge(\"Hidden_2\", \"Output\")\n",
        "\n",
        "plt.figure()\n",
        "x = np.linspace(-3, 3, 1000)\n",
        "y = sigmoid(x, w, b)\n",
        "plt.plot(x, y)\n",
        "\n",
        "g"
      ]
    },
    {
      "cell_type": "markdown",
      "id": "0518e7c9",
      "metadata": {
        "id": "0518e7c9"
      },
      "source": [
        "The above shows an input being multiplied by some weight, a bias being added, and the result being passed through a sigmoid function. This is what happens in a perceptron. What we are looking at in the graph above is just one \"unit\" of perceptron. The graph shows the output (sigmoid) as a function of the input when weight and bias are held constant.\n",
        "\n",
        "\n",
        "If we increase the weight and the biases a bit, we can turn the output into a very good approximation of a unit step function:"
      ]
    },
    {
      "cell_type": "code",
      "execution_count": null,
      "id": "f212b7d1",
      "metadata": {
        "id": "f212b7d1",
        "outputId": "5937841c-0410-4845-8ec3-1cef163aa4f9",
        "colab": {
          "base_uri": "https://localhost:8080/",
          "height": 762
        }
      },
      "outputs": [
        {
          "output_type": "stream",
          "name": "stderr",
          "text": [
            "/usr/local/lib/python3.7/dist-packages/ipykernel_launcher.py:4: RuntimeWarning: overflow encountered in exp\n",
            "  after removing the cwd from sys.path.\n"
          ]
        },
        {
          "output_type": "execute_result",
          "data": {
            "text/plain": [
              "<graphviz.dot.Digraph at 0x7f3b21d96790>"
            ],
            "image/svg+xml": "<?xml version=\"1.0\" encoding=\"UTF-8\" standalone=\"no\"?>\n<!DOCTYPE svg PUBLIC \"-//W3C//DTD SVG 1.1//EN\"\n \"http://www.w3.org/Graphics/SVG/1.1/DTD/svg11.dtd\">\n<!-- Generated by graphviz version 2.40.1 (20161225.0304)\n -->\n<!-- Title: %3 Pages: 1 -->\n<svg width=\"610pt\" height=\"98pt\"\n viewBox=\"0.00 0.00 609.66 98.00\" xmlns=\"http://www.w3.org/2000/svg\" xmlns:xlink=\"http://www.w3.org/1999/xlink\">\n<g id=\"graph0\" class=\"graph\" transform=\"scale(1 1) rotate(0) translate(4 94)\">\n<title>%3</title>\n<polygon fill=\"#ffffff\" stroke=\"transparent\" points=\"-4,4 -4,-94 605.6597,-94 605.6597,4 -4,4\"/>\n<!-- Input -->\n<g id=\"node1\" class=\"node\">\n<title>Input</title>\n<ellipse fill=\"none\" stroke=\"#000000\" cx=\"52.6453\" cy=\"-45\" rx=\"52.7911\" ry=\"18\"/>\n<text text-anchor=\"middle\" x=\"52.6453\" y=\"-41.3\" font-family=\"Times,serif\" font-size=\"14.00\" fill=\"#000000\">input=0.01</text>\n</g>\n<!-- Hidden -->\n<g id=\"node3\" class=\"node\">\n<title>Hidden</title>\n<ellipse fill=\"none\" stroke=\"#000000\" cx=\"264.3864\" cy=\"-72\" rx=\"35.9954\" ry=\"18\"/>\n<text text-anchor=\"middle\" x=\"264.3864\" y=\"-68.3\" font-family=\"Times,serif\" font-size=\"14.00\" fill=\"#000000\">bias=0</text>\n</g>\n<!-- Input&#45;&gt;Hidden -->\n<g id=\"edge1\" class=\"edge\">\n<title>Input&#45;&gt;Hidden</title>\n<path fill=\"none\" stroke=\"#000000\" d=\"M102.022,-51.2962C137.4608,-55.8152 184.8432,-61.8571 219.27,-66.247\"/>\n<polygon fill=\"#000000\" stroke=\"#000000\" points=\"219.1482,-69.7597 229.5106,-67.5528 220.0337,-62.816 219.1482,-69.7597\"/>\n<text text-anchor=\"middle\" x=\"160.7907\" y=\"-66.8\" font-family=\"Times,serif\" font-size=\"14.00\" fill=\"#000000\">weight=400</text>\n</g>\n<!-- Hidden_2 -->\n<g id=\"node4\" class=\"node\">\n<title>Hidden_2</title>\n<ellipse fill=\"none\" stroke=\"#000000\" cx=\"264.3864\" cy=\"-18\" rx=\"48.1917\" ry=\"18\"/>\n<text text-anchor=\"middle\" x=\"264.3864\" y=\"-14.3\" font-family=\"Times,serif\" font-size=\"14.00\" fill=\"#000000\">bias=&#45;100</text>\n</g>\n<!-- Input&#45;&gt;Hidden_2 -->\n<g id=\"edge3\" class=\"edge\">\n<title>Input&#45;&gt;Hidden_2</title>\n<path fill=\"none\" stroke=\"#000000\" d=\"M101.2708,-37.9821C108.645,-36.9569 116.167,-35.9332 123.2907,-35 151.2588,-31.336 182.3861,-27.5542 208.2732,-24.4905\"/>\n<polygon fill=\"#000000\" stroke=\"#000000\" points=\"208.764,-27.957 218.2855,-23.3104 207.9445,-21.0051 208.764,-27.957\"/>\n<text text-anchor=\"middle\" x=\"160.7907\" y=\"-38.8\" font-family=\"Times,serif\" font-size=\"14.00\" fill=\"#000000\">weight=&#45;400</text>\n</g>\n<!-- Output -->\n<g id=\"node2\" class=\"node\">\n<title>Output</title>\n<ellipse fill=\"none\" stroke=\"#000000\" cx=\"475.5709\" cy=\"-44\" rx=\"126.1777\" ry=\"18\"/>\n<text text-anchor=\"middle\" x=\"475.5709\" y=\"-40.3\" font-family=\"Times,serif\" font-size=\"14.00\" fill=\"#000000\">output=0.9820137900379085</text>\n</g>\n<!-- Hidden&#45;&gt;Output -->\n<g id=\"edge2\" class=\"edge\">\n<title>Hidden&#45;&gt;Output</title>\n<path fill=\"none\" stroke=\"#000000\" d=\"M299.2592,-67.3764C319.5162,-64.6906 346.1996,-61.1528 372.6585,-57.6447\"/>\n<polygon fill=\"#000000\" stroke=\"#000000\" points=\"373.3211,-61.0876 382.7743,-56.3035 372.401,-54.1483 373.3211,-61.0876\"/>\n</g>\n<!-- Hidden_2&#45;&gt;Output -->\n<g id=\"edge4\" class=\"edge\">\n<title>Hidden_2&#45;&gt;Output</title>\n<path fill=\"none\" stroke=\"#000000\" d=\"M310.2103,-23.6416C327.9089,-25.8206 348.9477,-28.4108 369.9862,-31.0009\"/>\n<polygon fill=\"#000000\" stroke=\"#000000\" points=\"369.6158,-34.4817 379.9686,-32.2299 370.4712,-27.5341 369.6158,-34.4817\"/>\n</g>\n</g>\n</svg>\n"
          },
          "metadata": {},
          "execution_count": 16
        },
        {
          "output_type": "display_data",
          "data": {
            "text/plain": [
              "<Figure size 1440x720 with 3 Axes>"
            ],
            "image/png": "[encoded data removed]"
          },
          "metadata": {
            "needs_background": "light"
          }
        }
      ],
      "source": [
        "plt.close(\"all\")\n",
        "\n",
        "i = 0.01\n",
        "w1 = 400\n",
        "w2 = -400\n",
        "b1 = 0\n",
        "b2 = -100\n",
        "o = sigmoid(i, w1, b1) + sigmoid(i, w2, b2)\n",
        "g = Digraph(graph_attr={\"rankdir\": \"LR\"})\n",
        "g.node(name=\"Input\", label=f\"input={i}\")\n",
        "g.node(name=\"Output\", label=f\"output={o}\")\n",
        "g.node(name=\"Hidden\", label=f\"bias={b1}\")\n",
        "g.node(name=\"Hidden_2\", label=f\"bias={b2}\")\n",
        "g.edge(\"Input\", \"Hidden\", label=f\"weight={w1}\")\n",
        "g.edge(\"Hidden\", \"Output\")\n",
        "g.edge(\"Input\", \"Hidden_2\", label=f\"weight={w2}\")\n",
        "g.edge(\"Hidden_2\", \"Output\")\n",
        "\n",
        "fig, ax = plt.subplots(1, 3, figsize=(20, 10))\n",
        "x = np.linspace(-3, 3, 1000)\n",
        "y1 = sigmoid(x, w1, b1)\n",
        "y2 = sigmoid(x, w2, b2)\n",
        "ax[1].plot(x, y1)\n",
        "ax[0].plot(x, y2)\n",
        "ax[2].plot(x, y1 + y2)\n",
        "\n",
        "g"
      ]
    },
    {
      "cell_type": "markdown",
      "id": "f16ea887",
      "metadata": {
        "id": "f16ea887"
      },
      "source": [
        "Now, our perceptron has 2 units, and both their sigmoid outputs are being added to produce the output. The output, shown as a function of the two inputs, when the weights and biases are held constant, are shown in the right most figure. See how simply by tweaking the values of W and b we can produce rectangles.\n",
        "\n",
        "We can also produce as many rectangles as possible, simply by adding more and more units.\n",
        "\n",
        "We can also modulate the magnitude of the step functions:"
      ]
    },
    {
      "cell_type": "code",
      "execution_count": null,
      "id": "787f553d",
      "metadata": {
        "scrolled": true,
        "id": "787f553d",
        "outputId": "e08e9828-64b2-4fa0-d70d-7a427db485c4",
        "colab": {
          "base_uri": "https://localhost:8080/",
          "height": 834
        }
      },
      "outputs": [
        {
          "output_type": "stream",
          "name": "stderr",
          "text": [
            "/usr/local/lib/python3.7/dist-packages/ipykernel_launcher.py:4: RuntimeWarning: overflow encountered in exp\n",
            "  after removing the cwd from sys.path.\n"
          ]
        },
        {
          "output_type": "execute_result",
          "data": {
            "text/plain": [
              "<graphviz.dot.Digraph at 0x7f3ab3ba17d0>"
            ],
            "image/svg+xml": "<?xml version=\"1.0\" encoding=\"UTF-8\" standalone=\"no\"?>\n<!DOCTYPE svg PUBLIC \"-//W3C//DTD SVG 1.1//EN\"\n \"http://www.w3.org/Graphics/SVG/1.1/DTD/svg11.dtd\">\n<!-- Generated by graphviz version 2.40.1 (20161225.0304)\n -->\n<!-- Title: %3 Pages: 1 -->\n<svg width=\"624pt\" height=\"152pt\"\n viewBox=\"0.00 0.00 623.96 152.00\" xmlns=\"http://www.w3.org/2000/svg\" xmlns:xlink=\"http://www.w3.org/1999/xlink\">\n<g id=\"graph0\" class=\"graph\" transform=\"scale(1 1) rotate(0) translate(4 148)\">\n<title>%3</title>\n<polygon fill=\"#ffffff\" stroke=\"transparent\" points=\"-4,4 -4,-148 619.9585,-148 619.9585,4 -4,4\"/>\n<!-- Input -->\n<g id=\"node1\" class=\"node\">\n<title>Input</title>\n<ellipse fill=\"none\" stroke=\"#000000\" cx=\"48.0957\" cy=\"-72\" rx=\"48.1917\" ry=\"18\"/>\n<text text-anchor=\"middle\" x=\"48.0957\" y=\"-68.3\" font-family=\"Times,serif\" font-size=\"14.00\" fill=\"#000000\">input=0.5</text>\n</g>\n<!-- Hidden_1 -->\n<g id=\"node3\" class=\"node\">\n<title>Hidden_1</title>\n<ellipse fill=\"none\" stroke=\"#000000\" cx=\"255.2872\" cy=\"-126\" rx=\"48.1917\" ry=\"18\"/>\n<text text-anchor=\"middle\" x=\"255.2872\" y=\"-122.3\" font-family=\"Times,serif\" font-size=\"14.00\" fill=\"#000000\">bias=&#45;300</text>\n</g>\n<!-- Input&#45;&gt;Hidden_1 -->\n<g id=\"edge1\" class=\"edge\">\n<title>Input&#45;&gt;Hidden_1</title>\n<path fill=\"none\" stroke=\"#000000\" d=\"M86.1261,-83.191C95.2976,-85.8182 105.0799,-88.5612 114.1915,-91 144.0245,-98.9852 177.5751,-107.3334 204.4729,-113.8732\"/>\n<polygon fill=\"#000000\" stroke=\"#000000\" points=\"203.8914,-117.3335 214.4344,-116.2865 205.5397,-110.5303 203.8914,-117.3335\"/>\n<text text-anchor=\"middle\" x=\"151.6915\" y=\"-112.8\" font-family=\"Times,serif\" font-size=\"14.00\" fill=\"#000000\">weight=400</text>\n</g>\n<!-- Hidden_2 -->\n<g id=\"node4\" class=\"node\">\n<title>Hidden_2</title>\n<ellipse fill=\"none\" stroke=\"#000000\" cx=\"255.2872\" cy=\"-72\" rx=\"48.1917\" ry=\"18\"/>\n<text text-anchor=\"middle\" x=\"255.2872\" y=\"-68.3\" font-family=\"Times,serif\" font-size=\"14.00\" fill=\"#000000\">bias=&#45;100</text>\n</g>\n<!-- Input&#45;&gt;Hidden_2 -->\n<g id=\"edge3\" class=\"edge\">\n<title>Input&#45;&gt;Hidden_2</title>\n<path fill=\"none\" stroke=\"#000000\" d=\"M96.4114,-72C126.4075,-72 165.1482,-72 196.8643,-72\"/>\n<polygon fill=\"#000000\" stroke=\"#000000\" points=\"196.895,-75.5001 206.8949,-72 196.8949,-68.5001 196.895,-75.5001\"/>\n<text text-anchor=\"middle\" x=\"151.6915\" y=\"-75.8\" font-family=\"Times,serif\" font-size=\"14.00\" fill=\"#000000\">weight=&#45;400</text>\n</g>\n<!-- Hidden_3 -->\n<g id=\"node5\" class=\"node\">\n<title>Hidden_3</title>\n<ellipse fill=\"none\" stroke=\"#000000\" cx=\"255.2872\" cy=\"-18\" rx=\"48.1917\" ry=\"18\"/>\n<text text-anchor=\"middle\" x=\"255.2872\" y=\"-14.3\" font-family=\"Times,serif\" font-size=\"14.00\" fill=\"#000000\">bias=&#45;300</text>\n</g>\n<!-- Input&#45;&gt;Hidden_3 -->\n<g id=\"edge5\" class=\"edge\">\n<title>Input&#45;&gt;Hidden_3</title>\n<path fill=\"none\" stroke=\"#000000\" d=\"M86.1261,-60.809C95.2976,-58.1818 105.0799,-55.4388 114.1915,-53 144.0245,-45.0148 177.5751,-36.6666 204.4729,-30.1268\"/>\n<polygon fill=\"#000000\" stroke=\"#000000\" points=\"205.5397,-33.4697 214.4344,-27.7135 203.8914,-26.6665 205.5397,-33.4697\"/>\n<text text-anchor=\"middle\" x=\"151.6915\" y=\"-56.8\" font-family=\"Times,serif\" font-size=\"14.00\" fill=\"#000000\">weight=400</text>\n</g>\n<!-- Output -->\n<g id=\"node2\" class=\"node\">\n<title>Output</title>\n<ellipse fill=\"none\" stroke=\"#000000\" cx=\"478.1707\" cy=\"-72\" rx=\"137.5759\" ry=\"18\"/>\n<text text-anchor=\"middle\" x=\"478.1707\" y=\"-68.3\" font-family=\"Times,serif\" font-size=\"14.00\" fill=\"#000000\">output=7.440151952041671e&#45;44</text>\n</g>\n<!-- Hidden_1&#45;&gt;Output -->\n<g id=\"edge2\" class=\"edge\">\n<title>Hidden_1&#45;&gt;Output</title>\n<path fill=\"none\" stroke=\"#000000\" d=\"M295.9083,-116.1584C325.6339,-108.9565 366.8381,-98.9736 402.5503,-90.3212\"/>\n<polygon fill=\"#000000\" stroke=\"#000000\" points=\"403.5686,-93.6759 412.4633,-87.9195 401.9203,-86.8727 403.5686,-93.6759\"/>\n</g>\n<!-- Hidden_2&#45;&gt;Output -->\n<g id=\"edge4\" class=\"edge\">\n<title>Hidden_2&#45;&gt;Output</title>\n<path fill=\"none\" stroke=\"#000000\" d=\"M303.6496,-72C311.8296,-72 320.6856,-72 329.9217,-72\"/>\n<polygon fill=\"#000000\" stroke=\"#000000\" points=\"330.0789,-75.5001 340.0789,-72 330.0788,-68.5001 330.0789,-75.5001\"/>\n</g>\n<!-- Hidden_3&#45;&gt;Output -->\n<g id=\"edge6\" class=\"edge\">\n<title>Hidden_3&#45;&gt;Output</title>\n<path fill=\"none\" stroke=\"#000000\" d=\"M295.9083,-27.8416C325.6339,-35.0435 366.8381,-45.0264 402.5503,-53.6788\"/>\n<polygon fill=\"#000000\" stroke=\"#000000\" points=\"401.9203,-57.1273 412.4633,-56.0805 403.5686,-50.3241 401.9203,-57.1273\"/>\n</g>\n</g>\n</svg>\n"
          },
          "metadata": {},
          "execution_count": 17
        },
        {
          "output_type": "display_data",
          "data": {
            "text/plain": [
              "<Figure size 1440x720 with 4 Axes>"
            ],
            "image/png": "[encoded data removed]"
          },
          "metadata": {
            "needs_background": "light"
          }
        }
      ],
      "source": [
        "plt.close(\"all\")\n",
        "\n",
        "i = 0.5\n",
        "w1 = 400\n",
        "w2 = -400\n",
        "w3 = 400\n",
        "b1 = -300\n",
        "b2 = -100\n",
        "b3 = -300\n",
        "o = sigmoid(i, w1, b1) + sigmoid(i, w2, b2) + sigmoid(i, w3, b3)\n",
        "g = Digraph(graph_attr={\"rankdir\": \"LR\"})\n",
        "g.node(name=\"Input\", label=f\"input={i}\")\n",
        "g.node(name=\"Output\", label=f\"output={o}\")\n",
        "g.node(name=\"Hidden_1\", label=f\"bias={b1}\")\n",
        "g.node(name=\"Hidden_2\", label=f\"bias={b2}\")\n",
        "g.node(name=\"Hidden_3\", label=f\"bias={b3}\")\n",
        "g.edge(\"Input\", \"Hidden_1\", label=f\"weight={w1}\")\n",
        "g.edge(\"Hidden_1\", \"Output\")\n",
        "g.edge(\"Input\", \"Hidden_2\", label=f\"weight={w2}\")\n",
        "g.edge(\"Hidden_2\", \"Output\")\n",
        "g.edge(\"Input\", \"Hidden_3\", label=f\"weight={w3}\")\n",
        "g.edge(\"Hidden_3\", \"Output\")\n",
        "\n",
        "fig, ax = plt.subplots(1, 4, figsize=(20, 10))\n",
        "x = np.linspace(-3, 3, 1000)\n",
        "y1 = sigmoid(x, w1, b1)\n",
        "y2 = sigmoid(x, w2, b2)\n",
        "y3 = sigmoid(x, w3, b3)\n",
        "ax[1].plot(x, y1)\n",
        "ax[0].plot(x, y2)\n",
        "ax[2].plot(x, y3)\n",
        "ax[3].plot(x, y1 + y2 + y3)\n",
        "\n",
        "g"
      ]
    },
    {
      "cell_type": "markdown",
      "id": "191a39be",
      "metadata": {
        "id": "191a39be"
      },
      "source": [
        "I added one more neuron, which as simply the same as one of the previous neurons, so the rightmost figure shows how the unit step function at that point goes up to a value of 2.\n",
        "\n",
        "We have seen that:\n",
        "1 - We can create as many rectangles as possible (simply create more neurons)\n",
        "2 - We can change their magnitude (simply create more neurons that constructively or desctructively add)\n",
        "3 - We can change the rectangle's width (by adding more neurons)."
      ]
    },
    {
      "cell_type": "markdown",
      "id": "da0efed9",
      "metadata": {
        "id": "da0efed9"
      },
      "source": [
        "Summary: The above shows how simply controlling the WIDTH (the number of neurons) of the perceptron, and the magnitude of the weight and bias, we can produce any arbitrary combinations of step functions.\n",
        "\n",
        "Now imagine this as an approximation for integrals of functions which automatically makes it a good approximation of the function value. The rectangles can be made smaller and smaller by adding more and more units to better approximate the function. So you could non trivially create tinier and tinier rectangles that have magnitudes that are the same as some function value (the function you are trying to approximate). This satisfies the universal function approximation theorem."
      ]
    },
    {
      "cell_type": "code",
      "execution_count": null,
      "id": "081e3d4b",
      "metadata": {
        "id": "081e3d4b"
      },
      "outputs": [],
      "source": [
        "# Hint for adding a backward function\n",
        "\n",
        "class Scalar:\n",
        "\n",
        "    def __init__(self, data, _children=(), _op=\"\", label=\"\"):\n",
        "        self.data = data\n",
        "        self._prev = set(_children)\n",
        "        # Backward is a class function, initially does nothing\n",
        "        self._backward = lambda: None\n",
        "        self._op = _op\n",
        "        self.grad = 0.0\n",
        "        self.label = label\n",
        "\n",
        "    def __repr__(self):\n",
        "        return f\"Scalar(data={self.data})\"\n",
        "\n",
        "    def __add__(self, other):\n",
        "        out = Scalar(self.data + other.data, (self, other), \"+\")\n",
        "\n",
        "        # When this creates 'out', we need to populate out's gradient\n",
        "        def _backward():\n",
        "            # Chain rule: local gradient * global gradient\n",
        "            # Local gradient: d(self)/d(self) + d(other)/d(self) = 1 + 0 = 1\n",
        "            # Global gradient: out.grad\n",
        "            # Chain rule: 1 * out.grad\n",
        "            # self.grad = out.grad\n",
        "            # other.grad = out.grad\n",
        "            # But if these variables are used more than once,\n",
        "            # we need to accumulate gradients, instead of assigning them\n",
        "            self.grad += out.grad\n",
        "            # similar process as above for other:\n",
        "            other.grad += out.grad\n",
        "        out._backward = _backward\n",
        "        return out\n",
        "\n",
        "    def __mul__(self, other):\n",
        "        out = Scalar(self.data * other.data, (self, other), \"*\")\n",
        "\n",
        "        # What would be the backward function for multiplication?\n",
        "        def _backward():\n",
        "          # TODO: Implement me\n",
        "          pass\n",
        "        self._backward = backward\n",
        "        return out\n",
        "\n",
        "    def backward():\n",
        "\n",
        "      # TODO: Topological sort from 'self' down every _prev member\n",
        "      # all the way to the start (make a list of all scalars sorted\n",
        "      # topologically, starting from self)\n",
        "      # self.grad = 1 # gradient on self is always one (dx/dx = 1)\n",
        "      # For Scalar in topological sorted order: call scalar._backward()\n",
        "      # now all gradients are populated. Cross check with pytorch to\n",
        "      # confirm your implementation is correct\n",
        "      pass"
      ]
    }
  ],
  "metadata": {
    "kernelspec": {
      "display_name": "Python 3 (ipykernel)",
      "language": "python",
      "name": "python3"
    },
    "language_info": {
      "codemirror_mode": {
        "name": "ipython",
        "version": 3
      },
      "file_extension": ".py",
      "mimetype": "text/x-python",
      "name": "python",
      "nbconvert_exporter": "python",
      "pygments_lexer": "ipython3",
      "version": "3.9.12"
    },
    "colab": {
      "provenance": [],
      "include_colab_link": true
    }
  },
  "nbformat": 4,
  "nbformat_minor": 5
}