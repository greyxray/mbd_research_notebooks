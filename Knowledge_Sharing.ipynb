{
  "cells": [
    {
      "cell_type": "markdown",
      "metadata": {
        "id": "view-in-github",
        "colab_type": "text"
      },
      "source": [
        "<a href=\"https://colab.research.google.com/github/greyxray/mbd_research_notebooks/blob/main/Knowledge_Sharing.ipynb\" target=\"_parent\"><img src=\"https://colab.research.google.com/assets/colab-badge.svg\" alt=\"Open In Colab\"/></a>"
      ]
    },
    {
      "cell_type": "code",
      "execution_count": 1,
      "id": "0635080e",
      "metadata": {
        "id": "0635080e"
      },
      "outputs": [],
      "source": [
        "import numpy as np\n",
        "from graphviz import Digraph\n",
        "import matplotlib.pyplot as plt"
      ]
    },
    {
      "cell_type": "markdown",
      "id": "09656bda",
      "metadata": {
        "id": "09656bda"
      },
      "source": [
        "# Aim:\n",
        "We'll talk about deep learning, but not JUST deep learning. My hope is to also bring up some interesting engineering challenges.\n",
        "\n",
        "We will begin by starting with shallow neural networks, backpropagation and optimization techniques.\n",
        "\n",
        "Next we will go into convolutional neural networks, the history of CNN architectures, some interesting and useful libraries.\n",
        "\n",
        "Then we talk about image classification, object detection and segmentation.\n",
        "\n",
        "From there we will go into generative models, hopefully talking about GANs, normalizing flows and score based models (diffusion models).\n",
        "\n",
        "The goal is to keep up to date with topics in deep learning, think of ways where we might see these techniques being useful at the org and the engineering challenges will also translate to real world problem solving.\n",
        "\n",
        "This may also provide inspiration and motivation, which is never a bad thing.\n",
        "\n",
        "\n",
        "### So let's begin by asking a simple question: what is a neural networks?\n",
        "Simply put: Just a bunch of numbers, which are found using data. These numbers and some input are together passed through a computational graph made of simple operations to produce an output.\n",
        "\n",
        "Another way of looking at is: It's a function, can be a very complicated and long function, but always a function.\n",
        "\n",
        "\n",
        "## Today's Topic:\n",
        "Let's look at it more in depth as a function, talk about gradients, how backpropagation works and how pytorch implements computational graphs and backprop:\n",
        "\n",
        "I know this is a team of data scientists and this topic might be already familiar, or trivial to you. But it's good practice to start from the bottom, so that we are all on the same page regarding notation and intricacies."
      ]
    },
    {
      "cell_type": "code",
      "execution_count": 2,
      "id": "6f9ed32b",
      "metadata": {
        "id": "6f9ed32b",
        "outputId": "19964c83-b1ae-4eeb-bc36-4a28299388fc",
        "colab": {
          "base_uri": "https://localhost:8080/"
        }
      },
      "outputs": [
        {
          "output_type": "execute_result",
          "data": {
            "text/plain": [
              "40"
            ]
          },
          "metadata": {},
          "execution_count": 2
        }
      ],
      "source": [
        "# Let's define a simple function - A parabola in this case\n",
        "def f(x):\n",
        "    return 4*x**2 + 4\n",
        "\n",
        "# Yay we can evaluate this function at a given input value\n",
        "f(3)"
      ]
    },
    {
      "cell_type": "code",
      "execution_count": 3,
      "id": "d2fbd198",
      "metadata": {
        "id": "d2fbd198",
        "outputId": "7d71e8c3-3454-4fdb-ab1a-ccc6708398d5",
        "colab": {
          "base_uri": "https://localhost:8080/",
          "height": 448
        }
      },
      "outputs": [
        {
          "output_type": "execute_result",
          "data": {
            "text/plain": [
              "[<matplotlib.lines.Line2D at 0x7e216c2cd390>]"
            ]
          },
          "metadata": {},
          "execution_count": 3
        },
        {
          "output_type": "display_data",
          "data": {
            "text/plain": [
              "<Figure size 640x480 with 1 Axes>"
            ],
            "image/png": "[encoded data removed]"
          },
          "metadata": {}
        }
      ],
      "source": [
        "# Let's plot the function over a range of -5 to 5\n",
        "xs = np.arange(-5, 5, 0.25)\n",
        "ys = f(xs)\n",
        "plt.plot(xs, ys)"
      ]
    },
    {
      "cell_type": "markdown",
      "id": "60a7dfb3",
      "metadata": {
        "id": "60a7dfb3"
      },
      "source": [
        "Functions can be differentiated (assuming there are no discontinuities in the function). Symbolic differentiation is what we've been taught in calculus, but in computers it is much more easier to simply just use the analytic gradient.\n",
        "The analytic gradient is: (f(x + h) - f(x)) / h where h approaches 0. So basically, how much does the function change, if the input changes very slightly. Here is a demonstration of the analytic gradient for the function defined above."
      ]
    },
    {
      "cell_type": "code",
      "execution_count": 4,
      "id": "bfe9185c",
      "metadata": {
        "id": "bfe9185c",
        "outputId": "92bc43e7-2f91-4904-8163-229b6f14b800",
        "colab": {
          "base_uri": "https://localhost:8080/"
        }
      },
      "outputs": [
        {
          "output_type": "execute_result",
          "data": {
            "text/plain": [
              "-7.99960000000155"
            ]
          },
          "metadata": {},
          "execution_count": 4
        }
      ],
      "source": [
        "# Analytic gradient\n",
        "h = 0.0001\n",
        "x = -1\n",
        "grad = (f(x + h) - f(x)) / h\n",
        "grad\n",
        "\n",
        "# Symbolic graident = d/dx(4x**2 + 4) -> 8x + 0 -> 8x -> 8(-1) -> -8\n",
        "\n",
        "# Yaayyy symbolic == analytic (approximately)"
      ]
    },
    {
      "cell_type": "code",
      "execution_count": 5,
      "id": "9f524f1a",
      "metadata": {
        "id": "9f524f1a",
        "outputId": "c4f67baa-e127-4ca3-e59d-b2885e917334",
        "colab": {
          "base_uri": "https://localhost:8080/"
        }
      },
      "outputs": [
        {
          "output_type": "stream",
          "name": "stdout",
          "text": [
            "gradient of d w.r.t a: -3.000000000010772\n"
          ]
        }
      ],
      "source": [
        "# Slightly more complex:\n",
        "a = 2.0\n",
        "b = -3.0\n",
        "c = 10.0\n",
        "d = a * b + c\n",
        "\n",
        "d1 = a * b + c\n",
        "a += h\n",
        "d2 = a * b + c\n",
        "print(\"gradient of d w.r.t a:\", (d2-d1)/h)"
      ]
    },
    {
      "cell_type": "markdown",
      "id": "2a179e73",
      "metadata": {
        "id": "2a179e73"
      },
      "source": [
        "Let's build up from here and create a datastructure which will allow us to define computational graphs, and calculate gradients (leading us to backprop):"
      ]
    },
    {
      "cell_type": "code",
      "execution_count": 6,
      "id": "9be4678c",
      "metadata": {
        "id": "9be4678c",
        "outputId": "5342a6d9-cab4-47cd-be65-9347586f339b",
        "colab": {
          "base_uri": "https://localhost:8080/"
        }
      },
      "outputs": [
        {
          "output_type": "stream",
          "name": "stdout",
          "text": [
            "Scalar(data=2.0)\n"
          ]
        }
      ],
      "source": [
        "class Scalar:\n",
        "\n",
        "    def __init__(self, data):\n",
        "        self.data = data\n",
        "\n",
        "    def __repr__(self):\n",
        "        return f\"Scalar(data={self.data})\"\n",
        "\n",
        "a = Scalar(2.0)\n",
        "b = Scalar(-3.0)\n",
        "c = Scalar(10.0)\n",
        "print(a)"
      ]
    },
    {
      "cell_type": "markdown",
      "id": "ad124d37",
      "metadata": {
        "id": "ad124d37"
      },
      "source": [
        "Nothing special so far, but we can add some python operations to our class so we can add and multiply different Scalar objects together:"
      ]
    },
    {
      "cell_type": "code",
      "execution_count": 7,
      "id": "a786c083",
      "metadata": {
        "id": "a786c083",
        "outputId": "a0296fd8-baf3-4467-a22e-f71a82a40ff4",
        "colab": {
          "base_uri": "https://localhost:8080/"
        }
      },
      "outputs": [
        {
          "output_type": "stream",
          "name": "stdout",
          "text": [
            "Scalar(data=4.0)\n"
          ]
        }
      ],
      "source": [
        "class Scalar:\n",
        "\n",
        "    def __init__(self, data):\n",
        "        self.data = data\n",
        "\n",
        "    def __repr__(self):\n",
        "        return f\"Scalar(data={self.data})\"\n",
        "\n",
        "    def __add__(self, other):\n",
        "        out = self.data + other.data\n",
        "        return Scalar(out)\n",
        "\n",
        "    def __mul__(self, other):\n",
        "        out = self.data * other.data\n",
        "        return Scalar(out)\n",
        "\n",
        "a = Scalar(2.0)\n",
        "b = Scalar(-3.0)\n",
        "c = Scalar(10.0)\n",
        "d = a * b + c\n",
        "print(d)"
      ]
    },
    {
      "cell_type": "markdown",
      "id": "c66cb9cb",
      "metadata": {
        "id": "c66cb9cb"
      },
      "source": [
        "So now we have the \"computational\" part of the computational graph. Let's add the graph part:\n",
        "\n",
        "We include a \"_prev\" attribute which basically stores which scalar objects created this Scalar."
      ]
    },
    {
      "cell_type": "code",
      "execution_count": 8,
      "id": "58419729",
      "metadata": {
        "id": "58419729",
        "outputId": "d8a3eddc-be75-4aa6-92b7-b3f4832048a5",
        "colab": {
          "base_uri": "https://localhost:8080/"
        }
      },
      "outputs": [
        {
          "output_type": "stream",
          "name": "stdout",
          "text": [
            "Scalar(data=4.0)\n",
            "{Scalar(data=10.0), Scalar(data=-6.0)}\n"
          ]
        }
      ],
      "source": [
        "class Scalar:\n",
        "\n",
        "    def __init__(self, data, _children=()):\n",
        "        self.data = data\n",
        "        self._prev = set(_children)\n",
        "\n",
        "    def __repr__(self):\n",
        "        return f\"Scalar(data={self.data})\"\n",
        "\n",
        "    def __add__(self, other):\n",
        "        out = self.data + other.data\n",
        "        return Scalar(out, (self, other))\n",
        "\n",
        "    def __mul__(self, other):\n",
        "        out = self.data * other.data\n",
        "        return Scalar(out, (self, other))\n",
        "\n",
        "a = Scalar(2.0)\n",
        "b = Scalar(-3.0)\n",
        "c = Scalar(10.0)\n",
        "d = a * b + c\n",
        "print(d)\n",
        "print(d._prev)"
      ]
    },
    {
      "cell_type": "markdown",
      "id": "5bd600b6",
      "metadata": {
        "id": "5bd600b6"
      },
      "source": [
        "For completeness, let's record what operation created the new Scalar as well:"
      ]
    },
    {
      "cell_type": "code",
      "execution_count": 9,
      "id": "13605e94",
      "metadata": {
        "id": "13605e94",
        "outputId": "79bc3768-dc76-4729-d133-e00d6c74da85",
        "colab": {
          "base_uri": "https://localhost:8080/"
        }
      },
      "outputs": [
        {
          "output_type": "stream",
          "name": "stdout",
          "text": [
            "Scalar(data=4.0)\n",
            "{Scalar(data=10.0), Scalar(data=-6.0)}\n",
            "+\n"
          ]
        }
      ],
      "source": [
        "class Scalar:\n",
        "\n",
        "    def __init__(self, data, _children=(), _op=\"\"):\n",
        "        self.data = data\n",
        "        self._prev = set(_children)\n",
        "        self._op = _op\n",
        "\n",
        "    def __repr__(self):\n",
        "        return f\"Scalar(data={self.data})\"\n",
        "\n",
        "    def __add__(self, other):\n",
        "        out = self.data + other.data\n",
        "        return Scalar(out, (self, other), \"+\")\n",
        "\n",
        "    def __mul__(self, other):\n",
        "        out = self.data * other.data\n",
        "        return Scalar(out, (self, other), \"*\")\n",
        "\n",
        "a = Scalar(2.0)\n",
        "b = Scalar(-3.0)\n",
        "c = Scalar(10.0)\n",
        "d = a * b + c\n",
        "print(d)\n",
        "print(d._prev)\n",
        "print(d._op)"
      ]
    },
    {
      "cell_type": "markdown",
      "id": "279f5472",
      "metadata": {
        "id": "279f5472"
      },
      "source": [
        "Some boilerplate code to draw the computational graph given a root node:"
      ]
    },
    {
      "cell_type": "code",
      "execution_count": 10,
      "id": "cf6fa1bc",
      "metadata": {
        "id": "cf6fa1bc",
        "outputId": "ae015ccc-8810-49e4-d852-d0a4230a3079",
        "colab": {
          "base_uri": "https://localhost:8080/",
          "height": 192
        }
      },
      "outputs": [
        {
          "output_type": "execute_result",
          "data": {
            "image/svg+xml": "<?xml version=\"1.0\" encoding=\"UTF-8\" standalone=\"no\"?>\n<!DOCTYPE svg PUBLIC \"-//W3C//DTD SVG 1.1//EN\"\n \"http://www.w3.org/Graphics/SVG/1.1/DTD/svg11.dtd\">\n<!-- Generated by graphviz version 2.43.0 (0)\n -->\n<!-- Title: %3 Pages: 1 -->\n<svg width=\"512pt\" height=\"128pt\"\n viewBox=\"0.00 0.00 512.00 128.00\" xmlns=\"http://www.w3.org/2000/svg\" xmlns:xlink=\"http://www.w3.org/1999/xlink\">\n<g id=\"graph0\" class=\"graph\" transform=\"scale(1 1) rotate(0) translate(4 124)\">\n<title>%3</title>\n<polygon fill=\"white\" stroke=\"transparent\" points=\"-4,4 -4,-124 508,-124 508,4 -4,4\"/>\n<!-- 138682014172736 -->\n<g id=\"node1\" class=\"node\">\n<title>138682014172736</title>\n<polygon fill=\"none\" stroke=\"black\" points=\"0,-83.5 0,-119.5 85,-119.5 85,-83.5 0,-83.5\"/>\n<text text-anchor=\"middle\" x=\"42.5\" y=\"-97.8\" font-family=\"Times,serif\" font-size=\"14.00\">data &#45;3.0000</text>\n</g>\n<!-- 138682012744144* -->\n<g id=\"node5\" class=\"node\">\n<title>138682012744144*</title>\n<ellipse fill=\"none\" stroke=\"black\" cx=\"148\" cy=\"-73.5\" rx=\"27\" ry=\"18\"/>\n<text text-anchor=\"middle\" x=\"148\" y=\"-69.8\" font-family=\"Times,serif\" font-size=\"14.00\">*</text>\n</g>\n<!-- 138682014172736&#45;&gt;138682012744144* -->\n<g id=\"edge6\" class=\"edge\">\n<title>138682014172736&#45;&gt;138682012744144*</title>\n<path fill=\"none\" stroke=\"black\" d=\"M85,-90.27C94.32,-87.75 104.1,-85.11 113.06,-82.68\"/>\n<polygon fill=\"black\" stroke=\"black\" points=\"114.03,-86.04 122.77,-80.05 112.2,-79.29 114.03,-86.04\"/>\n</g>\n<!-- 138682014176000 -->\n<g id=\"node2\" class=\"node\">\n<title>138682014176000</title>\n<polygon fill=\"none\" stroke=\"black\" points=\"2.5,-28.5 2.5,-64.5 82.5,-64.5 82.5,-28.5 2.5,-28.5\"/>\n<text text-anchor=\"middle\" x=\"42.5\" y=\"-42.8\" font-family=\"Times,serif\" font-size=\"14.00\">data 2.0000</text>\n</g>\n<!-- 138682014176000&#45;&gt;138682012744144* -->\n<g id=\"edge3\" class=\"edge\">\n<title>138682014176000&#45;&gt;138682012744144*</title>\n<path fill=\"none\" stroke=\"black\" d=\"M82.63,-56.71C92.47,-59.27 102.95,-62.01 112.54,-64.51\"/>\n<polygon fill=\"black\" stroke=\"black\" points=\"111.96,-67.98 122.52,-67.11 113.73,-61.2 111.96,-67.98\"/>\n</g>\n<!-- 138682014176528 -->\n<g id=\"node3\" class=\"node\">\n<title>138682014176528</title>\n<polygon fill=\"none\" stroke=\"black\" points=\"211,-0.5 211,-36.5 298,-36.5 298,-0.5 211,-0.5\"/>\n<text text-anchor=\"middle\" x=\"254.5\" y=\"-14.8\" font-family=\"Times,serif\" font-size=\"14.00\">data 10.0000</text>\n</g>\n<!-- 138682012731376+ -->\n<g id=\"node7\" class=\"node\">\n<title>138682012731376+</title>\n<ellipse fill=\"none\" stroke=\"black\" cx=\"361\" cy=\"-45.5\" rx=\"27\" ry=\"18\"/>\n<text text-anchor=\"middle\" x=\"361\" y=\"-41.8\" font-family=\"Times,serif\" font-size=\"14.00\">+</text>\n</g>\n<!-- 138682014176528&#45;&gt;138682012731376+ -->\n<g id=\"edge5\" class=\"edge\">\n<title>138682014176528&#45;&gt;138682012731376+</title>\n<path fill=\"none\" stroke=\"black\" d=\"M298,-29.48C307.18,-31.85 316.78,-34.33 325.6,-36.61\"/>\n<polygon fill=\"black\" stroke=\"black\" points=\"324.97,-40.07 335.53,-39.18 326.73,-33.29 324.97,-40.07\"/>\n</g>\n<!-- 138682012744144 -->\n<g id=\"node4\" class=\"node\">\n<title>138682012744144</title>\n<polygon fill=\"none\" stroke=\"black\" points=\"212,-55.5 212,-91.5 297,-91.5 297,-55.5 212,-55.5\"/>\n<text text-anchor=\"middle\" x=\"254.5\" y=\"-69.8\" font-family=\"Times,serif\" font-size=\"14.00\">data &#45;6.0000</text>\n</g>\n<!-- 138682012744144&#45;&gt;138682012731376+ -->\n<g id=\"edge4\" class=\"edge\">\n<title>138682012744144&#45;&gt;138682012731376+</title>\n<path fill=\"none\" stroke=\"black\" d=\"M297.1,-62.35C306.61,-59.8 316.62,-57.12 325.78,-54.67\"/>\n<polygon fill=\"black\" stroke=\"black\" points=\"326.94,-57.98 335.69,-52.01 325.12,-51.22 326.94,-57.98\"/>\n</g>\n<!-- 138682012744144*&#45;&gt;138682012744144 -->\n<g id=\"edge1\" class=\"edge\">\n<title>138682012744144*&#45;&gt;138682012744144</title>\n<path fill=\"none\" stroke=\"black\" d=\"M175.1,-73.5C183.27,-73.5 192.59,-73.5 201.88,-73.5\"/>\n<polygon fill=\"black\" stroke=\"black\" points=\"201.89,-77 211.89,-73.5 201.89,-70 201.89,-77\"/>\n</g>\n<!-- 138682012731376 -->\n<g id=\"node6\" class=\"node\">\n<title>138682012731376</title>\n<polygon fill=\"none\" stroke=\"black\" points=\"424,-27.5 424,-63.5 504,-63.5 504,-27.5 424,-27.5\"/>\n<text text-anchor=\"middle\" x=\"464\" y=\"-41.8\" font-family=\"Times,serif\" font-size=\"14.00\">data 4.0000</text>\n</g>\n<!-- 138682012731376+&#45;&gt;138682012731376 -->\n<g id=\"edge2\" class=\"edge\">\n<title>138682012731376+&#45;&gt;138682012731376</title>\n<path fill=\"none\" stroke=\"black\" d=\"M388.01,-45.5C395.82,-45.5 404.67,-45.5 413.48,-45.5\"/>\n<polygon fill=\"black\" stroke=\"black\" points=\"413.73,-49 423.73,-45.5 413.73,-42 413.73,-49\"/>\n</g>\n</g>\n</svg>\n",
            "text/plain": [
              "<graphviz.graphs.Digraph at 0x7e216cc43d00>"
            ]
          },
          "metadata": {},
          "execution_count": 10
        }
      ],
      "source": [
        "def trace(root):\n",
        "    nodes, edges = set(), set()\n",
        "    def build(v):\n",
        "        if v not in nodes:\n",
        "            nodes.add(v)\n",
        "            for child in v._prev:\n",
        "                edges.add((child, v))\n",
        "                build(child)\n",
        "    build(root)\n",
        "    return nodes, edges\n",
        "\n",
        "def draw(root):\n",
        "    g = Digraph(format=\"svg\", graph_attr={\"rankdir\": \"LR\"})\n",
        "    nodes, edges = trace(root)\n",
        "    for n in nodes:\n",
        "        uid = str(id(n))\n",
        "        g.node(name=uid, label= \"{ data %.4f}\" % (n.data, ), shape=\"record\")\n",
        "        if n._op:\n",
        "            g.node(name = uid + n._op, label = n._op)\n",
        "            g.edge(uid + n._op, uid)\n",
        "\n",
        "    for n1, n2 in edges:\n",
        "        g.edge(str(id(n1)), str(id(n2)) + n2._op)\n",
        "    return g\n",
        "\n",
        "draw(d)"
      ]
    },
    {
      "cell_type": "markdown",
      "id": "5f0b5ed7",
      "metadata": {
        "id": "5f0b5ed7"
      },
      "source": [
        "Yay, now I've proved to you that computational graphs can be built in just a couple of lines of code. Not much overhead required at all. Now let's turn this into a \"deep learning\" library by adding the capability to store gradients for each node, so we can run backpropagation:"
      ]
    },
    {
      "cell_type": "code",
      "execution_count": 11,
      "id": "b1a63cbb",
      "metadata": {
        "id": "b1a63cbb",
        "outputId": "37ad994d-9045-42e5-ee7d-985a6dab12d7",
        "colab": {
          "base_uri": "https://localhost:8080/",
          "height": 322
        }
      },
      "outputs": [
        {
          "output_type": "stream",
          "name": "stdout",
          "text": [
            "Scalar(data=48.0)\n",
            "{Scalar(data=12), Scalar(data=4.0)}\n"
          ]
        },
        {
          "output_type": "execute_result",
          "data": {
            "image/svg+xml": "<?xml version=\"1.0\" encoding=\"UTF-8\" standalone=\"no\"?>\n<!DOCTYPE svg PUBLIC \"-//W3C//DTD SVG 1.1//EN\"\n \"http://www.w3.org/Graphics/SVG/1.1/DTD/svg11.dtd\">\n<!-- Generated by graphviz version 2.43.0 (0)\n -->\n<!-- Title: %3 Pages: 1 -->\n<svg width=\"826pt\" height=\"184pt\"\n viewBox=\"0.00 0.00 826.00 184.00\" xmlns=\"http://www.w3.org/2000/svg\" xmlns:xlink=\"http://www.w3.org/1999/xlink\">\n<g id=\"graph0\" class=\"graph\" transform=\"scale(1 1) rotate(0) translate(4 180)\">\n<title>%3</title>\n<polygon fill=\"white\" stroke=\"transparent\" points=\"-4,4 -4,-180 822,-180 822,4 -4,4\"/>\n<!-- 138682023546880 -->\n<g id=\"node1\" class=\"node\">\n<title>138682023546880</title>\n<polygon fill=\"none\" stroke=\"black\" points=\"470,-129.5 470,-175.5 580,-175.5 580,-129.5 470,-129.5\"/>\n<text text-anchor=\"middle\" x=\"481.5\" y=\"-160.3\" font-family=\"Times,serif\" font-size=\"14.00\">d</text>\n<polyline fill=\"none\" stroke=\"black\" points=\"493,-152.5 493,-175.5 \"/>\n<text text-anchor=\"middle\" x=\"536.5\" y=\"-160.3\" font-family=\"Times,serif\" font-size=\"14.00\">data 12.0000</text>\n<polyline fill=\"none\" stroke=\"black\" points=\"470,-152.5 580,-152.5 \"/>\n<text text-anchor=\"middle\" x=\"525\" y=\"-137.3\" font-family=\"Times,serif\" font-size=\"14.00\">grad 0.0000</text>\n</g>\n<!-- 138682012743520* -->\n<g id=\"node8\" class=\"node\">\n<title>138682012743520*</title>\n<ellipse fill=\"none\" stroke=\"black\" cx=\"643\" cy=\"-119.5\" rx=\"27\" ry=\"18\"/>\n<text text-anchor=\"middle\" x=\"643\" y=\"-115.8\" font-family=\"Times,serif\" font-size=\"14.00\">*</text>\n</g>\n<!-- 138682023546880&#45;&gt;138682012743520* -->\n<g id=\"edge6\" class=\"edge\">\n<title>138682023546880&#45;&gt;138682012743520*</title>\n<path fill=\"none\" stroke=\"black\" d=\"M580.26,-137.06C589.76,-134.36 599.38,-131.62 608.12,-129.14\"/>\n<polygon fill=\"black\" stroke=\"black\" points=\"609.25,-132.46 617.91,-126.35 607.34,-125.72 609.25,-132.46\"/>\n</g>\n<!-- 138682038548512 -->\n<g id=\"node2\" class=\"node\">\n<title>138682038548512</title>\n<polygon fill=\"none\" stroke=\"black\" points=\"0,-65.5 0,-111.5 108,-111.5 108,-65.5 0,-65.5\"/>\n<text text-anchor=\"middle\" x=\"11.5\" y=\"-96.3\" font-family=\"Times,serif\" font-size=\"14.00\">b</text>\n<polyline fill=\"none\" stroke=\"black\" points=\"23,-88.5 23,-111.5 \"/>\n<text text-anchor=\"middle\" x=\"65.5\" y=\"-96.3\" font-family=\"Times,serif\" font-size=\"14.00\">data &#45;3.0000</text>\n<polyline fill=\"none\" stroke=\"black\" points=\"0,-88.5 108,-88.5 \"/>\n<text text-anchor=\"middle\" x=\"54\" y=\"-73.3\" font-family=\"Times,serif\" font-size=\"14.00\">grad 0.0000</text>\n</g>\n<!-- 138682012742512* -->\n<g id=\"node10\" class=\"node\">\n<title>138682012742512*</title>\n<ellipse fill=\"none\" stroke=\"black\" cx=\"171\" cy=\"-55.5\" rx=\"27\" ry=\"18\"/>\n<text text-anchor=\"middle\" x=\"171\" y=\"-51.8\" font-family=\"Times,serif\" font-size=\"14.00\">*</text>\n</g>\n<!-- 138682038548512&#45;&gt;138682012742512* -->\n<g id=\"edge9\" class=\"edge\">\n<title>138682038548512&#45;&gt;138682012742512*</title>\n<path fill=\"none\" stroke=\"black\" d=\"M108.12,-73.26C117.6,-70.54 127.23,-67.77 135.99,-65.26\"/>\n<polygon fill=\"black\" stroke=\"black\" points=\"137.16,-68.57 145.8,-62.44 135.23,-61.84 137.16,-68.57\"/>\n</g>\n<!-- 138682023820400 -->\n<g id=\"node3\" class=\"node\">\n<title>138682023820400</title>\n<polygon fill=\"none\" stroke=\"black\" points=\"2.5,-0.5 2.5,-46.5 105.5,-46.5 105.5,-0.5 2.5,-0.5\"/>\n<text text-anchor=\"middle\" x=\"14\" y=\"-31.3\" font-family=\"Times,serif\" font-size=\"14.00\">a</text>\n<polyline fill=\"none\" stroke=\"black\" points=\"25.5,-23.5 25.5,-46.5 \"/>\n<text text-anchor=\"middle\" x=\"65.5\" y=\"-31.3\" font-family=\"Times,serif\" font-size=\"14.00\">data 2.0000</text>\n<polyline fill=\"none\" stroke=\"black\" points=\"2.5,-23.5 105.5,-23.5 \"/>\n<text text-anchor=\"middle\" x=\"54\" y=\"-8.3\" font-family=\"Times,serif\" font-size=\"14.00\">grad 0.0000</text>\n</g>\n<!-- 138682023820400&#45;&gt;138682012742512* -->\n<g id=\"edge7\" class=\"edge\">\n<title>138682023820400&#45;&gt;138682012742512*</title>\n<path fill=\"none\" stroke=\"black\" d=\"M105.78,-37.63C116.03,-40.48 126.57,-43.41 136.07,-46.06\"/>\n<polygon fill=\"black\" stroke=\"black\" points=\"135.34,-49.49 145.91,-48.8 137.21,-42.74 135.34,-49.49\"/>\n</g>\n<!-- 138682012739296 -->\n<g id=\"node4\" class=\"node\">\n<title>138682012739296</title>\n<polygon fill=\"none\" stroke=\"black\" points=\"474.5,-64.5 474.5,-110.5 575.5,-110.5 575.5,-64.5 474.5,-64.5\"/>\n<text text-anchor=\"middle\" x=\"485\" y=\"-95.3\" font-family=\"Times,serif\" font-size=\"14.00\">f</text>\n<polyline fill=\"none\" stroke=\"black\" points=\"495.5,-87.5 495.5,-110.5 \"/>\n<text text-anchor=\"middle\" x=\"535.5\" y=\"-95.3\" font-family=\"Times,serif\" font-size=\"14.00\">data 4.0000</text>\n<polyline fill=\"none\" stroke=\"black\" points=\"474.5,-87.5 575.5,-87.5 \"/>\n<text text-anchor=\"middle\" x=\"525\" y=\"-72.3\" font-family=\"Times,serif\" font-size=\"14.00\">grad 0.0000</text>\n</g>\n<!-- 138682012739296&#45;&gt;138682012743520* -->\n<g id=\"edge5\" class=\"edge\">\n<title>138682012739296&#45;&gt;138682012743520*</title>\n<path fill=\"none\" stroke=\"black\" d=\"M575.53,-101.16C586.52,-104.2 597.93,-107.34 608.13,-110.16\"/>\n<polygon fill=\"black\" stroke=\"black\" points=\"607.29,-113.55 617.86,-112.84 609.15,-106.81 607.29,-113.55\"/>\n</g>\n<!-- 138682012739296+ -->\n<g id=\"node5\" class=\"node\">\n<title>138682012739296+</title>\n<ellipse fill=\"none\" stroke=\"black\" cx=\"407\" cy=\"-87.5\" rx=\"27\" ry=\"18\"/>\n<text text-anchor=\"middle\" x=\"407\" y=\"-83.8\" font-family=\"Times,serif\" font-size=\"14.00\">+</text>\n</g>\n<!-- 138682012739296+&#45;&gt;138682012739296 -->\n<g id=\"edge1\" class=\"edge\">\n<title>138682012739296+&#45;&gt;138682012739296</title>\n<path fill=\"none\" stroke=\"black\" d=\"M434.03,-87.5C443.04,-87.5 453.55,-87.5 464.14,-87.5\"/>\n<polygon fill=\"black\" stroke=\"black\" points=\"464.27,-91 474.27,-87.5 464.27,-84 464.27,-91\"/>\n</g>\n<!-- 138682014184784 -->\n<g id=\"node6\" class=\"node\">\n<title>138682014184784</title>\n<polygon fill=\"none\" stroke=\"black\" points=\"234,-97.5 234,-143.5 344,-143.5 344,-97.5 234,-97.5\"/>\n<text text-anchor=\"middle\" x=\"245.5\" y=\"-128.3\" font-family=\"Times,serif\" font-size=\"14.00\">c</text>\n<polyline fill=\"none\" stroke=\"black\" points=\"257,-120.5 257,-143.5 \"/>\n<text text-anchor=\"middle\" x=\"300.5\" y=\"-128.3\" font-family=\"Times,serif\" font-size=\"14.00\">data 10.0000</text>\n<polyline fill=\"none\" stroke=\"black\" points=\"234,-120.5 344,-120.5 \"/>\n<text text-anchor=\"middle\" x=\"289\" y=\"-105.3\" font-family=\"Times,serif\" font-size=\"14.00\">grad 0.0000</text>\n</g>\n<!-- 138682014184784&#45;&gt;138682012739296+ -->\n<g id=\"edge8\" class=\"edge\">\n<title>138682014184784&#45;&gt;138682012739296+</title>\n<path fill=\"none\" stroke=\"black\" d=\"M344.26,-105.06C353.76,-102.36 363.38,-99.62 372.12,-97.14\"/>\n<polygon fill=\"black\" stroke=\"black\" points=\"373.25,-100.46 381.91,-94.35 371.34,-93.72 373.25,-100.46\"/>\n</g>\n<!-- 138682012743520 -->\n<g id=\"node7\" class=\"node\">\n<title>138682012743520</title>\n<polygon fill=\"none\" stroke=\"black\" points=\"706,-96.5 706,-142.5 818,-142.5 818,-96.5 706,-96.5\"/>\n<text text-anchor=\"middle\" x=\"718.5\" y=\"-127.3\" font-family=\"Times,serif\" font-size=\"14.00\">L</text>\n<polyline fill=\"none\" stroke=\"black\" points=\"731,-119.5 731,-142.5 \"/>\n<text text-anchor=\"middle\" x=\"774.5\" y=\"-127.3\" font-family=\"Times,serif\" font-size=\"14.00\">data 48.0000</text>\n<polyline fill=\"none\" stroke=\"black\" points=\"706,-119.5 818,-119.5 \"/>\n<text text-anchor=\"middle\" x=\"762\" y=\"-104.3\" font-family=\"Times,serif\" font-size=\"14.00\">grad 0.0000</text>\n</g>\n<!-- 138682012743520*&#45;&gt;138682012743520 -->\n<g id=\"edge2\" class=\"edge\">\n<title>138682012743520*&#45;&gt;138682012743520</title>\n<path fill=\"none\" stroke=\"black\" d=\"M670.26,-119.5C677.89,-119.5 686.6,-119.5 695.52,-119.5\"/>\n<polygon fill=\"black\" stroke=\"black\" points=\"695.64,-123 705.64,-119.5 695.64,-116 695.64,-123\"/>\n</g>\n<!-- 138682012742512 -->\n<g id=\"node9\" class=\"node\">\n<title>138682012742512</title>\n<polygon fill=\"none\" stroke=\"black\" points=\"235,-32.5 235,-78.5 343,-78.5 343,-32.5 235,-32.5\"/>\n<text text-anchor=\"middle\" x=\"246.5\" y=\"-63.3\" font-family=\"Times,serif\" font-size=\"14.00\">e</text>\n<polyline fill=\"none\" stroke=\"black\" points=\"258,-55.5 258,-78.5 \"/>\n<text text-anchor=\"middle\" x=\"300.5\" y=\"-63.3\" font-family=\"Times,serif\" font-size=\"14.00\">data &#45;6.0000</text>\n<polyline fill=\"none\" stroke=\"black\" points=\"235,-55.5 343,-55.5 \"/>\n<text text-anchor=\"middle\" x=\"289\" y=\"-40.3\" font-family=\"Times,serif\" font-size=\"14.00\">grad 0.0000</text>\n</g>\n<!-- 138682012742512&#45;&gt;138682012739296+ -->\n<g id=\"edge4\" class=\"edge\">\n<title>138682012742512&#45;&gt;138682012739296+</title>\n<path fill=\"none\" stroke=\"black\" d=\"M343.25,-70.19C353.03,-72.89 362.99,-75.63 372.01,-78.12\"/>\n<polygon fill=\"black\" stroke=\"black\" points=\"371.16,-81.52 381.73,-80.81 373.02,-74.77 371.16,-81.52\"/>\n</g>\n<!-- 138682012742512*&#45;&gt;138682012742512 -->\n<g id=\"edge3\" class=\"edge\">\n<title>138682012742512*&#45;&gt;138682012742512</title>\n<path fill=\"none\" stroke=\"black\" d=\"M198.03,-55.5C206.08,-55.5 215.32,-55.5 224.74,-55.5\"/>\n<polygon fill=\"black\" stroke=\"black\" points=\"224.99,-59 234.99,-55.5 224.99,-52 224.99,-59\"/>\n</g>\n</g>\n</svg>\n",
            "text/plain": [
              "<graphviz.graphs.Digraph at 0x7e216c1b1060>"
            ]
          },
          "metadata": {},
          "execution_count": 11
        }
      ],
      "source": [
        "def trace(root):\n",
        "    nodes, edges = set(), set()\n",
        "    def build(v):\n",
        "        if v not in nodes:\n",
        "            nodes.add(v)\n",
        "            for child in v._prev:\n",
        "                edges.add((child, v))\n",
        "                build(child)\n",
        "    build(root)\n",
        "    return nodes, edges\n",
        "\n",
        "def draw(root):\n",
        "    g = Digraph(format=\"svg\", graph_attr={\"rankdir\": \"LR\"})\n",
        "    nodes, edges = trace(root)\n",
        "    for n in nodes:\n",
        "        uid = str(id(n))\n",
        "        g.node(name=uid, label= \"{ %s |data %.4f} | {grad %.4f} \" % (n.label, n.data, n.grad), shape=\"record\")\n",
        "        if n._op:\n",
        "            g.node(name = uid + n._op, label = n._op)\n",
        "            g.edge(uid + n._op, uid)\n",
        "\n",
        "    for n1, n2 in edges:\n",
        "        g.edge(str(id(n1)), str(id(n2)) + n2._op)\n",
        "    return g\n",
        "\n",
        "\n",
        "class Scalar:\n",
        "\n",
        "    def __init__(self, data, _children=(), _op=\"\", label=\"\"):\n",
        "        self.data = data\n",
        "        self._prev = set(_children)\n",
        "        self._op = _op\n",
        "        self.grad = 0.0\n",
        "        self.label = label\n",
        "\n",
        "    def __repr__(self):\n",
        "        return f\"Scalar(data={self.data})\"\n",
        "\n",
        "    def __add__(self, other):\n",
        "        out = self.data + other.data\n",
        "        return Scalar(out, (self, other), \"+\")\n",
        "\n",
        "    def __mul__(self, other):\n",
        "        out = self.data * other.data\n",
        "        return Scalar(out, (self, other), \"*\")\n",
        "\n",
        "a = Scalar(2.0, label = \"a\")\n",
        "b = Scalar(-3.0, label = \"b\")\n",
        "c = Scalar(10.0, label = \"c\")\n",
        "d = Scalar(12, label=\"d\")\n",
        "e = a * b; e.label = \"e\"\n",
        "f = e + c; f.label = \"f\"\n",
        "L = d * f; L.label = \"L\"\n",
        "print(L)\n",
        "print(L._prev)\n",
        "draw(L)"
      ]
    },
    {
      "cell_type": "markdown",
      "id": "2e4932d6",
      "metadata": {
        "id": "2e4932d6"
      },
      "source": [
        "So now we know which variables create new variables, what each of their gradients are, and which operation creates them. Now let's run backpropagation assuming L is our loss function on this very simple computational graph."
      ]
    },
    {
      "cell_type": "code",
      "execution_count": 12,
      "id": "6a49d8a9",
      "metadata": {
        "id": "6a49d8a9",
        "outputId": "1f6f52df-8c73-420a-b169-ea1db983fca5",
        "colab": {
          "base_uri": "https://localhost:8080/",
          "height": 286
        }
      },
      "outputs": [
        {
          "output_type": "execute_result",
          "data": {
            "image/svg+xml": "<?xml version=\"1.0\" encoding=\"UTF-8\" standalone=\"no\"?>\n<!DOCTYPE svg PUBLIC \"-//W3C//DTD SVG 1.1//EN\"\n \"http://www.w3.org/Graphics/SVG/1.1/DTD/svg11.dtd\">\n<!-- Generated by graphviz version 2.43.0 (0)\n -->\n<!-- Title: %3 Pages: 1 -->\n<svg width=\"826pt\" height=\"184pt\"\n viewBox=\"0.00 0.00 826.00 184.00\" xmlns=\"http://www.w3.org/2000/svg\" xmlns:xlink=\"http://www.w3.org/1999/xlink\">\n<g id=\"graph0\" class=\"graph\" transform=\"scale(1 1) rotate(0) translate(4 180)\">\n<title>%3</title>\n<polygon fill=\"white\" stroke=\"transparent\" points=\"-4,4 -4,-180 822,-180 822,4 -4,4\"/>\n<!-- 138682023546880 -->\n<g id=\"node1\" class=\"node\">\n<title>138682023546880</title>\n<polygon fill=\"none\" stroke=\"black\" points=\"470,-129.5 470,-175.5 580,-175.5 580,-129.5 470,-129.5\"/>\n<text text-anchor=\"middle\" x=\"481.5\" y=\"-160.3\" font-family=\"Times,serif\" font-size=\"14.00\">d</text>\n<polyline fill=\"none\" stroke=\"black\" points=\"493,-152.5 493,-175.5 \"/>\n<text text-anchor=\"middle\" x=\"536.5\" y=\"-160.3\" font-family=\"Times,serif\" font-size=\"14.00\">data 12.0000</text>\n<polyline fill=\"none\" stroke=\"black\" points=\"470,-152.5 580,-152.5 \"/>\n<text text-anchor=\"middle\" x=\"525\" y=\"-137.3\" font-family=\"Times,serif\" font-size=\"14.00\">grad 0.0000</text>\n</g>\n<!-- 138682012743520* -->\n<g id=\"node8\" class=\"node\">\n<title>138682012743520*</title>\n<ellipse fill=\"none\" stroke=\"black\" cx=\"643\" cy=\"-119.5\" rx=\"27\" ry=\"18\"/>\n<text text-anchor=\"middle\" x=\"643\" y=\"-115.8\" font-family=\"Times,serif\" font-size=\"14.00\">*</text>\n</g>\n<!-- 138682023546880&#45;&gt;138682012743520* -->\n<g id=\"edge6\" class=\"edge\">\n<title>138682023546880&#45;&gt;138682012743520*</title>\n<path fill=\"none\" stroke=\"black\" d=\"M580.26,-137.06C589.76,-134.36 599.38,-131.62 608.12,-129.14\"/>\n<polygon fill=\"black\" stroke=\"black\" points=\"609.25,-132.46 617.91,-126.35 607.34,-125.72 609.25,-132.46\"/>\n</g>\n<!-- 138682038548512 -->\n<g id=\"node2\" class=\"node\">\n<title>138682038548512</title>\n<polygon fill=\"none\" stroke=\"black\" points=\"0,-65.5 0,-111.5 108,-111.5 108,-65.5 0,-65.5\"/>\n<text text-anchor=\"middle\" x=\"11.5\" y=\"-96.3\" font-family=\"Times,serif\" font-size=\"14.00\">b</text>\n<polyline fill=\"none\" stroke=\"black\" points=\"23,-88.5 23,-111.5 \"/>\n<text text-anchor=\"middle\" x=\"65.5\" y=\"-96.3\" font-family=\"Times,serif\" font-size=\"14.00\">data &#45;3.0000</text>\n<polyline fill=\"none\" stroke=\"black\" points=\"0,-88.5 108,-88.5 \"/>\n<text text-anchor=\"middle\" x=\"54\" y=\"-73.3\" font-family=\"Times,serif\" font-size=\"14.00\">grad 0.0000</text>\n</g>\n<!-- 138682012742512* -->\n<g id=\"node10\" class=\"node\">\n<title>138682012742512*</title>\n<ellipse fill=\"none\" stroke=\"black\" cx=\"171\" cy=\"-55.5\" rx=\"27\" ry=\"18\"/>\n<text text-anchor=\"middle\" x=\"171\" y=\"-51.8\" font-family=\"Times,serif\" font-size=\"14.00\">*</text>\n</g>\n<!-- 138682038548512&#45;&gt;138682012742512* -->\n<g id=\"edge9\" class=\"edge\">\n<title>138682038548512&#45;&gt;138682012742512*</title>\n<path fill=\"none\" stroke=\"black\" d=\"M108.12,-73.26C117.6,-70.54 127.23,-67.77 135.99,-65.26\"/>\n<polygon fill=\"black\" stroke=\"black\" points=\"137.16,-68.57 145.8,-62.44 135.23,-61.84 137.16,-68.57\"/>\n</g>\n<!-- 138682023820400 -->\n<g id=\"node3\" class=\"node\">\n<title>138682023820400</title>\n<polygon fill=\"none\" stroke=\"black\" points=\"2.5,-0.5 2.5,-46.5 105.5,-46.5 105.5,-0.5 2.5,-0.5\"/>\n<text text-anchor=\"middle\" x=\"14\" y=\"-31.3\" font-family=\"Times,serif\" font-size=\"14.00\">a</text>\n<polyline fill=\"none\" stroke=\"black\" points=\"25.5,-23.5 25.5,-46.5 \"/>\n<text text-anchor=\"middle\" x=\"65.5\" y=\"-31.3\" font-family=\"Times,serif\" font-size=\"14.00\">data 2.0000</text>\n<polyline fill=\"none\" stroke=\"black\" points=\"2.5,-23.5 105.5,-23.5 \"/>\n<text text-anchor=\"middle\" x=\"54\" y=\"-8.3\" font-family=\"Times,serif\" font-size=\"14.00\">grad 0.0000</text>\n</g>\n<!-- 138682023820400&#45;&gt;138682012742512* -->\n<g id=\"edge7\" class=\"edge\">\n<title>138682023820400&#45;&gt;138682012742512*</title>\n<path fill=\"none\" stroke=\"black\" d=\"M105.78,-37.63C116.03,-40.48 126.57,-43.41 136.07,-46.06\"/>\n<polygon fill=\"black\" stroke=\"black\" points=\"135.34,-49.49 145.91,-48.8 137.21,-42.74 135.34,-49.49\"/>\n</g>\n<!-- 138682012739296 -->\n<g id=\"node4\" class=\"node\">\n<title>138682012739296</title>\n<polygon fill=\"none\" stroke=\"black\" points=\"474.5,-64.5 474.5,-110.5 575.5,-110.5 575.5,-64.5 474.5,-64.5\"/>\n<text text-anchor=\"middle\" x=\"485\" y=\"-95.3\" font-family=\"Times,serif\" font-size=\"14.00\">f</text>\n<polyline fill=\"none\" stroke=\"black\" points=\"495.5,-87.5 495.5,-110.5 \"/>\n<text text-anchor=\"middle\" x=\"535.5\" y=\"-95.3\" font-family=\"Times,serif\" font-size=\"14.00\">data 4.0000</text>\n<polyline fill=\"none\" stroke=\"black\" points=\"474.5,-87.5 575.5,-87.5 \"/>\n<text text-anchor=\"middle\" x=\"525\" y=\"-72.3\" font-family=\"Times,serif\" font-size=\"14.00\">grad 0.0000</text>\n</g>\n<!-- 138682012739296&#45;&gt;138682012743520* -->\n<g id=\"edge5\" class=\"edge\">\n<title>138682012739296&#45;&gt;138682012743520*</title>\n<path fill=\"none\" stroke=\"black\" d=\"M575.53,-101.16C586.52,-104.2 597.93,-107.34 608.13,-110.16\"/>\n<polygon fill=\"black\" stroke=\"black\" points=\"607.29,-113.55 617.86,-112.84 609.15,-106.81 607.29,-113.55\"/>\n</g>\n<!-- 138682012739296+ -->\n<g id=\"node5\" class=\"node\">\n<title>138682012739296+</title>\n<ellipse fill=\"none\" stroke=\"black\" cx=\"407\" cy=\"-87.5\" rx=\"27\" ry=\"18\"/>\n<text text-anchor=\"middle\" x=\"407\" y=\"-83.8\" font-family=\"Times,serif\" font-size=\"14.00\">+</text>\n</g>\n<!-- 138682012739296+&#45;&gt;138682012739296 -->\n<g id=\"edge1\" class=\"edge\">\n<title>138682012739296+&#45;&gt;138682012739296</title>\n<path fill=\"none\" stroke=\"black\" d=\"M434.03,-87.5C443.04,-87.5 453.55,-87.5 464.14,-87.5\"/>\n<polygon fill=\"black\" stroke=\"black\" points=\"464.27,-91 474.27,-87.5 464.27,-84 464.27,-91\"/>\n</g>\n<!-- 138682014184784 -->\n<g id=\"node6\" class=\"node\">\n<title>138682014184784</title>\n<polygon fill=\"none\" stroke=\"black\" points=\"234,-97.5 234,-143.5 344,-143.5 344,-97.5 234,-97.5\"/>\n<text text-anchor=\"middle\" x=\"245.5\" y=\"-128.3\" font-family=\"Times,serif\" font-size=\"14.00\">c</text>\n<polyline fill=\"none\" stroke=\"black\" points=\"257,-120.5 257,-143.5 \"/>\n<text text-anchor=\"middle\" x=\"300.5\" y=\"-128.3\" font-family=\"Times,serif\" font-size=\"14.00\">data 10.0000</text>\n<polyline fill=\"none\" stroke=\"black\" points=\"234,-120.5 344,-120.5 \"/>\n<text text-anchor=\"middle\" x=\"289\" y=\"-105.3\" font-family=\"Times,serif\" font-size=\"14.00\">grad 0.0000</text>\n</g>\n<!-- 138682014184784&#45;&gt;138682012739296+ -->\n<g id=\"edge8\" class=\"edge\">\n<title>138682014184784&#45;&gt;138682012739296+</title>\n<path fill=\"none\" stroke=\"black\" d=\"M344.26,-105.06C353.76,-102.36 363.38,-99.62 372.12,-97.14\"/>\n<polygon fill=\"black\" stroke=\"black\" points=\"373.25,-100.46 381.91,-94.35 371.34,-93.72 373.25,-100.46\"/>\n</g>\n<!-- 138682012743520 -->\n<g id=\"node7\" class=\"node\">\n<title>138682012743520</title>\n<polygon fill=\"none\" stroke=\"black\" points=\"706,-96.5 706,-142.5 818,-142.5 818,-96.5 706,-96.5\"/>\n<text text-anchor=\"middle\" x=\"718.5\" y=\"-127.3\" font-family=\"Times,serif\" font-size=\"14.00\">L</text>\n<polyline fill=\"none\" stroke=\"black\" points=\"731,-119.5 731,-142.5 \"/>\n<text text-anchor=\"middle\" x=\"774.5\" y=\"-127.3\" font-family=\"Times,serif\" font-size=\"14.00\">data 48.0000</text>\n<polyline fill=\"none\" stroke=\"black\" points=\"706,-119.5 818,-119.5 \"/>\n<text text-anchor=\"middle\" x=\"762\" y=\"-104.3\" font-family=\"Times,serif\" font-size=\"14.00\">grad 1.0000</text>\n</g>\n<!-- 138682012743520*&#45;&gt;138682012743520 -->\n<g id=\"edge2\" class=\"edge\">\n<title>138682012743520*&#45;&gt;138682012743520</title>\n<path fill=\"none\" stroke=\"black\" d=\"M670.26,-119.5C677.89,-119.5 686.6,-119.5 695.52,-119.5\"/>\n<polygon fill=\"black\" stroke=\"black\" points=\"695.64,-123 705.64,-119.5 695.64,-116 695.64,-123\"/>\n</g>\n<!-- 138682012742512 -->\n<g id=\"node9\" class=\"node\">\n<title>138682012742512</title>\n<polygon fill=\"none\" stroke=\"black\" points=\"235,-32.5 235,-78.5 343,-78.5 343,-32.5 235,-32.5\"/>\n<text text-anchor=\"middle\" x=\"246.5\" y=\"-63.3\" font-family=\"Times,serif\" font-size=\"14.00\">e</text>\n<polyline fill=\"none\" stroke=\"black\" points=\"258,-55.5 258,-78.5 \"/>\n<text text-anchor=\"middle\" x=\"300.5\" y=\"-63.3\" font-family=\"Times,serif\" font-size=\"14.00\">data &#45;6.0000</text>\n<polyline fill=\"none\" stroke=\"black\" points=\"235,-55.5 343,-55.5 \"/>\n<text text-anchor=\"middle\" x=\"289\" y=\"-40.3\" font-family=\"Times,serif\" font-size=\"14.00\">grad 0.0000</text>\n</g>\n<!-- 138682012742512&#45;&gt;138682012739296+ -->\n<g id=\"edge4\" class=\"edge\">\n<title>138682012742512&#45;&gt;138682012739296+</title>\n<path fill=\"none\" stroke=\"black\" d=\"M343.25,-70.19C353.03,-72.89 362.99,-75.63 372.01,-78.12\"/>\n<polygon fill=\"black\" stroke=\"black\" points=\"371.16,-81.52 381.73,-80.81 373.02,-74.77 371.16,-81.52\"/>\n</g>\n<!-- 138682012742512*&#45;&gt;138682012742512 -->\n<g id=\"edge3\" class=\"edge\">\n<title>138682012742512*&#45;&gt;138682012742512</title>\n<path fill=\"none\" stroke=\"black\" d=\"M198.03,-55.5C206.08,-55.5 215.32,-55.5 224.74,-55.5\"/>\n<polygon fill=\"black\" stroke=\"black\" points=\"224.99,-59 234.99,-55.5 224.99,-52 224.99,-59\"/>\n</g>\n</g>\n</svg>\n",
            "text/plain": [
              "<graphviz.graphs.Digraph at 0x7e216c1b1210>"
            ]
          },
          "metadata": {},
          "execution_count": 12
        }
      ],
      "source": [
        "# dL/dL is trivially 1:\n",
        "L.grad = 1\n",
        "draw(L)"
      ]
    },
    {
      "cell_type": "markdown",
      "id": "bd94494f",
      "metadata": {
        "id": "bd94494f"
      },
      "source": [
        "Let's do some calculus to figure out what each of these node's gradient is:"
      ]
    },
    {
      "cell_type": "code",
      "execution_count": null,
      "id": "921335ee",
      "metadata": {
        "id": "921335ee",
        "outputId": "0a58ca08-b91f-41f8-bf4b-bc05596a499e",
        "colab": {
          "base_uri": "https://localhost:8080/",
          "height": 269
        }
      },
      "outputs": [
        {
          "output_type": "execute_result",
          "data": {
            "text/plain": [
              "<graphviz.dot.Digraph at 0x7f3b21d51190>"
            ],
            "image/svg+xml": "<?xml version=\"1.0\" encoding=\"UTF-8\" standalone=\"no\"?>\n<!DOCTYPE svg PUBLIC \"-//W3C//DTD SVG 1.1//EN\"\n \"http://www.w3.org/Graphics/SVG/1.1/DTD/svg11.dtd\">\n<!-- Generated by graphviz version 2.40.1 (20161225.0304)\n -->\n<!-- Title: %3 Pages: 1 -->\n<svg width=\"848pt\" height=\"186pt\"\n viewBox=\"0.00 0.00 848.00 186.00\" xmlns=\"http://www.w3.org/2000/svg\" xmlns:xlink=\"http://www.w3.org/1999/xlink\">\n<g id=\"graph0\" class=\"graph\" transform=\"scale(1 1) rotate(0) translate(4 182)\">\n<title>%3</title>\n<polygon fill=\"#ffffff\" stroke=\"transparent\" points=\"-4,4 -4,-182 844,-182 844,4 -4,4\"/>\n<!-- 139891942464528 -->\n<g id=\"node1\" class=\"node\">\n<title>139891942464528</title>\n<polygon fill=\"none\" stroke=\"#000000\" points=\"2.5,-131.5 2.5,-177.5 110.5,-177.5 110.5,-131.5 2.5,-131.5\"/>\n<text text-anchor=\"middle\" x=\"14\" y=\"-162.3\" font-family=\"Times,serif\" font-size=\"14.00\" fill=\"#000000\">a</text>\n<polyline fill=\"none\" stroke=\"#000000\" points=\"25.5,-154.5 25.5,-177.5 \"/>\n<text text-anchor=\"middle\" x=\"68\" y=\"-162.3\" font-family=\"Times,serif\" font-size=\"14.00\" fill=\"#000000\">data 2.0000</text>\n<polyline fill=\"none\" stroke=\"#000000\" points=\"2.5,-154.5 110.5,-154.5 \"/>\n<text text-anchor=\"middle\" x=\"56.5\" y=\"-139.3\" font-family=\"Times,serif\" font-size=\"14.00\" fill=\"#000000\">grad &#45;36.0000</text>\n</g>\n<!-- 139891942465424* -->\n<g id=\"node10\" class=\"node\">\n<title>139891942465424*</title>\n<ellipse fill=\"none\" stroke=\"#000000\" cx=\"176\" cy=\"-121.5\" rx=\"27\" ry=\"18\"/>\n<text text-anchor=\"middle\" x=\"176\" y=\"-117.8\" font-family=\"Times,serif\" font-size=\"14.00\" fill=\"#000000\">*</text>\n</g>\n<!-- 139891942464528&#45;&gt;139891942465424* -->\n<g id=\"edge4\" class=\"edge\">\n<title>139891942464528&#45;&gt;139891942465424*</title>\n<path fill=\"none\" stroke=\"#000000\" d=\"M110.6557,-139.5449C120.9957,-136.6895 131.5611,-133.7718 141.0987,-131.138\"/>\n<polygon fill=\"#000000\" stroke=\"#000000\" points=\"142.2777,-134.4435 150.9853,-128.4078 140.4144,-127.6961 142.2777,-134.4435\"/>\n</g>\n<!-- 139891942465104 -->\n<g id=\"node2\" class=\"node\">\n<title>139891942465104</title>\n<polygon fill=\"none\" stroke=\"#000000\" points=\"722,-32.5 722,-78.5 840,-78.5 840,-32.5 722,-32.5\"/>\n<text text-anchor=\"middle\" x=\"735\" y=\"-63.3\" font-family=\"Times,serif\" font-size=\"14.00\" fill=\"#000000\">L</text>\n<polyline fill=\"none\" stroke=\"#000000\" points=\"748,-55.5 748,-78.5 \"/>\n<text text-anchor=\"middle\" x=\"794\" y=\"-63.3\" font-family=\"Times,serif\" font-size=\"14.00\" fill=\"#000000\">data 48.0000</text>\n<polyline fill=\"none\" stroke=\"#000000\" points=\"722,-55.5 840,-55.5 \"/>\n<text text-anchor=\"middle\" x=\"781\" y=\"-40.3\" font-family=\"Times,serif\" font-size=\"14.00\" fill=\"#000000\">grad 1.0000</text>\n</g>\n<!-- 139891942465104* -->\n<g id=\"node3\" class=\"node\">\n<title>139891942465104*</title>\n<ellipse fill=\"none\" stroke=\"#000000\" cx=\"659\" cy=\"-55.5\" rx=\"27\" ry=\"18\"/>\n<text text-anchor=\"middle\" x=\"659\" y=\"-51.8\" font-family=\"Times,serif\" font-size=\"14.00\" fill=\"#000000\">*</text>\n</g>\n<!-- 139891942465104*&#45;&gt;139891942465104 -->\n<g id=\"edge1\" class=\"edge\">\n<title>139891942465104*&#45;&gt;139891942465104</title>\n<path fill=\"none\" stroke=\"#000000\" d=\"M686.0758,-55.5C693.7264,-55.5 702.421,-55.5 711.3684,-55.5\"/>\n<polygon fill=\"#000000\" stroke=\"#000000\" points=\"711.5357,-59.0001 721.5357,-55.5 711.5356,-52.0001 711.5357,-59.0001\"/>\n</g>\n<!-- 139891942464592 -->\n<g id=\"node4\" class=\"node\">\n<title>139891942464592</title>\n<polygon fill=\"none\" stroke=\"#000000\" points=\"0,-66.5 0,-112.5 113,-112.5 113,-66.5 0,-66.5\"/>\n<text text-anchor=\"middle\" x=\"12\" y=\"-97.3\" font-family=\"Times,serif\" font-size=\"14.00\" fill=\"#000000\">b</text>\n<polyline fill=\"none\" stroke=\"#000000\" points=\"24,-89.5 24,-112.5 \"/>\n<text text-anchor=\"middle\" x=\"68.5\" y=\"-97.3\" font-family=\"Times,serif\" font-size=\"14.00\" fill=\"#000000\">data &#45;3.0000</text>\n<polyline fill=\"none\" stroke=\"#000000\" points=\"0,-89.5 113,-89.5 \"/>\n<text text-anchor=\"middle\" x=\"56.5\" y=\"-74.3\" font-family=\"Times,serif\" font-size=\"14.00\" fill=\"#000000\">grad 24.0000</text>\n</g>\n<!-- 139891942464592&#45;&gt;139891942465424* -->\n<g id=\"edge6\" class=\"edge\">\n<title>139891942464592&#45;&gt;139891942465424*</title>\n<path fill=\"none\" stroke=\"#000000\" d=\"M113.1004,-104.6566C122.6395,-107.211 132.286,-109.7941 141.0636,-112.1446\"/>\n<polygon fill=\"#000000\" stroke=\"#000000\" points=\"140.3452,-115.5755 150.9102,-114.7814 142.1559,-108.8137 140.3452,-115.5755\"/>\n</g>\n<!-- 139891942464656 -->\n<g id=\"node5\" class=\"node\">\n<title>139891942464656</title>\n<polygon fill=\"none\" stroke=\"#000000\" points=\"485,-65.5 485,-111.5 591,-111.5 591,-65.5 485,-65.5\"/>\n<text text-anchor=\"middle\" x=\"495.5\" y=\"-96.3\" font-family=\"Times,serif\" font-size=\"14.00\" fill=\"#000000\">f</text>\n<polyline fill=\"none\" stroke=\"#000000\" points=\"506,-88.5 506,-111.5 \"/>\n<text text-anchor=\"middle\" x=\"548.5\" y=\"-96.3\" font-family=\"Times,serif\" font-size=\"14.00\" fill=\"#000000\">data 4.0000</text>\n<polyline fill=\"none\" stroke=\"#000000\" points=\"485,-88.5 591,-88.5 \"/>\n<text text-anchor=\"middle\" x=\"538\" y=\"-73.3\" font-family=\"Times,serif\" font-size=\"14.00\" fill=\"#000000\">grad 12.0000</text>\n</g>\n<!-- 139891942464656&#45;&gt;139891942465104* -->\n<g id=\"edge8\" class=\"edge\">\n<title>139891942464656&#45;&gt;139891942465104*</title>\n<path fill=\"none\" stroke=\"#000000\" d=\"M591.0724,-74.0257C602.2163,-70.9865 613.7017,-67.8541 623.985,-65.0496\"/>\n<polygon fill=\"#000000\" stroke=\"#000000\" points=\"625.0837,-68.3778 633.8105,-62.3699 623.2419,-61.6244 625.0837,-68.3778\"/>\n</g>\n<!-- 139891942464656+ -->\n<g id=\"node6\" class=\"node\">\n<title>139891942464656+</title>\n<ellipse fill=\"none\" stroke=\"#000000\" cx=\"417\" cy=\"-88.5\" rx=\"27\" ry=\"18\"/>\n<text text-anchor=\"middle\" x=\"417\" y=\"-84.8\" font-family=\"Times,serif\" font-size=\"14.00\" fill=\"#000000\">+</text>\n</g>\n<!-- 139891942464656+&#45;&gt;139891942464656 -->\n<g id=\"edge2\" class=\"edge\">\n<title>139891942464656+&#45;&gt;139891942464656</title>\n<path fill=\"none\" stroke=\"#000000\" d=\"M444.1548,-88.5C453.2368,-88.5 463.7767,-88.5 474.4437,-88.5\"/>\n<polygon fill=\"#000000\" stroke=\"#000000\" points=\"474.6663,-92.0001 484.6662,-88.5 474.6662,-85.0001 474.6663,-92.0001\"/>\n</g>\n<!-- 139891942465232 -->\n<g id=\"node7\" class=\"node\">\n<title>139891942465232</title>\n<polygon fill=\"none\" stroke=\"#000000\" points=\"239,-33.5 239,-79.5 354,-79.5 354,-33.5 239,-33.5\"/>\n<text text-anchor=\"middle\" x=\"250.5\" y=\"-64.3\" font-family=\"Times,serif\" font-size=\"14.00\" fill=\"#000000\">c</text>\n<polyline fill=\"none\" stroke=\"#000000\" points=\"262,-56.5 262,-79.5 \"/>\n<text text-anchor=\"middle\" x=\"308\" y=\"-64.3\" font-family=\"Times,serif\" font-size=\"14.00\" fill=\"#000000\">data 10.0000</text>\n<polyline fill=\"none\" stroke=\"#000000\" points=\"239,-56.5 354,-56.5 \"/>\n<text text-anchor=\"middle\" x=\"296.5\" y=\"-41.3\" font-family=\"Times,serif\" font-size=\"14.00\" fill=\"#000000\">grad 12.0000</text>\n</g>\n<!-- 139891942465232&#45;&gt;139891942464656+ -->\n<g id=\"edge5\" class=\"edge\">\n<title>139891942465232&#45;&gt;139891942464656+</title>\n<path fill=\"none\" stroke=\"#000000\" d=\"M354.2794,-71.8439C363.7436,-74.3572 373.2892,-76.8921 381.98,-79.2001\"/>\n<polygon fill=\"#000000\" stroke=\"#000000\" points=\"381.1702,-82.6063 391.7335,-81.7902 382.9669,-75.8408 381.1702,-82.6063\"/>\n</g>\n<!-- 139891942465360 -->\n<g id=\"node8\" class=\"node\">\n<title>139891942465360</title>\n<polygon fill=\"none\" stroke=\"#000000\" points=\"480,-.5 480,-46.5 596,-46.5 596,-.5 480,-.5\"/>\n<text text-anchor=\"middle\" x=\"492\" y=\"-31.3\" font-family=\"Times,serif\" font-size=\"14.00\" fill=\"#000000\">d</text>\n<polyline fill=\"none\" stroke=\"#000000\" points=\"504,-23.5 504,-46.5 \"/>\n<text text-anchor=\"middle\" x=\"550\" y=\"-31.3\" font-family=\"Times,serif\" font-size=\"14.00\" fill=\"#000000\">data 12.0000</text>\n<polyline fill=\"none\" stroke=\"#000000\" points=\"480,-23.5 596,-23.5 \"/>\n<text text-anchor=\"middle\" x=\"538\" y=\"-8.3\" font-family=\"Times,serif\" font-size=\"14.00\" fill=\"#000000\">grad 4.0000</text>\n</g>\n<!-- 139891942465360&#45;&gt;139891942465104* -->\n<g id=\"edge7\" class=\"edge\">\n<title>139891942465360&#45;&gt;139891942465104*</title>\n<path fill=\"none\" stroke=\"#000000\" d=\"M596.0192,-38.8439C605.5226,-41.3572 615.1078,-43.8921 623.8347,-46.2001\"/>\n<polygon fill=\"#000000\" stroke=\"#000000\" points=\"623.0662,-49.6171 633.6287,-48.7902 624.8559,-42.8498 623.0662,-49.6171\"/>\n</g>\n<!-- 139891942465424 -->\n<g id=\"node9\" class=\"node\">\n<title>139891942465424</title>\n<polygon fill=\"none\" stroke=\"#000000\" points=\"240.5,-98.5 240.5,-144.5 352.5,-144.5 352.5,-98.5 240.5,-98.5\"/>\n<text text-anchor=\"middle\" x=\"252\" y=\"-129.3\" font-family=\"Times,serif\" font-size=\"14.00\" fill=\"#000000\">e</text>\n<polyline fill=\"none\" stroke=\"#000000\" points=\"263.5,-121.5 263.5,-144.5 \"/>\n<text text-anchor=\"middle\" x=\"308\" y=\"-129.3\" font-family=\"Times,serif\" font-size=\"14.00\" fill=\"#000000\">data &#45;6.0000</text>\n<polyline fill=\"none\" stroke=\"#000000\" points=\"240.5,-121.5 352.5,-121.5 \"/>\n<text text-anchor=\"middle\" x=\"296.5\" y=\"-106.3\" font-family=\"Times,serif\" font-size=\"14.00\" fill=\"#000000\">grad 12.0000</text>\n</g>\n<!-- 139891942465424&#45;&gt;139891942464656+ -->\n<g id=\"edge9\" class=\"edge\">\n<title>139891942465424&#45;&gt;139891942464656+</title>\n<path fill=\"none\" stroke=\"#000000\" d=\"M352.5168,-106.1593C362.5195,-103.42 372.6786,-100.6378 381.8839,-98.1169\"/>\n<polygon fill=\"#000000\" stroke=\"#000000\" points=\"383.0923,-101.4149 391.8126,-95.3978 381.2433,-94.6635 383.0923,-101.4149\"/>\n</g>\n<!-- 139891942465424*&#45;&gt;139891942465424 -->\n<g id=\"edge3\" class=\"edge\">\n<title>139891942465424*&#45;&gt;139891942465424</title>\n<path fill=\"none\" stroke=\"#000000\" d=\"M203.0426,-121.5C211.2826,-121.5 220.7277,-121.5 230.3756,-121.5\"/>\n<polygon fill=\"#000000\" stroke=\"#000000\" points=\"230.4612,-125.0001 240.4612,-121.5 230.4612,-118.0001 230.4612,-125.0001\"/>\n</g>\n</g>\n</svg>\n"
          },
          "metadata": {},
          "execution_count": 13
        }
      ],
      "source": [
        "# a = Scalar(2.0, label = \"a\")\n",
        "# b = Scalar(-3.0, label = \"b\")\n",
        "# c = Scalar(10.0, label = \"c\")\n",
        "# d = Scalar(12, label=\"d\")\n",
        "# e = a * b; e.label = \"e\"\n",
        "# f = e + c; f.label = \"f\"\n",
        "# L = d * f; L.label = \"L\"\n",
        "\n",
        "#dl/df = d = 12\n",
        "#dl/dd = f = 4\n",
        "#df/de = 1\n",
        "#df/dc = 1\n",
        "#dl/de = dl/df * df/de = 12 * 1\n",
        "#dl/dc = dl/df * df/dc = 12 * 1\n",
        "#de/db = a = 2\n",
        "#de/da = b = -3\n",
        "#dl/db = de/db * dl/de = 2 * 12\n",
        "#dl/da = de/da * dl/de = -3 * 12\n",
        "\n",
        "\n",
        "f.grad = 12\n",
        "d.grad = 4\n",
        "e.grad = 12\n",
        "c.grad = 12\n",
        "b.grad = 2 * 12\n",
        "a.grad = -3 * 12\n",
        "draw(L)"
      ]
    },
    {
      "cell_type": "markdown",
      "id": "efc8ad31",
      "metadata": {
        "id": "efc8ad31"
      },
      "source": [
        "You might have noticed a pattern that for intermediary nodes, the gradient is always obtained using the chain rule. **And this chain rule is always a multiplication of the gradient coming from upstream (coming from loss) and the gradient of the current node (how much this node affects it's output)**.\n",
        "\n",
        "This is all backpropagation is. A recursive computation of the chain rule. Look at the plot above, the gradients are now filled in. Our manual backprop computational graph works.\n",
        "\n",
        "Below, we can use pytorch (or even analytic gradients) to check if our computation is correct:"
      ]
    },
    {
      "cell_type": "code",
      "execution_count": 13,
      "id": "5c25c10a",
      "metadata": {
        "id": "5c25c10a",
        "outputId": "40ff4c5d-098d-4402-f7cf-a2bb8531d4eb",
        "colab": {
          "base_uri": "https://localhost:8080/"
        }
      },
      "outputs": [
        {
          "output_type": "stream",
          "name": "stdout",
          "text": [
            "tensor([12.])\n",
            "tensor([4.])\n",
            "tensor([12.])\n",
            "tensor([12.])\n",
            "tensor([24.])\n",
            "tensor([-36.])\n"
          ]
        }
      ],
      "source": [
        "import torch\n",
        "a = torch.tensor([2.0], requires_grad=True)\n",
        "b = torch.tensor([-3.0], requires_grad=True)\n",
        "c = torch.tensor([10.0], requires_grad=True)\n",
        "d = torch.tensor([12.0], requires_grad=True)\n",
        "e = a * b\n",
        "f = e + c\n",
        "L = d * f\n",
        "f.retain_grad()\n",
        "e.retain_grad()\n",
        "L.backward()\n",
        "print(f.grad)\n",
        "print(d.grad)\n",
        "print(e.grad)\n",
        "print(c.grad)\n",
        "print(b.grad)\n",
        "print(a.grad)"
      ]
    },
    {
      "cell_type": "markdown",
      "id": "32643628",
      "metadata": {
        "id": "32643628"
      },
      "source": [
        "Cool, pytorch agrees with us. You may at this point, notice how similar `torch.Tensor` and our `Scalar` class are. They both provide the same functionality. PyTorch is 'slightly' more powerful because instead of scalars, you can operate on tensors (but really a tensor is just a collection of scalars, isn't it?). Notice how also, calling `.backward()` on `L` populated gradients automatically. This is why pytorch is an \"autograd\" engine. We didn't have to do any calculus and manual backprop.\n",
        "\n",
        "If you are interested, maybe think about how you will extend the Scalar class to also provide autograd functionality by including a `.backward()` function.\n",
        "\n",
        "While we didn't look at \"neural networks\" here. We did look at functions and how pytorch and computers handle them. Neural networks are simply very gigantic functions, and prolly you ARE already familiar with what it is. So that part is left out for brevity."
      ]
    },
    {
      "cell_type": "markdown",
      "id": "2b0a5870",
      "metadata": {
        "id": "2b0a5870"
      },
      "source": [
        "### Now let's move onto: Why neural networks?\n",
        "Simply put: **They are universal function approximators** (more on this later). And also because the layered architecture seems to work very well in practice. Why you may ask? that is a topic of research and there is no concrete answer yet.\n"
      ]
    },
    {
      "cell_type": "markdown",
      "source": [
        "\n",
        "#### \"Universal Function Approximator\" you said?\n",
        "This one gets thrown around a lot because it is self explanatory. But if someone were to ask us what it REALLY means, we might have a hard time explaining what this actually means.\n",
        "\n",
        "So here goes: The universal approximation theorem simply states, that given any continuous function f(x), there is a SINGLE LAYER perceptron (ANN) g(x) for which, given any error bound 'e', |f(x) - g()| < e. That is the difference between the neural network output and the function value is less than e.\n",
        "\n",
        "Now that the mathematics is out of the way, let's see a visual \"proof\" rather than a mathematical one."
      ],
      "metadata": {
        "id": "hNO_mhUaQxaZ"
      },
      "id": "hNO_mhUaQxaZ"
    },
    {
      "cell_type": "code",
      "execution_count": 14,
      "id": "fe4b671c",
      "metadata": {
        "id": "fe4b671c",
        "outputId": "58dc0ff5-29f9-4216-8d33-8aaebb9a1594",
        "colab": {
          "base_uri": "https://localhost:8080/",
          "height": 565
        }
      },
      "outputs": [
        {
          "output_type": "execute_result",
          "data": {
            "image/svg+xml": "<?xml version=\"1.0\" encoding=\"UTF-8\" standalone=\"no\"?>\n<!DOCTYPE svg PUBLIC \"-//W3C//DTD SVG 1.1//EN\"\n \"http://www.w3.org/Graphics/SVG/1.1/DTD/svg11.dtd\">\n<!-- Generated by graphviz version 2.43.0 (0)\n -->\n<!-- Title: %3 Pages: 1 -->\n<svg width=\"549pt\" height=\"98pt\"\n viewBox=\"0.00 0.00 549.46 98.00\" xmlns=\"http://www.w3.org/2000/svg\" xmlns:xlink=\"http://www.w3.org/1999/xlink\">\n<g id=\"graph0\" class=\"graph\" transform=\"scale(1 1) rotate(0) translate(4 94)\">\n<title>%3</title>\n<polygon fill=\"white\" stroke=\"transparent\" points=\"-4,4 -4,-94 545.46,-94 545.46,4 -4,4\"/>\n<!-- Input -->\n<g id=\"node1\" class=\"node\">\n<title>Input</title>\n<ellipse fill=\"none\" stroke=\"black\" cx=\"50.05\" cy=\"-44\" rx=\"50.09\" ry=\"18\"/>\n<text text-anchor=\"middle\" x=\"50.05\" y=\"-40.3\" font-family=\"Times,serif\" font-size=\"14.00\">input=0.01</text>\n</g>\n<!-- Hidden -->\n<g id=\"node3\" class=\"node\">\n<title>Hidden</title>\n<ellipse fill=\"none\" stroke=\"black\" cx=\"234.09\" cy=\"-72\" rx=\"38.99\" ry=\"18\"/>\n<text text-anchor=\"middle\" x=\"234.09\" y=\"-68.3\" font-family=\"Times,serif\" font-size=\"14.00\">bias=10</text>\n</g>\n<!-- Input&#45;&gt;Hidden -->\n<g id=\"edge1\" class=\"edge\">\n<title>Input&#45;&gt;Hidden</title>\n<path fill=\"none\" stroke=\"black\" d=\"M96.51,-50.99C123.97,-55.22 158.87,-60.58 186.52,-64.84\"/>\n<polygon fill=\"black\" stroke=\"black\" points=\"186.32,-68.35 196.73,-66.41 187.38,-61.43 186.32,-68.35\"/>\n<text text-anchor=\"middle\" x=\"147.59\" y=\"-65.8\" font-family=\"Times,serif\" font-size=\"14.00\">weight=10</text>\n</g>\n<!-- Hidden_2 -->\n<g id=\"node4\" class=\"node\">\n<title>Hidden_2</title>\n<ellipse fill=\"none\" stroke=\"black\" cx=\"234.09\" cy=\"-18\" rx=\"27\" ry=\"18\"/>\n</g>\n<!-- Input&#45;&gt;Hidden_2 -->\n<g id=\"edge3\" class=\"edge\">\n<title>Input&#45;&gt;Hidden_2</title>\n<path fill=\"none\" stroke=\"black\" d=\"M96.98,-37.44C128.13,-32.99 168.69,-27.2 197.41,-23.1\"/>\n<polygon fill=\"black\" stroke=\"black\" points=\"198.01,-26.55 207.42,-21.67 197.02,-19.62 198.01,-26.55\"/>\n</g>\n<!-- Output -->\n<g id=\"node2\" class=\"node\">\n<title>Output</title>\n<ellipse fill=\"none\" stroke=\"black\" cx=\"425.77\" cy=\"-44\" rx=\"115.88\" ry=\"18\"/>\n<text text-anchor=\"middle\" x=\"425.77\" y=\"-40.3\" font-family=\"Times,serif\" font-size=\"14.00\">output=0.9999589221322353</text>\n</g>\n<!-- Hidden&#45;&gt;Output -->\n<g id=\"edge2\" class=\"edge\">\n<title>Hidden&#45;&gt;Output</title>\n<path fill=\"none\" stroke=\"black\" d=\"M271.66,-66.6C288.76,-64.08 309.99,-60.94 331.14,-57.82\"/>\n<polygon fill=\"black\" stroke=\"black\" points=\"331.78,-61.27 341.16,-56.34 330.76,-54.34 331.78,-61.27\"/>\n</g>\n<!-- Hidden_2&#45;&gt;Output -->\n<g id=\"edge4\" class=\"edge\">\n<title>Hidden_2&#45;&gt;Output</title>\n<path fill=\"none\" stroke=\"black\" d=\"M260.67,-21.51C278.44,-23.94 303.33,-27.35 328.37,-30.79\"/>\n<polygon fill=\"black\" stroke=\"black\" points=\"327.95,-34.26 338.33,-32.15 328.9,-27.33 327.95,-34.26\"/>\n</g>\n</g>\n</svg>\n",
            "text/plain": [
              "<graphviz.graphs.Digraph at 0x7e216c1b0e50>"
            ]
          },
          "metadata": {},
          "execution_count": 14
        },
        {
          "output_type": "display_data",
          "data": {
            "text/plain": [
              "<Figure size 640x480 with 1 Axes>"
            ],
            "image/png": "[encoded data removed]"
          },
          "metadata": {}
        }
      ],
      "source": [
        "plt.close(\"all\")\n",
        "\n",
        "def sigmoid(x, w, b):\n",
        "    return 1 / (1 + np.exp(-1*(x * w + b)))\n",
        "\n",
        "i = 0.01\n",
        "w = 10\n",
        "b = 10\n",
        "o = sigmoid(i, w, b)\n",
        "\n",
        "g = Digraph(graph_attr={\"rankdir\": \"LR\"})\n",
        "g.node(name=\"Input\", label=f\"input={i}\")\n",
        "g.node(name=\"Output\", label=f\"output={o}\")\n",
        "g.node(name=\"Hidden\", label=f\"bias={b}\")\n",
        "g.node(name=\"Hidden_2\", label=\"\")\n",
        "g.edge(\"Input\", \"Hidden\", label=f\"weight={w}\")\n",
        "g.edge(\"Hidden\", \"Output\")\n",
        "g.edge(\"Input\", \"Hidden_2\")\n",
        "g.edge(\"Hidden_2\", \"Output\")\n",
        "\n",
        "plt.figure()\n",
        "x = np.linspace(-3, 3, 1000)\n",
        "y = sigmoid(x, w, b)\n",
        "plt.plot(x, y)\n",
        "\n",
        "g"
      ]
    },
    {
      "cell_type": "markdown",
      "id": "0518e7c9",
      "metadata": {
        "id": "0518e7c9"
      },
      "source": [
        "The above shows an input being multiplied by some weight, a bias being added, and the result being passed through a sigmoid function. This is what happens in a perceptron. What we are looking at in the graph above is just one \"unit\" of perceptron. The graph shows the output (sigmoid) as a function of the input when weight and bias are held constant.\n",
        "\n",
        "\n",
        "If we increase the weight and the biases a bit, we can turn the output into a very good approximation of a unit step function:"
      ]
    },
    {
      "cell_type": "code",
      "execution_count": 15,
      "id": "f212b7d1",
      "metadata": {
        "id": "f212b7d1",
        "outputId": "4a648a03-7a67-4d66-807b-b821a44daf86",
        "colab": {
          "base_uri": "https://localhost:8080/",
          "height": 739
        }
      },
      "outputs": [
        {
          "output_type": "stream",
          "name": "stderr",
          "text": [
            "<ipython-input-14-fb71db8dfd2e>:4: RuntimeWarning: overflow encountered in exp\n",
            "  return 1 / (1 + np.exp(-1*(x * w + b)))\n"
          ]
        },
        {
          "output_type": "execute_result",
          "data": {
            "image/svg+xml": "<?xml version=\"1.0\" encoding=\"UTF-8\" standalone=\"no\"?>\n<!DOCTYPE svg PUBLIC \"-//W3C//DTD SVG 1.1//EN\"\n \"http://www.w3.org/Graphics/SVG/1.1/DTD/svg11.dtd\">\n<!-- Generated by graphviz version 2.43.0 (0)\n -->\n<!-- Title: %3 Pages: 1 -->\n<svg width=\"575pt\" height=\"98pt\"\n viewBox=\"0.00 0.00 574.76 98.00\" xmlns=\"http://www.w3.org/2000/svg\" xmlns:xlink=\"http://www.w3.org/1999/xlink\">\n<g id=\"graph0\" class=\"graph\" transform=\"scale(1 1) rotate(0) translate(4 94)\">\n<title>%3</title>\n<polygon fill=\"white\" stroke=\"transparent\" points=\"-4,4 -4,-94 570.76,-94 570.76,4 -4,4\"/>\n<!-- Input -->\n<g id=\"node1\" class=\"node\">\n<title>Input</title>\n<ellipse fill=\"none\" stroke=\"black\" cx=\"50.05\" cy=\"-45\" rx=\"50.09\" ry=\"18\"/>\n<text text-anchor=\"middle\" x=\"50.05\" y=\"-41.3\" font-family=\"Times,serif\" font-size=\"14.00\">input=0.01</text>\n</g>\n<!-- Hidden -->\n<g id=\"node3\" class=\"node\">\n<title>Hidden</title>\n<ellipse fill=\"none\" stroke=\"black\" cx=\"252.24\" cy=\"-72\" rx=\"34.39\" ry=\"18\"/>\n<text text-anchor=\"middle\" x=\"252.24\" y=\"-68.3\" font-family=\"Times,serif\" font-size=\"14.00\">bias=0</text>\n</g>\n<!-- Input&#45;&gt;Hidden -->\n<g id=\"edge1\" class=\"edge\">\n<title>Input&#45;&gt;Hidden</title>\n<path fill=\"none\" stroke=\"black\" d=\"M97.22,-51.23C130.78,-55.75 175.85,-61.83 208.56,-66.24\"/>\n<polygon fill=\"black\" stroke=\"black\" points=\"208.33,-69.75 218.71,-67.61 209.27,-62.81 208.33,-69.75\"/>\n<text text-anchor=\"middle\" x=\"153.09\" y=\"-66.8\" font-family=\"Times,serif\" font-size=\"14.00\">weight=400</text>\n</g>\n<!-- Hidden_2 -->\n<g id=\"node4\" class=\"node\">\n<title>Hidden_2</title>\n<ellipse fill=\"none\" stroke=\"black\" cx=\"252.24\" cy=\"-18\" rx=\"46.29\" ry=\"18\"/>\n<text text-anchor=\"middle\" x=\"252.24\" y=\"-14.3\" font-family=\"Times,serif\" font-size=\"14.00\">bias=&#45;100</text>\n</g>\n<!-- Input&#45;&gt;Hidden_2 -->\n<g id=\"edge3\" class=\"edge\">\n<title>Input&#45;&gt;Hidden_2</title>\n<path fill=\"none\" stroke=\"black\" d=\"M96.47,-38.09C103.7,-37.03 111.1,-35.97 118.09,-35 144.35,-31.37 173.56,-27.61 197.91,-24.55\"/>\n<polygon fill=\"black\" stroke=\"black\" points=\"198.54,-28 208.03,-23.28 197.68,-21.05 198.54,-28\"/>\n<text text-anchor=\"middle\" x=\"153.09\" y=\"-38.8\" font-family=\"Times,serif\" font-size=\"14.00\">weight=&#45;400</text>\n</g>\n<!-- Output -->\n<g id=\"node2\" class=\"node\">\n<title>Output</title>\n<ellipse fill=\"none\" stroke=\"black\" cx=\"451.07\" cy=\"-44\" rx=\"115.88\" ry=\"18\"/>\n<text text-anchor=\"middle\" x=\"451.07\" y=\"-40.3\" font-family=\"Times,serif\" font-size=\"14.00\">output=0.9820137900379085</text>\n</g>\n<!-- Hidden&#45;&gt;Output -->\n<g id=\"edge2\" class=\"edge\">\n<title>Hidden&#45;&gt;Output</title>\n<path fill=\"none\" stroke=\"black\" d=\"M285.74,-67.38C304.74,-64.67 329.81,-61.11 354.63,-57.58\"/>\n<polygon fill=\"black\" stroke=\"black\" points=\"355.45,-61 364.86,-56.12 354.46,-54.07 355.45,-61\"/>\n</g>\n<!-- Hidden_2&#45;&gt;Output -->\n<g id=\"edge4\" class=\"edge\">\n<title>Hidden_2&#45;&gt;Output</title>\n<path fill=\"none\" stroke=\"black\" d=\"M296.43,-23.71C312.99,-25.89 332.62,-28.49 352.23,-31.08\"/>\n<polygon fill=\"black\" stroke=\"black\" points=\"351.78,-34.55 362.15,-32.39 352.7,-27.61 351.78,-34.55\"/>\n</g>\n</g>\n</svg>\n",
            "text/plain": [
              "<graphviz.graphs.Digraph at 0x7e20aa18ebc0>"
            ]
          },
          "metadata": {},
          "execution_count": 15
        },
        {
          "output_type": "display_data",
          "data": {
            "text/plain": [
              "<Figure size 2000x1000 with 3 Axes>"
            ],
            "image/png": "[encoded data removed]"
          },
          "metadata": {}
        }
      ],
      "source": [
        "plt.close(\"all\")\n",
        "\n",
        "i = 0.01\n",
        "w1, b1 = 400, 0\n",
        "w2, b2 = -400, -100\n",
        "o = sigmoid(i, w1, b1) + sigmoid(i, w2, b2)\n",
        "\n",
        "g = Digraph(graph_attr={\"rankdir\": \"LR\"})\n",
        "g.node(name=\"Input\", label=f\"input={i}\")\n",
        "g.node(name=\"Output\", label=f\"output={o}\")\n",
        "g.node(name=\"Hidden\", label=f\"bias={b1}\")\n",
        "g.node(name=\"Hidden_2\", label=f\"bias={b2}\")\n",
        "g.edge(\"Input\", \"Hidden\", label=f\"weight={w1}\")\n",
        "g.edge(\"Hidden\", \"Output\")\n",
        "g.edge(\"Input\", \"Hidden_2\", label=f\"weight={w2}\")\n",
        "g.edge(\"Hidden_2\", \"Output\")\n",
        "\n",
        "fig, ax = plt.subplots(1, 3, figsize=(20, 10))\n",
        "x = np.linspace(-3, 3, 1000)\n",
        "y1 = sigmoid(x, w1, b1)\n",
        "y2 = sigmoid(x, w2, b2)\n",
        "ax[1].plot(x, y1)\n",
        "ax[0].plot(x, y2)\n",
        "ax[2].plot(x, y1 + y2)\n",
        "\n",
        "g"
      ]
    },
    {
      "cell_type": "markdown",
      "id": "f16ea887",
      "metadata": {
        "id": "f16ea887"
      },
      "source": [
        "Now, our perceptron has 2 units, and both their sigmoid outputs are being added to produce the output. The output, shown as a function of the two inputs, when the weights and biases are held constant, are shown in the right most figure. See how simply by tweaking the values of W and b we can produce rectangles.\n",
        "\n",
        "We can also produce as many rectangles as possible, simply by adding more and more units.\n",
        "\n",
        "We can also modulate the magnitude of the step functions:"
      ]
    },
    {
      "cell_type": "code",
      "execution_count": 16,
      "id": "787f553d",
      "metadata": {
        "scrolled": true,
        "id": "787f553d",
        "outputId": "bb4b1d88-053c-419f-a740-0e305ba1bc24",
        "colab": {
          "base_uri": "https://localhost:8080/",
          "height": 811
        }
      },
      "outputs": [
        {
          "output_type": "stream",
          "name": "stderr",
          "text": [
            "<ipython-input-14-fb71db8dfd2e>:4: RuntimeWarning: overflow encountered in exp\n",
            "  return 1 / (1 + np.exp(-1*(x * w + b)))\n"
          ]
        },
        {
          "output_type": "execute_result",
          "data": {
            "image/svg+xml": "<?xml version=\"1.0\" encoding=\"UTF-8\" standalone=\"no\"?>\n<!DOCTYPE svg PUBLIC \"-//W3C//DTD SVG 1.1//EN\"\n \"http://www.w3.org/Graphics/SVG/1.1/DTD/svg11.dtd\">\n<!-- Generated by graphviz version 2.43.0 (0)\n -->\n<!-- Title: %3 Pages: 1 -->\n<svg width=\"588pt\" height=\"152pt\"\n viewBox=\"0.00 0.00 587.76 152.00\" xmlns=\"http://www.w3.org/2000/svg\" xmlns:xlink=\"http://www.w3.org/1999/xlink\">\n<g id=\"graph0\" class=\"graph\" transform=\"scale(1 1) rotate(0) translate(4 148)\">\n<title>%3</title>\n<polygon fill=\"white\" stroke=\"transparent\" points=\"-4,4 -4,-148 583.76,-148 583.76,4 -4,4\"/>\n<!-- Input -->\n<g id=\"node1\" class=\"node\">\n<title>Input</title>\n<ellipse fill=\"none\" stroke=\"black\" cx=\"45.5\" cy=\"-72\" rx=\"45.49\" ry=\"18\"/>\n<text text-anchor=\"middle\" x=\"45.5\" y=\"-68.3\" font-family=\"Times,serif\" font-size=\"14.00\">input=0.5</text>\n</g>\n<!-- Hidden_1 -->\n<g id=\"node3\" class=\"node\">\n<title>Hidden_1</title>\n<ellipse fill=\"none\" stroke=\"black\" cx=\"243.14\" cy=\"-126\" rx=\"46.29\" ry=\"18\"/>\n<text text-anchor=\"middle\" x=\"243.14\" y=\"-122.3\" font-family=\"Times,serif\" font-size=\"14.00\">bias=&#45;300</text>\n</g>\n<!-- Input&#45;&gt;Hidden_1 -->\n<g id=\"edge1\" class=\"edge\">\n<title>Input&#45;&gt;Hidden_1</title>\n<path fill=\"none\" stroke=\"black\" d=\"M81.79,-82.99C90.65,-85.67 100.15,-88.5 108.99,-91 137.11,-98.97 168.74,-107.31 194.12,-113.85\"/>\n<polygon fill=\"black\" stroke=\"black\" points=\"193.31,-117.25 203.87,-116.35 195.05,-110.47 193.31,-117.25\"/>\n<text text-anchor=\"middle\" x=\"143.99\" y=\"-112.8\" font-family=\"Times,serif\" font-size=\"14.00\">weight=400</text>\n</g>\n<!-- Hidden_2 -->\n<g id=\"node4\" class=\"node\">\n<title>Hidden_2</title>\n<ellipse fill=\"none\" stroke=\"black\" cx=\"243.14\" cy=\"-72\" rx=\"46.29\" ry=\"18\"/>\n<text text-anchor=\"middle\" x=\"243.14\" y=\"-68.3\" font-family=\"Times,serif\" font-size=\"14.00\">bias=&#45;100</text>\n</g>\n<!-- Input&#45;&gt;Hidden_2 -->\n<g id=\"edge3\" class=\"edge\">\n<title>Input&#45;&gt;Hidden_2</title>\n<path fill=\"none\" stroke=\"black\" d=\"M91.38,-72C119.64,-72 156.33,-72 186.43,-72\"/>\n<polygon fill=\"black\" stroke=\"black\" points=\"186.79,-75.5 196.78,-72 186.78,-68.5 186.79,-75.5\"/>\n<text text-anchor=\"middle\" x=\"143.99\" y=\"-75.8\" font-family=\"Times,serif\" font-size=\"14.00\">weight=&#45;400</text>\n</g>\n<!-- Hidden_3 -->\n<g id=\"node5\" class=\"node\">\n<title>Hidden_3</title>\n<ellipse fill=\"none\" stroke=\"black\" cx=\"243.14\" cy=\"-18\" rx=\"46.29\" ry=\"18\"/>\n<text text-anchor=\"middle\" x=\"243.14\" y=\"-14.3\" font-family=\"Times,serif\" font-size=\"14.00\">bias=&#45;300</text>\n</g>\n<!-- Input&#45;&gt;Hidden_3 -->\n<g id=\"edge5\" class=\"edge\">\n<title>Input&#45;&gt;Hidden_3</title>\n<path fill=\"none\" stroke=\"black\" d=\"M81.79,-61.01C90.65,-58.33 100.15,-55.5 108.99,-53 137.11,-45.03 168.74,-36.69 194.12,-30.15\"/>\n<polygon fill=\"black\" stroke=\"black\" points=\"195.05,-33.53 203.87,-27.65 193.31,-26.75 195.05,-33.53\"/>\n<text text-anchor=\"middle\" x=\"143.99\" y=\"-56.8\" font-family=\"Times,serif\" font-size=\"14.00\">weight=400</text>\n</g>\n<!-- Output -->\n<g id=\"node2\" class=\"node\">\n<title>Output</title>\n<ellipse fill=\"none\" stroke=\"black\" cx=\"453.02\" cy=\"-72\" rx=\"126.98\" ry=\"18\"/>\n<text text-anchor=\"middle\" x=\"453.02\" y=\"-68.3\" font-family=\"Times,serif\" font-size=\"14.00\">output=7.440151952041671e&#45;44</text>\n</g>\n<!-- Hidden_1&#45;&gt;Output -->\n<g id=\"edge2\" class=\"edge\">\n<title>Hidden_1&#45;&gt;Output</title>\n<path fill=\"none\" stroke=\"black\" d=\"M282.27,-116.1C309.89,-108.92 348.04,-99.01 381.18,-90.4\"/>\n<polygon fill=\"black\" stroke=\"black\" points=\"382.48,-93.68 391.28,-87.78 380.72,-86.9 382.48,-93.68\"/>\n</g>\n<!-- Hidden_2&#45;&gt;Output -->\n<g id=\"edge4\" class=\"edge\">\n<title>Hidden_2&#45;&gt;Output</title>\n<path fill=\"none\" stroke=\"black\" d=\"M289.5,-72C297.66,-72 306.54,-72 315.79,-72\"/>\n<polygon fill=\"black\" stroke=\"black\" points=\"315.96,-75.5 325.96,-72 315.96,-68.5 315.96,-75.5\"/>\n</g>\n<!-- Hidden_3&#45;&gt;Output -->\n<g id=\"edge6\" class=\"edge\">\n<title>Hidden_3&#45;&gt;Output</title>\n<path fill=\"none\" stroke=\"black\" d=\"M282.27,-27.9C309.89,-35.08 348.04,-44.99 381.18,-53.6\"/>\n<polygon fill=\"black\" stroke=\"black\" points=\"380.72,-57.1 391.28,-56.22 382.48,-50.32 380.72,-57.1\"/>\n</g>\n</g>\n</svg>\n",
            "text/plain": [
              "<graphviz.graphs.Digraph at 0x7e216da4ead0>"
            ]
          },
          "metadata": {},
          "execution_count": 16
        },
        {
          "output_type": "display_data",
          "data": {
            "text/plain": [
              "<Figure size 2000x1000 with 4 Axes>"
            ],
            "image/png": "[encoded data removed]"
          },
          "metadata": {}
        }
      ],
      "source": [
        "plt.close(\"all\")\n",
        "\n",
        "i = 0.5\n",
        "w1, b1 = 400, -300\n",
        "w2, b2 = -400, -100\n",
        "w3, b3 = 400, -300\n",
        "\n",
        "o = sigmoid(i, w1, b1) + sigmoid(i, w2, b2) + sigmoid(i, w3, b3)\n",
        "g = Digraph(graph_attr={\"rankdir\": \"LR\"})\n",
        "g.node(name=\"Input\", label=f\"input={i}\")\n",
        "g.node(name=\"Output\", label=f\"output={o}\")\n",
        "g.node(name=\"Hidden_1\", label=f\"bias={b1}\")\n",
        "g.node(name=\"Hidden_2\", label=f\"bias={b2}\")\n",
        "g.node(name=\"Hidden_3\", label=f\"bias={b3}\")\n",
        "g.edge(\"Input\", \"Hidden_1\", label=f\"weight={w1}\")\n",
        "g.edge(\"Hidden_1\", \"Output\")\n",
        "g.edge(\"Input\", \"Hidden_2\", label=f\"weight={w2}\")\n",
        "g.edge(\"Hidden_2\", \"Output\")\n",
        "g.edge(\"Input\", \"Hidden_3\", label=f\"weight={w3}\")\n",
        "g.edge(\"Hidden_3\", \"Output\")\n",
        "\n",
        "fig, ax = plt.subplots(1, 4, figsize=(20, 10))\n",
        "x = np.linspace(-3, 3, 1000)\n",
        "y1 = sigmoid(x, w1, b1)\n",
        "y2 = sigmoid(x, w2, b2)\n",
        "y3 = sigmoid(x, w3, b3)\n",
        "ax[1].plot(x, y1)\n",
        "ax[0].plot(x, y2)\n",
        "ax[2].plot(x, y3)\n",
        "ax[3].plot(x, y1 + y2 + y3)\n",
        "\n",
        "g"
      ]
    },
    {
      "cell_type": "markdown",
      "id": "191a39be",
      "metadata": {
        "id": "191a39be"
      },
      "source": [
        "I added one more neuron, which as simply the same as one of the previous neurons, so the rightmost figure shows how the unit step function at that point goes up to a value of 2.\n",
        "\n",
        "We have seen that:\n",
        "1 - We can create as many rectangles as possible (simply create more neurons)\n",
        "2 - We can change their magnitude (simply create more neurons that constructively or desctructively add)\n",
        "3 - We can change the rectangle's width (by adding more neurons)."
      ]
    },
    {
      "cell_type": "markdown",
      "id": "da0efed9",
      "metadata": {
        "id": "da0efed9"
      },
      "source": [
        "Summary: The above shows how simply controlling the **WIDTH (the number of neurons)** of the perceptron, and the magnitude of the weight and bias, **we can produce any arbitrary combinations of step functions**.\n",
        "\n",
        "Now imagine this as an approximation for integrals of functions which automatically makes it a good approximation of the function value. The rectangles can be made smaller and smaller by adding more and more units to better approximate the function. So you could non trivially create tinier and tinier rectangles that have magnitudes that are the same as some function value (the function you are trying to approximate). This satisfies the universal function approximation theorem."
      ]
    },
    {
      "cell_type": "markdown",
      "source": [
        "### Homework"
      ],
      "metadata": {
        "id": "QlzaukA0Qp92"
      },
      "id": "QlzaukA0Qp92"
    },
    {
      "cell_type": "code",
      "source": [
        "\n",
        "\"\"\"\n",
        "a = Scalar(2.0, label = \"a\")\n",
        "print(a._backward())\n",
        "b = Scalar(-3.0, label = \"b\")\n",
        "c = Scalar(10.0, label = \"c\")\n",
        "d = Scalar(12, label=\"d\")\n",
        "\n",
        "# build the computational graph\n",
        "e = a * b; e.label = \"e\"\n",
        "f = e + c; f.label = \"f\"\n",
        "L = d * f; L.label = \"L\"\n",
        "print(L._backward)\n",
        "\n",
        "#dl/df = d = 12\n",
        "#dl/dd = f = 4\n",
        "#df/de = 1 : local grad\n",
        "#df/dc = 1 : local grad\n",
        "#dl/de = dl/df * df/de = 12 * 1\n",
        "#dl/dc = dl/df * df/dc = 12 * 1\n",
        "#de/db = a = 2\n",
        "#de/da = b = -3\n",
        "#dl/db = de/db * dl/de = 2 * 12\n",
        "#dl/da = de/da * dl/de = -3 * 12\n",
        "\n",
        "L.backward()\n",
        "draw(L)\n",
        "\"\"\""
      ],
      "metadata": {
        "id": "ZqYkEEJWZvVP"
      },
      "id": "ZqYkEEJWZvVP",
      "execution_count": null,
      "outputs": []
    },
    {
      "cell_type": "code",
      "execution_count": 74,
      "id": "081e3d4b",
      "metadata": {
        "id": "081e3d4b",
        "colab": {
          "base_uri": "https://localhost:8080/",
          "height": 872
        },
        "outputId": "1f6800d5-9aae-4e46-81b3-c45f22a12be0"
      },
      "outputs": [
        {
          "output_type": "stream",
          "name": "stdout",
          "text": [
            "called : Scalar(label=, data=-12.0) + Scalar(label=a, data=2.0)\n",
            ".. setting out=Scalar(label=, data=-10.0)\n",
            "Called backward for Scalar(label=x, data=-10.0)\n",
            "append to backward calc: Scalar(label=x, data=-10.0)\n",
            "append to backward calc: Scalar(label=, data=-12.0)\n",
            "append to backward calc: Scalar(label=a, data=2.0)\n",
            "append to backward calc: Scalar(label=, data=-6.0)\n",
            "append to backward calc: Scalar(label=b, data=-3.0)\n",
            "append to backward calc: Scalar(label=a, data=2.0)\n",
            "\t already in!\n",
            "append to backward calc: Scalar(label=a, data=2.0)\n",
            "\t already in!\n",
            "call _backward on Scalar(label=x, data=-10.0)\n",
            "\t self: Scalar(label=, data=-12.0), other: Scalar(label=a, data=2.0)\n",
            "\t self.grad was 0.0, now + out.grad=1\n",
            "\t self.grad is 1.0\n",
            "\t other.grad was 0.0, now + out.grad=1\n",
            "\t other.grad is 1.0\n",
            "for Scalar(label=x, data=-10.0) back_return is None\n",
            "call _backward on Scalar(label=, data=-12.0)\n",
            "\t self: Scalar(label=, data=-6.0), other: Scalar(label=a, data=2.0)\n",
            "\t self.grad was 0.0, now += other.data=2.0  * out.grad=1.0\n",
            "\t self.grad = 2.0\n",
            "\t other.grad was 1.0, now += self.data=-6.0  * out.grad=1.0\n",
            "\t other.grad = -5.0\n",
            "for Scalar(label=, data=-12.0) back_return is None\n",
            "call _backward on Scalar(label=, data=-6.0)\n",
            "\t self: Scalar(label=a, data=2.0), other: Scalar(label=b, data=-3.0)\n",
            "\t self.grad was -5.0, now += other.data=-3.0  * out.grad=2.0\n",
            "\t self.grad = -11.0\n",
            "\t other.grad was 0.0, now += self.data=2.0  * out.grad=2.0\n",
            "\t other.grad = 4.0\n",
            "for Scalar(label=, data=-6.0) back_return is None\n",
            "call _backward on Scalar(label=b, data=-3.0)\n",
            "for Scalar(label=b, data=-3.0) back_return is None\n",
            "call _backward on Scalar(label=a, data=2.0)\n",
            "for Scalar(label=a, data=2.0) back_return is None\n"
          ]
        },
        {
          "output_type": "execute_result",
          "data": {
            "image/svg+xml": "<?xml version=\"1.0\" encoding=\"UTF-8\" standalone=\"no\"?>\n<!DOCTYPE svg PUBLIC \"-//W3C//DTD SVG 1.1//EN\"\n \"http://www.w3.org/Graphics/SVG/1.1/DTD/svg11.dtd\">\n<!-- Generated by graphviz version 2.43.0 (0)\n -->\n<!-- Title: %3 Pages: 1 -->\n<svg width=\"826pt\" height=\"128pt\"\n viewBox=\"0.00 0.00 826.00 127.50\" xmlns=\"http://www.w3.org/2000/svg\" xmlns:xlink=\"http://www.w3.org/1999/xlink\">\n<g id=\"graph0\" class=\"graph\" transform=\"scale(1 1) rotate(0) translate(4 123.5)\">\n<title>%3</title>\n<polygon fill=\"white\" stroke=\"transparent\" points=\"-4,4 -4,-123.5 822,-123.5 822,4 -4,4\"/>\n<!-- 138678587716704 -->\n<g id=\"node1\" class=\"node\">\n<title>138678587716704</title>\n<polygon fill=\"none\" stroke=\"black\" points=\"234,-67 234,-113 339,-113 339,-67 234,-67\"/>\n<text text-anchor=\"middle\" x=\"244\" y=\"-97.8\" font-family=\"Times,serif\" font-size=\"14.00\"> </text>\n<polyline fill=\"none\" stroke=\"black\" points=\"254,-90 254,-113 \"/>\n<text text-anchor=\"middle\" x=\"296.5\" y=\"-97.8\" font-family=\"Times,serif\" font-size=\"14.00\">data &#45;6.0000</text>\n<polyline fill=\"none\" stroke=\"black\" points=\"234,-90 339,-90 \"/>\n<text text-anchor=\"middle\" x=\"286.5\" y=\"-74.8\" font-family=\"Times,serif\" font-size=\"14.00\">grad 2.0000</text>\n</g>\n<!-- 138678587715264* -->\n<g id=\"node4\" class=\"node\">\n<title>138678587715264*</title>\n<ellipse fill=\"none\" stroke=\"black\" cx=\"402\" cy=\"-52\" rx=\"27\" ry=\"18\"/>\n<text text-anchor=\"middle\" x=\"402\" y=\"-48.3\" font-family=\"Times,serif\" font-size=\"14.00\">*</text>\n</g>\n<!-- 138678587716704&#45;&gt;138678587715264* -->\n<g id=\"edge8\" class=\"edge\">\n<title>138678587716704&#45;&gt;138678587715264*</title>\n<path fill=\"none\" stroke=\"black\" d=\"M339.27,-72.67C348.95,-69.43 358.83,-66.12 367.77,-63.13\"/>\n<polygon fill=\"black\" stroke=\"black\" points=\"369.02,-66.4 377.39,-59.9 366.8,-59.76 369.02,-66.4\"/>\n</g>\n<!-- 138678587716704* -->\n<g id=\"node2\" class=\"node\">\n<title>138678587716704*</title>\n<ellipse fill=\"none\" stroke=\"black\" cx=\"171\" cy=\"-90\" rx=\"27\" ry=\"18\"/>\n<text text-anchor=\"middle\" x=\"171\" y=\"-86.3\" font-family=\"Times,serif\" font-size=\"14.00\">*</text>\n</g>\n<!-- 138678587716704*&#45;&gt;138678587716704 -->\n<g id=\"edge1\" class=\"edge\">\n<title>138678587716704*&#45;&gt;138678587716704</title>\n<path fill=\"none\" stroke=\"black\" d=\"M198.04,-90C205.74,-90 214.53,-90 223.49,-90\"/>\n<polygon fill=\"black\" stroke=\"black\" points=\"223.63,-93.5 233.63,-90 223.63,-86.5 223.63,-93.5\"/>\n</g>\n<!-- 138678587715264 -->\n<g id=\"node3\" class=\"node\">\n<title>138678587715264</title>\n<polygon fill=\"none\" stroke=\"black\" points=\"465,-29 465,-75 577,-75 577,-29 465,-29\"/>\n<text text-anchor=\"middle\" x=\"475\" y=\"-59.8\" font-family=\"Times,serif\" font-size=\"14.00\"> </text>\n<polyline fill=\"none\" stroke=\"black\" points=\"485,-52 485,-75 \"/>\n<text text-anchor=\"middle\" x=\"531\" y=\"-59.8\" font-family=\"Times,serif\" font-size=\"14.00\">data &#45;12.0000</text>\n<polyline fill=\"none\" stroke=\"black\" points=\"465,-52 577,-52 \"/>\n<text text-anchor=\"middle\" x=\"521\" y=\"-36.8\" font-family=\"Times,serif\" font-size=\"14.00\">grad 1.0000</text>\n</g>\n<!-- 138678587714448+ -->\n<g id=\"node7\" class=\"node\">\n<title>138678587714448+</title>\n<ellipse fill=\"none\" stroke=\"black\" cx=\"640\" cy=\"-26\" rx=\"27\" ry=\"18\"/>\n<text text-anchor=\"middle\" x=\"640\" y=\"-22.3\" font-family=\"Times,serif\" font-size=\"14.00\">+</text>\n</g>\n<!-- 138678587715264&#45;&gt;138678587714448+ -->\n<g id=\"edge7\" class=\"edge\">\n<title>138678587715264&#45;&gt;138678587714448+</title>\n<path fill=\"none\" stroke=\"black\" d=\"M577.07,-39.76C586.34,-37.7 595.73,-35.62 604.29,-33.71\"/>\n<polygon fill=\"black\" stroke=\"black\" points=\"605.27,-37.08 614.27,-31.5 603.75,-30.25 605.27,-37.08\"/>\n</g>\n<!-- 138678587715264*&#45;&gt;138678587715264 -->\n<g id=\"edge2\" class=\"edge\">\n<title>138678587715264*&#45;&gt;138678587715264</title>\n<path fill=\"none\" stroke=\"black\" d=\"M429.26,-52C436.89,-52 445.6,-52 454.52,-52\"/>\n<polygon fill=\"black\" stroke=\"black\" points=\"454.64,-55.5 464.64,-52 454.64,-48.5 454.64,-55.5\"/>\n</g>\n<!-- 138678587542352 -->\n<g id=\"node5\" class=\"node\">\n<title>138678587542352</title>\n<polygon fill=\"none\" stroke=\"black\" points=\"2.5,-8 2.5,-54 105.5,-54 105.5,-8 2.5,-8\"/>\n<text text-anchor=\"middle\" x=\"14\" y=\"-38.8\" font-family=\"Times,serif\" font-size=\"14.00\">a</text>\n<polyline fill=\"none\" stroke=\"black\" points=\"25.5,-31 25.5,-54 \"/>\n<text text-anchor=\"middle\" x=\"65.5\" y=\"-38.8\" font-family=\"Times,serif\" font-size=\"14.00\">data 2.0000</text>\n<polyline fill=\"none\" stroke=\"black\" points=\"2.5,-31 105.5,-31 \"/>\n<text text-anchor=\"middle\" x=\"54\" y=\"-15.8\" font-family=\"Times,serif\" font-size=\"14.00\">grad &#45;11.0000</text>\n</g>\n<!-- 138678587542352&#45;&gt;138678587716704* -->\n<g id=\"edge6\" class=\"edge\">\n<title>138678587542352&#45;&gt;138678587716704*</title>\n<path fill=\"none\" stroke=\"black\" d=\"M100.12,-54.15C113.43,-60.98 127.66,-68.28 139.79,-74.5\"/>\n<polygon fill=\"black\" stroke=\"black\" points=\"138.51,-77.78 149.01,-79.23 141.71,-71.55 138.51,-77.78\"/>\n</g>\n<!-- 138678587542352&#45;&gt;138678587715264* -->\n<g id=\"edge5\" class=\"edge\">\n<title>138678587542352&#45;&gt;138678587715264*</title>\n<path fill=\"none\" stroke=\"black\" d=\"M105.68,-34.08C176.3,-38.36 302.6,-46.03 364.61,-49.79\"/>\n<polygon fill=\"black\" stroke=\"black\" points=\"364.51,-53.29 374.71,-50.4 364.94,-46.3 364.51,-53.29\"/>\n</g>\n<!-- 138678587542352&#45;&gt;138678587714448+ -->\n<g id=\"edge4\" class=\"edge\">\n<title>138678587542352&#45;&gt;138678587714448+</title>\n<path fill=\"none\" stroke=\"black\" d=\"M105.55,-20.24C152.08,-11.29 223.12,0 285.5,0 285.5,0 285.5,0 403,0 474.51,0 557.48,-11.94 603.54,-19.64\"/>\n<polygon fill=\"black\" stroke=\"black\" points=\"603.16,-23.12 613.61,-21.35 604.34,-16.22 603.16,-23.12\"/>\n</g>\n<!-- 138678587714448 -->\n<g id=\"node6\" class=\"node\">\n<title>138678587714448</title>\n<polygon fill=\"none\" stroke=\"black\" points=\"703,-3 703,-49 818,-49 818,-3 703,-3\"/>\n<text text-anchor=\"middle\" x=\"714.5\" y=\"-33.8\" font-family=\"Times,serif\" font-size=\"14.00\">x</text>\n<polyline fill=\"none\" stroke=\"black\" points=\"726,-26 726,-49 \"/>\n<text text-anchor=\"middle\" x=\"772\" y=\"-33.8\" font-family=\"Times,serif\" font-size=\"14.00\">data &#45;10.0000</text>\n<polyline fill=\"none\" stroke=\"black\" points=\"703,-26 818,-26 \"/>\n<text text-anchor=\"middle\" x=\"760.5\" y=\"-10.8\" font-family=\"Times,serif\" font-size=\"14.00\">grad 1.0000</text>\n</g>\n<!-- 138678587714448+&#45;&gt;138678587714448 -->\n<g id=\"edge3\" class=\"edge\">\n<title>138678587714448+&#45;&gt;138678587714448</title>\n<path fill=\"none\" stroke=\"black\" d=\"M667.01,-26C674.81,-26 683.75,-26 692.93,-26\"/>\n<polygon fill=\"black\" stroke=\"black\" points=\"692.95,-29.5 702.95,-26 692.95,-22.5 692.95,-29.5\"/>\n</g>\n<!-- 138678587555792 -->\n<g id=\"node8\" class=\"node\">\n<title>138678587555792</title>\n<polygon fill=\"none\" stroke=\"black\" points=\"0,-73 0,-119 108,-119 108,-73 0,-73\"/>\n<text text-anchor=\"middle\" x=\"11.5\" y=\"-103.8\" font-family=\"Times,serif\" font-size=\"14.00\">b</text>\n<polyline fill=\"none\" stroke=\"black\" points=\"23,-96 23,-119 \"/>\n<text text-anchor=\"middle\" x=\"65.5\" y=\"-103.8\" font-family=\"Times,serif\" font-size=\"14.00\">data &#45;3.0000</text>\n<polyline fill=\"none\" stroke=\"black\" points=\"0,-96 108,-96 \"/>\n<text text-anchor=\"middle\" x=\"54\" y=\"-80.8\" font-family=\"Times,serif\" font-size=\"14.00\">grad 4.0000</text>\n</g>\n<!-- 138678587555792&#45;&gt;138678587716704* -->\n<g id=\"edge9\" class=\"edge\">\n<title>138678587555792&#45;&gt;138678587716704*</title>\n<path fill=\"none\" stroke=\"black\" d=\"M108.12,-93.23C116.8,-92.78 125.61,-92.32 133.75,-91.89\"/>\n<polygon fill=\"black\" stroke=\"black\" points=\"134.21,-95.37 144.01,-91.36 133.85,-88.38 134.21,-95.37\"/>\n</g>\n</g>\n</svg>\n",
            "text/plain": [
              "<graphviz.graphs.Digraph at 0x7e209ff562f0>"
            ]
          },
          "metadata": {},
          "execution_count": 74
        }
      ],
      "source": [
        "# Hint for adding a backward function\n",
        "\n",
        "class Scalar:\n",
        "\n",
        "    def __init__(self, data, _children=(), _op=\"\", label=\"\"):\n",
        "        self.data = data\n",
        "        self._prev = set(_children)\n",
        "        # Backward is a class function, initially does nothing\n",
        "        self._backward = lambda: None\n",
        "        self._op = _op\n",
        "        self.grad = 0.0\n",
        "        self.label = label\n",
        "\n",
        "    def __repr__(self):\n",
        "        return f\"Scalar(label={self.label}, data={self.data})\"\n",
        "\n",
        "    def __add__(self, other):\n",
        "        print(f\"called : {self} + {other}\")\n",
        "        out = Scalar(self.data + other.data, (self, other), \"+\")\n",
        "        print(f\".. setting out={out}\")\n",
        "\n",
        "        # When this creates 'out', we need to populate **out's** gradient\n",
        "        def _backward():\n",
        "            # we operate with: self + other = out -> like a+b = l ; out.grad = d_grad = dL/dl\n",
        "            # dL/da = dL/dl * dl/da = out.grad * 1\n",
        "            #\n",
        "            # Chain rule: local gradient * global gradient\n",
        "            # Local gradient: d(self)/d(self) + d(other)/d(self) = 1 + 0 = 1\n",
        "            # Global gradient: out.grad\n",
        "            # Chain rule: 1 * out.grad\n",
        "            # self.grad = out.grad\n",
        "            # other.grad = out.grad\n",
        "            # But if these variables are used more than once,\n",
        "            # we need to accumulate gradients, instead of assigning them\n",
        "            print(f\"\\t self: {self}, other: {other}\")\n",
        "            print(f\"\\t self.grad was {self.grad}, now + out.grad={ out.grad}\")\n",
        "            self.grad += out.grad\n",
        "            print(f\"\\t self.grad is {self.grad}\")\n",
        "            print(f\"\\t other.grad was {other.grad}, now + out.grad={ out.grad}\")\n",
        "            # similar process as above for other\n",
        "            other.grad += out.grad\n",
        "            print(f\"\\t other.grad is {other.grad}\")\n",
        "\n",
        "        out._backward = _backward\n",
        "\n",
        "        return out\n",
        "\n",
        "    def __mul__(self, other):\n",
        "        out = Scalar(self.data * other.data, (self, other), \"*\")\n",
        "\n",
        "        # What would be the backward function for multiplication?\n",
        "        def _backward():\n",
        "            # we operate with: self * other = out -> like a*b = l ; out.grad = d_grad = dL/dl\n",
        "            # d_self = other * d_grad -> like d_a == dL/da = dl/da * dL/dl = b * dL/dl\n",
        "            # d_other = self * d_grad -> like d_b == dL/db = dl/db * dL/dl = a * dL/dl\n",
        "            print(f\"\\t self: {self}, other: {other}\")\n",
        "            print(f\"\\t self.grad was {self.grad}, now += other.data={ other.data}  * out.grad={ out.grad}\")\n",
        "            self.grad += other.data * out.grad\n",
        "            print(f\"\\t self.grad = {self.grad}\")\n",
        "            print(f\"\\t other.grad was {other.grad}, now += self.data={ self.data}  * out.grad={ out.grad}\")\n",
        "            other.grad += self.data * out.grad\n",
        "            print(f\"\\t other.grad = {other.grad}\")\n",
        "\n",
        "        out._backward = _backward\n",
        "\n",
        "        # self._backward = backward\n",
        "        return out\n",
        "\n",
        "    def backward(self):\n",
        "      print(f\"Called backward for {self}\")\n",
        "\n",
        "      # TODO: Topological sort from 'self' down every _prev member\n",
        "      # all the way to the start (make a list of all scalars sorted\n",
        "      # topologically, starting from self)\n",
        "      topo = []\n",
        "      visited_nodes = set()\n",
        "      def build_topo(v):\n",
        "          print(f\"append to backward calc: {v}\")\n",
        "          if v not in visited_nodes:\n",
        "              visited_nodes.add(v)\n",
        "              for child in v._prev:\n",
        "                  build_topo(child)\n",
        "              topo.append(v)\n",
        "          else:\n",
        "            print(\"\\t already in!\")\n",
        "\n",
        "      build_topo(self)\n",
        "\n",
        "      # go one variable at a time and apply the chain rule to get its gradient\n",
        "      # gradient on self is always one (dx/dx = 1)\n",
        "      self.grad = 1 # dL/dL = 1\n",
        "      # loop from left2right\n",
        "      for v in reversed(topo):\n",
        "          print(f\"call _backward on {v}\")\n",
        "          # For Scalar in topological sorted order: call scalar._backward()\n",
        "          # now all gradients are populated.\n",
        "          back_return = v._backward()\n",
        "          print(f\"for {v} back_return is {back_return}\")\n",
        "\n",
        "\n",
        "\n",
        "\n",
        "a = Scalar(2.0, label = \"a\")\n",
        "b = Scalar(-3.0, label = \"b\")\n",
        "c = Scalar(10.0, label = \"c\")\n",
        "# d = Scalar(12, label=\"d\")\n",
        "\n",
        "# x =  a+b; x.label=\"x\"\n",
        "# x =  a+b+a; x.label=\"x\"\n",
        "# x =  a+b+c ; x.label=\"x\"\n",
        "x =  a*b*a + a; x.label=\"x\"\n",
        "\n",
        "x.backward()\n",
        "draw(x)\n",
        "# build the computational graph\n",
        "# e = a * b; e.label = \"e\"\n",
        "# f = e + c; f.label = \"f\"\n",
        "# L = d * f; L.label = \"L\"\n",
        "# \"\"\""
      ]
    },
    {
      "cell_type": "code",
      "source": [
        "a._backward() is None"
      ],
      "metadata": {
        "id": "e0lLe49icMK1",
        "outputId": "1765e3f1-aeda-47ec-9bdd-d7f735c5b59e",
        "colab": {
          "base_uri": "https://localhost:8080/"
        }
      },
      "id": "e0lLe49icMK1",
      "execution_count": 61,
      "outputs": [
        {
          "output_type": "execute_result",
          "data": {
            "text/plain": [
              "True"
            ]
          },
          "metadata": {},
          "execution_count": 61
        }
      ]
    },
    {
      "cell_type": "code",
      "source": [
        "L.grad"
      ],
      "metadata": {
        "colab": {
          "base_uri": "https://localhost:8080/"
        },
        "id": "bFaorC6VOp4v",
        "outputId": "5f981983-4d93-4403-d468-209202fa4a75"
      },
      "id": "bFaorC6VOp4v",
      "execution_count": 27,
      "outputs": [
        {
          "output_type": "execute_result",
          "data": {
            "text/plain": [
              "1"
            ]
          },
          "metadata": {},
          "execution_count": 27
        }
      ]
    },
    {
      "cell_type": "code",
      "source": [
        "\n",
        "print(f.grad)\n",
        "print(d.grad)\n",
        "print(e.grad)\n",
        "print(c.grad)\n",
        "print(b.grad)\n",
        "print(a.grad)"
      ],
      "metadata": {
        "colab": {
          "base_uri": "https://localhost:8080/"
        },
        "id": "iOFuLTXCPa69",
        "outputId": "f023964d-15ad-4850-f9ab-4168b98adbd7"
      },
      "id": "iOFuLTXCPa69",
      "execution_count": 28,
      "outputs": [
        {
          "output_type": "stream",
          "name": "stdout",
          "text": [
            "12.0\n",
            "4.0\n",
            "12.0\n",
            "12.0\n",
            "24.0\n",
            "-36.0\n"
          ]
        }
      ]
    },
    {
      "cell_type": "code",
      "source": [
        "import torch\n",
        "a_t = torch.tensor([2.0], requires_grad=True)\n",
        "b_t = torch.tensor([-3.0], requires_grad=True)\n",
        "c_t = torch.tensor([10.0], requires_grad=True)\n",
        "d_t = torch.tensor([12.0], requires_grad=True)\n",
        "# e_t = a * b\n",
        "# f_t = e + c\n",
        "# L_t = d * f\n",
        "\n",
        "# f.retain_grad()\n",
        "# e.retain_grad()\n",
        "# L.backward()\n",
        "\n",
        "x_t = a_t + b_t + c_t\n",
        "x_t.retain_grad()\n",
        "x_t.backward()\n",
        "\n",
        "print(a_t.grad)\n",
        "print(b_t.grad)\n",
        "print(c_t.grad)\n",
        "print(x_t.grad)\n",
        "# print(b.grad)\n",
        "# print(a.grad)"
      ],
      "metadata": {
        "colab": {
          "base_uri": "https://localhost:8080/"
        },
        "id": "85xiNrRvPeUo",
        "outputId": "5c277edd-57ac-45a7-be21-dbd7555e289d"
      },
      "id": "85xiNrRvPeUo",
      "execution_count": 69,
      "outputs": [
        {
          "output_type": "stream",
          "name": "stdout",
          "text": [
            "tensor([1.])\n",
            "tensor([1.])\n",
            "tensor([1.])\n",
            "tensor([1.])\n"
          ]
        }
      ]
    },
    {
      "cell_type": "code",
      "source": [],
      "metadata": {
        "id": "oMAs11zNeEIX"
      },
      "id": "oMAs11zNeEIX",
      "execution_count": null,
      "outputs": []
    }
  ],
  "metadata": {
    "kernelspec": {
      "display_name": "Python 3 (ipykernel)",
      "language": "python",
      "name": "python3"
    },
    "language_info": {
      "codemirror_mode": {
        "name": "ipython",
        "version": 3
      },
      "file_extension": ".py",
      "mimetype": "text/x-python",
      "name": "python",
      "nbconvert_exporter": "python",
      "pygments_lexer": "ipython3",
      "version": "3.9.12"
    },
    "colab": {
      "provenance": [],
      "toc_visible": true,
      "include_colab_link": true
    }
  },
  "nbformat": 4,
  "nbformat_minor": 5
}